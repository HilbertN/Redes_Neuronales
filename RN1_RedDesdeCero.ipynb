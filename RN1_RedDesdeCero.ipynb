{
  "nbformat": 4,
  "nbformat_minor": 0,
  "metadata": {
    "colab": {
      "provenance": [],
      "authorship_tag": "ABX9TyOy7wzjpH7acakoAqNu+NpK",
      "include_colab_link": true
    },
    "kernelspec": {
      "name": "python3",
      "display_name": "Python 3"
    },
    "language_info": {
      "name": "python"
    }
  },
  "cells": [
    {
      "cell_type": "markdown",
      "metadata": {
        "id": "view-in-github",
        "colab_type": "text"
      },
      "source": [
        "<a href=\"https://colab.research.google.com/github/HilbertN/Redes_Neuronales/blob/main/RN1_RedDesdeCero.ipynb\" target=\"_parent\"><img src=\"https://colab.research.google.com/assets/colab-badge.svg\" alt=\"Open In Colab\"/></a>"
      ]
    },
    {
      "cell_type": "markdown",
      "source": [
        "# Python\n"
      ],
      "metadata": {
        "id": "eQWYvQ4pZ5p_"
      }
    },
    {
      "cell_type": "markdown",
      "source": [
        "## Clases"
      ],
      "metadata": {
        "id": "QNBAcBaC6Q6t"
      }
    },
    {
      "cell_type": "code",
      "execution_count": null,
      "metadata": {
        "id": "CjuJ0wnE6MhH"
      },
      "outputs": [],
      "source": [
        "class Humano:\n",
        "  def __init__(self,edad): #Aquí definimos los atributos del objeto\n",
        "    self.edad=edad\n",
        "\n",
        "#Después definimos los métodos\n",
        "  def hablar(self,mensaje):\n",
        "    print(mensaje )\n"
      ]
    },
    {
      "cell_type": "code",
      "source": [
        "pedro=Humano(26)\n",
        "juan=Humano(30)"
      ],
      "metadata": {
        "id": "PMOWN9uK7CrL"
      },
      "execution_count": null,
      "outputs": []
    },
    {
      "cell_type": "code",
      "source": [
        "print(\"soy pedro y tengo\",pedro.edad,\"de edad\")"
      ],
      "metadata": {
        "colab": {
          "base_uri": "https://localhost:8080/"
        },
        "id": "Myr_i3EB7I1Q",
        "outputId": "fde75c01-e2d6-4c47-f1f3-d8fcd9d5ea66"
      },
      "execution_count": null,
      "outputs": [
        {
          "output_type": "stream",
          "name": "stdout",
          "text": [
            "soy pedro y tengo 26 de edad\n"
          ]
        }
      ]
    },
    {
      "cell_type": "code",
      "source": [
        "juan.hablar('Hola')"
      ],
      "metadata": {
        "colab": {
          "base_uri": "https://localhost:8080/"
        },
        "id": "Du0t3gl_7U-h",
        "outputId": "7e4bfcd9-f333-45bf-ce45-674b7e33c506"
      },
      "execution_count": null,
      "outputs": [
        {
          "output_type": "stream",
          "name": "stdout",
          "text": [
            "Hola\n"
          ]
        }
      ]
    },
    {
      "cell_type": "markdown",
      "source": [
        "## Herencia"
      ],
      "metadata": {
        "id": "nIa0N7Jn7a53"
      }
    },
    {
      "cell_type": "code",
      "source": [
        "#El ingeniero en sistemas y el licenciado de derecho siguen siendo humanos entonces\n",
        "#queremos que tengan los mismos atributos y métodos que tiene la clase humano.\n",
        "\n",
        "class IngSistemas(Humano):\n",
        "  def lenguaje(self,programa):\n",
        "    print(\"voya a programar en\", programa)\n",
        "Pedro=IngSistemas(26)\n",
        "\n",
        "#Si creamos un __init__ especial para la clase Liceciando en derecho entonces\n",
        "#no considera el __init_ de la clase humana, es decir, ya no hereda los atributos\n",
        "#de la clase humana y solo considera los de la subclase.\n",
        "\n",
        "#Observación importante: debemos tener en cuenta que ya no considera los atributos\n",
        "#de la clase Humano, pero sí los métodos entonces si un método hace uso de alguno de\n",
        "#los atributos de esta clase entonces vamos a tener un error.\n",
        "\n",
        "class LicDerecho(Humano):\n",
        "  def __init__(self):\n",
        "    print('Yo te puedo divociar sin firma de tu cónyuge')\n",
        "  def estudiarcaso(self,de):\n",
        "    print(\"debo estudiar el caso de\", de)\n",
        "\n"
      ],
      "metadata": {
        "id": "bTy5hKCR7caX"
      },
      "execution_count": null,
      "outputs": []
    },
    {
      "cell_type": "code",
      "source": [
        "#Observamos que pedro contiene los métodos que tiene la clase humano\n",
        "Pedro.hablar('Hola juan')"
      ],
      "metadata": {
        "colab": {
          "base_uri": "https://localhost:8080/"
        },
        "id": "-IQZi97s9VOj",
        "outputId": "af46acb0-15bf-4214-8e3d-da3c94ba6e00"
      },
      "execution_count": null,
      "outputs": [
        {
          "output_type": "stream",
          "name": "stdout",
          "text": [
            "Hola juan\n"
          ]
        }
      ]
    },
    {
      "cell_type": "code",
      "source": [
        "Juan=LicDerecho()"
      ],
      "metadata": {
        "colab": {
          "base_uri": "https://localhost:8080/"
        },
        "id": "PeisID8q_myG",
        "outputId": "5b8be645-2242-454c-dcf7-327a34ca04b1"
      },
      "execution_count": null,
      "outputs": [
        {
          "output_type": "stream",
          "name": "stdout",
          "text": [
            "Yo te puedo divociar sin firma de tu cónyuge\n"
          ]
        }
      ]
    },
    {
      "cell_type": "markdown",
      "source": [
        "## Herencia múltiple\n"
      ],
      "metadata": {
        "id": "uBtebykIY-PP"
      }
    },
    {
      "cell_type": "code",
      "source": [
        "#Podemos crear una clase que tenga los métodos de dos o más clases de la siguiente forma\n",
        "class Estudioso(IngSistemas,LicDerecho):\n",
        "  pass\n",
        "#Observaciones importantes:\n",
        "#Cuando creamos una clase debe haber métodos, para evitar escribir algun método podemos escribir 'pass'.\n",
        "#Los atributos (método que se forma con __init__) los va a tomar de la primera Clase entonces el orden es importante.\n",
        "#Primero considera las clases que coloca a en parátensis y luego si hay clases de herencia."
      ],
      "metadata": {
        "id": "1Qtb-m5rZA2T"
      },
      "execution_count": null,
      "outputs": []
    },
    {
      "cell_type": "code",
      "source": [
        "Oscar=Estudioso()"
      ],
      "metadata": {
        "colab": {
          "base_uri": "https://localhost:8080/"
        },
        "id": "WE0svnM6aPSx",
        "outputId": "110ee540-17ce-4fb1-abaf-4ffd02fab75b"
      },
      "execution_count": null,
      "outputs": [
        {
          "output_type": "stream",
          "name": "stdout",
          "text": [
            "Yo te puedo divociar sin firma de tu cónyuge\n"
          ]
        }
      ]
    },
    {
      "cell_type": "markdown",
      "source": [
        "# Redes neuronales (Código Clase)"
      ],
      "metadata": {
        "id": "v5fmjeiwbdH5"
      }
    },
    {
      "cell_type": "markdown",
      "source": [
        "Por cierto, cuando describí los datos de MNIST anteriormente, mencioné que estaban divididos en 60,000 imágenes de entrenamiento y 10,000 imágenes de prueba. Esa es la descripción oficial de MNIST. En realidad, vamos a dividir los datos de manera un poco diferente. Dejaremos las imágenes de prueba como están, pero dividiremos el conjunto de entrenamiento de MNIST de 60,000 imágenes en dos partes: un conjunto de 50,000 imágenes que utilizaremos para entrenar nuestra red neuronal, y un conjunto de validación separado de 10,000 imágenes. No utilizaremos los datos de validación en este capítulo, pero más adelante en el libro nos serán útiles para determinar cómo ajustar ciertos hiperparámetros de la red neuronal, como la tasa de aprendizaje, y otros aspectos que no son seleccionados directamente por nuestro algoritmo de aprendizaje. Aunque los datos de validación no formen parte de la especificación original de MNIST, muchas personas utilizan MNIST de esta manera, y el uso de datos de validación es común en las redes neuronales. A partir de ahora, cuando me refiera a los \"datos de entrenamiento de MNIST\", estaré hablando de nuestro conjunto de datos de 50,000 imágenes, no del conjunto original de 60,000 imágenes*."
      ],
      "metadata": {
        "id": "HK_w5rMrcKFf"
      }
    },
    {
      "cell_type": "markdown",
      "source": [
        "Permítanme explicar las características principales del código de las redes neuronales antes de proporcionar el listado completo que se encuentra más abajo. El elemento central es una clase llamada \"Network\" (Red), que utilizamos para representar una red neuronal. Aquí está el código que utilizamos para inicializar un objeto de tipo \"Network\":"
      ],
      "metadata": {
        "id": "dcM5NvoYcnTe"
      }
    },
    {
      "cell_type": "code",
      "source": [
        "import numpy as np\n",
        "class Network(object):\n",
        "\n",
        "    def __init__(self, sizes):\n",
        "        self.num_layers = len(sizes)\n",
        "        self.sizes = sizes\n",
        "        self.biases = [np.random.randn(y, 1) for y in sizes[1:]]\n",
        "        self.weights = [np.random.randn(y, x)\n",
        "                        for x, y in zip(sizes[:-1], sizes[1:])]"
      ],
      "metadata": {
        "id": "u7nLtMf9bbn3"
      },
      "execution_count": null,
      "outputs": []
    },
    {
      "cell_type": "markdown",
      "source": [
        "Los sesgos (biases) y los pesos (weights) en el objeto de la red (Network) se inicializan aleatoriamente, utilizando la función np.random.randn de Numpy para generar distribuciones gaussianas con media 0 y desviación estándar 1. Esta inicialización aleatoria brinda a nuestro algoritmo de descenso de gradiente estocástico un punto de partida. En capítulos posteriores encontraremos mejores formas de inicializar los pesos y sesgos, pero esto servirá por ahora. Es importante destacar que el código de inicialización de la red asume que la primera capa de neuronas es la capa de entrada (input layer) y omite establecer cualquier sesgo para esas neuronas, ya que los sesgos solo se utilizan para calcular las salidas de las capas posteriores."
      ],
      "metadata": {
        "id": "49oJLuJsdeLE"
      }
    },
    {
      "cell_type": "markdown",
      "source": [
        "También es importante señalar que los sesgos (biases) y los pesos (weights) se almacenan como listas de matrices de Numpy. Por ejemplo, net.weights[1] es una matriz de Numpy que almacena los pesos que conectan la segunda y tercera capa de neuronas. (No es la primera y segunda capa, ya que la indexación de listas en Python comienza en 0). Dado que net.weights[1] es bastante largo, simplemente denotemos esa matriz como \"w\". Esta matriz es tal que wjk es el peso para la conexión entre la k-ésima neurona en la segunda capa y la j-ésima neurona en la tercera capa. El ordenamiento de los índices j y k puede parecer extraño; ¿no tendría más sentido intercambiar los índices j y k? La gran ventaja de usar este ordenamiento es que significa que el vector de activaciones de la tercera capa de neuronas es:\n",
        "a′=σ(wa+b).(22)\n",
        "En esta ecuación hay bastante sucediendo, así que vamos a desglosarla pieza por pieza. \"a\" es el vector de activaciones de la segunda capa de neuronas. Para obtener \"a′\", multiplicamos \"a\" por la matriz de pesos \"w\" y sumamos el vector de sesgos \"b\". Luego, aplicamos la función \"σ\" elemento por elemento a cada entrada en el vector \"wa+b\". (Esto se llama vectorizar la función \"σ\").\n"
      ],
      "metadata": {
        "id": "_LdiOwYPeVCt"
      }
    },
    {
      "cell_type": "markdown",
      "source": [
        "Con todo esto en mente, es fácil escribir código para calcular la salida de una instancia de red (Network). Comenzamos definiendo la función sigmoide:"
      ],
      "metadata": {
        "id": "lGn_rP9NeoXz"
      }
    },
    {
      "cell_type": "code",
      "source": [
        "def sigmoid(z):\n",
        "    return 1.0/(1.0+np.exp(-z))"
      ],
      "metadata": {
        "id": "GxHxRYeUerY_"
      },
      "execution_count": null,
      "outputs": []
    },
    {
      "cell_type": "markdown",
      "source": [
        "Ten en cuenta que cuando la entrada \"z\" es un vector o una matriz de Numpy, Numpy aplica automáticamente la función sigmoide elemento por elemento, es decir, en forma vectorizada."
      ],
      "metadata": {
        "id": "E4vKozc5ewL5"
      }
    },
    {
      "cell_type": "markdown",
      "source": [
        "Luego agregamos un método de propagación hacia adelante (feedforward) a la clase Network, que, dado una entrada \"a\" para la red, devuelve la salida correspondiente."
      ],
      "metadata": {
        "id": "9OYQt5pdfIxs"
      }
    },
    {
      "cell_type": "code",
      "source": [
        "  def feedforward(self, a):\n",
        "        \"\"\"Return the output of the network if \"a\" is input.\"\"\"\n",
        "        for b, w in zip(self.biases, self.weights):\n",
        "            a = sigmoid(np.dot(w, a)+b)\n",
        "        return a"
      ],
      "metadata": {
        "id": "oijiwLjcfIVG"
      },
      "execution_count": null,
      "outputs": []
    },
    {
      "cell_type": "code",
      "source": [
        " def SGD(self, training_data, epochs, mini_batch_size, eta,\n",
        "            test_data=None):\n",
        "#Entrena la red neuronal utilizando el descenso de gradiente estocástico en mini lotes.\n",
        "#Los \"training_data\" son una lista de tuplas \"(x, y)\" que representan las entradas de entrenamiento y\n",
        "#las salidas deseadas. Los otros parámetros no opcionales son autoexplicativos. Si se proporciona \"test_data\",\n",
        "#la red será evaluada con respecto a los datos de prueba después de cada época, y se mostrará el progreso parcial.\n",
        "#Esto es útil para hacer un seguimiento del progreso, pero ralentiza las cosas sustancialmente.\n",
        "        if test_data: n_test = len(test_data)\n",
        "        n = len(training_data)\n",
        "        for j in xrange(epochs):\n",
        "            random.shuffle(training_data)\n",
        "            mini_batches = [\n",
        "                training_data[k:k+mini_batch_size]\n",
        "                for k in xrange(0, n, mini_batch_size)]\n",
        "            for mini_batch in mini_batches:\n",
        "                self.update_mini_batch(mini_batch, eta)\n",
        "            if test_data:\n",
        "                print (\"Epoch {0}: {1} / {2}\").format(\n",
        "                    j, self.evaluate(test_data), n_test)\n",
        "            else:\n",
        "                print (\"Epoch {0} complete\").format(j)"
      ],
      "metadata": {
        "id": "WXBQH2gPfvgY"
      },
      "execution_count": null,
      "outputs": []
    },
    {
      "cell_type": "markdown",
      "source": [
        "El código funciona de la siguiente manera. En cada época, comienza aleatoriamente reordenando los datos de entrenamiento y luego los divide en mini lotes del tamaño adecuado. Esta es una forma sencilla de muestrear aleatoriamente los datos de entrenamiento. Luego, para cada mini_lote, aplicamos un solo paso de descenso de gradiente. Esto se hace con el código self.update_mini_batch(mini_lote, eta), que actualiza los pesos y sesgos de la red según una sola iteración del descenso de gradiente, utilizando solo los datos de entrenamiento en el mini_lote. Aquí está el código para el método update_mini_batch:"
      ],
      "metadata": {
        "id": "myrMIAePi9rD"
      }
    },
    {
      "cell_type": "code",
      "source": [
        "    def update_mini_batch(self, mini_batch, eta):\n",
        "        #Actualiza los pesos y sesgos de la red aplicando el descenso de gradiente utilizando\n",
        "        #la retropropagación (backpropagation) en un solo mini lote.\n",
        "        #El \"mini_lote\" es una lista de tuplas \"(x, y)\", y \"eta\" es la tasa de aprendizaje (learning rate).\n",
        "        nabla_b = [np.zeros(b.shape) for b in self.biases]\n",
        "        nabla_w = [np.zeros(w.shape) for w in self.weights]\n",
        "        for x, y in mini_batch:\n",
        "            delta_nabla_b, delta_nabla_w = self.backprop(x, y)\n",
        "            nabla_b = [nb+dnb for nb, dnb in zip(nabla_b, delta_nabla_b)]\n",
        "            nabla_w = [nw+dnw for nw, dnw in zip(nabla_w, delta_nabla_w)]\n",
        "        self.weights = [w-(eta/len(mini_batch))*nw\n",
        "                        for w, nw in zip(self.weights, nabla_w)]\n",
        "        self.biases = [b-(eta/len(mini_batch))*nb\n",
        "                       for b, nb in zip(self.biases, nabla_b)]"
      ],
      "metadata": {
        "id": "ByiGn4pGkn9f"
      },
      "execution_count": null,
      "outputs": []
    },
    {
      "cell_type": "markdown",
      "source": [
        "¿Qué tan bien reconoce el programa los dígitos escritos a mano? Bueno, empecemos por cargar los datos de MNIST. Haré esto utilizando un pequeño programa auxiliar llamado \"mnist_loader.py\", que se describirá a continuación. Ejecutamos los siguientes comandos en una consola de Python:"
      ],
      "metadata": {
        "id": "eqqUKM4Tkncr"
      }
    },
    {
      "cell_type": "code",
      "source": [
        "#import mnist_loader\n",
        "#training_data, validation_data, test_data =  mnist_loader.load_data_wrapper()"
      ],
      "metadata": {
        "id": "5QNRm7pqwHPM"
      },
      "execution_count": null,
      "outputs": []
    },
    {
      "cell_type": "markdown",
      "source": [
        "Después de cargar los datos de MNIST, configuraremos una red neuronal con 30 neuronas ocultas. Hacemos esto después de importar el programa Python mencionado anteriormente, que se llama \"network\"."
      ],
      "metadata": {
        "id": "YNipZzBtwoob"
      }
    },
    {
      "cell_type": "code",
      "source": [
        "#import network --> se importa el network porque se supone que esta en otro archivo de python\n",
        "#net = network.Network([784, 30, 10])"
      ],
      "metadata": {
        "id": "6-uzbiVPwt2T"
      },
      "execution_count": null,
      "outputs": []
    },
    {
      "cell_type": "markdown",
      "source": [
        "Finalmente, utilizaremos el descenso de gradiente estocástico para aprender a partir de los datos de entrenamiento de MNIST durante 30 épocas, con un tamaño de mini lote de 10 y una tasa de aprendizaje de η=3.0."
      ],
      "metadata": {
        "id": "X7nzwY1NxGYp"
      }
    },
    {
      "cell_type": "code",
      "source": [
        "#net.SGD(training_data, 30, 10, 3.0, test_data=test_data)"
      ],
      "metadata": {
        "id": "JB_LUsvfxIDA"
      },
      "execution_count": null,
      "outputs": []
    },
    {
      "cell_type": "markdown",
      "source": [
        "Anteriormente, omití los detalles sobre cómo se cargan los datos de MNIST. Es bastante sencillo. Para completar la información, aquí tienes el código. Las estructuras de datos utilizadas para almacenar los datos de MNIST se describen en las cadenas de documentación; es algo sencillo, tuplas y listas de objetos Numpy ndarray (piensa en ellos como vectores si no estás familiarizado con ndarrays):"
      ],
      "metadata": {
        "id": "jg7dESfYx3M4"
      }
    },
    {
      "cell_type": "markdown",
      "source": [
        "Una librería para cargar los datos de imágenes de MNIST. Para obtener detalles sobre las estructuras de datos que se devuelven, consulta las cadenas de documentación de las funciones \"load_data\" y \"load_data_wrapper\". En la práctica, la función \"load_data_wrapper\" es la que generalmente se llama en nuestro código de red neuronal."
      ],
      "metadata": {
        "id": "AbMnmxS8yO6J"
      }
    },
    {
      "cell_type": "code",
      "source": [
        "import pickle # cPickle Esta libreria ya no esta disponible en python 3, en su lugar esta pickle\n",
        "import gzip\n",
        "import numpy as np"
      ],
      "metadata": {
        "id": "udlHidxoyZgj"
      },
      "execution_count": null,
      "outputs": []
    },
    {
      "cell_type": "markdown",
      "source": [
        "Devuelve los datos de MNIST como una tupla que contiene los datos de entrenamiento, los datos de validación y los datos de prueba.\n",
        "\n",
        "Los \"training_data\" se devuelven como una tupla con dos entradas. La primera entrada contiene las imágenes de entrenamiento reales. Esto es un ndarray de Numpy con 50,000 entradas. Cada entrada es, a su vez, un ndarray de Numpy con 784 valores, que representan los 28 * 28 = 784 píxeles en una sola imagen de MNIST.\n",
        "\n",
        "La segunda entrada en la tupla \"training_data\" es un ndarray de Numpy que contiene 50,000 entradas. Esas entradas son simplemente los valores de los dígitos (0...9) para las imágenes correspondientes contenidas en la primera entrada de la tupla.\n",
        "\n",
        "Los \"validation_data\" y \"test_data\" son similares, excepto que cada uno contiene solo 10,000 imágenes.\n",
        "\n",
        "Este es un buen formato de datos, pero para su uso en redes neuronales, es útil modificar un poco el formato de los \"training_data\". Eso se hace en la función auxiliar \"load_data_wrapper()\", como se muestra a continuación."
      ],
      "metadata": {
        "id": "vbP1xRNdzOWL"
      }
    },
    {
      "cell_type": "code",
      "source": [
        "def load_data():\n",
        "    f = gzip.open('../data/mnist.pkl.gz', 'rb')\n",
        "    training_data, validation_data, test_data = pickle.load(f)# se cambia cPickle.load(f) por pickle.load(f)\n",
        "    f.close()\n",
        "    return (training_data, validation_data, test_data)\n"
      ],
      "metadata": {
        "id": "QFCs5d68y64u"
      },
      "execution_count": null,
      "outputs": []
    },
    {
      "cell_type": "markdown",
      "source": [
        "Devuelve una tupla que contiene (training_data, validation_data, test_data). Está basado en la función \"load_data\", pero el formato es más conveniente para su uso en nuestra implementación de redes neuronales.\n",
        "\n",
        "En particular, \"training_data\" es una lista que contiene 50,000 tuplas (x, y). \"x\" es un ndarray de Numpy de 784 dimensiones que contiene la imagen de entrada. \"y\" es un ndarray de Numpy de 10 dimensiones que representa el vector unitario correspondiente al dígito correcto para \"x\".\n",
        "\n",
        "\"validation_data\" y \"test_data\" son listas que contienen 10,000 tuplas (x, y). En cada caso, \"x\" es un ndarray de Numpy de 784 dimensiones que contiene la imagen de entrada, y \"y\" es la clasificación correspondiente, es decir, los valores de los dígitos (enteros) correspondientes a \"x\".\n",
        "\n",
        "Obviamente, esto significa que estamos utilizando formatos ligeramente diferentes para los datos de entrenamiento y los datos de validación / prueba. Estos formatos resultan ser los más convenientes para su uso en nuestro código de red neuronal."
      ],
      "metadata": {
        "id": "HRkJXzq8zyh-"
      }
    },
    {
      "cell_type": "code",
      "source": [
        "def load_data_wrapper():\n",
        "    tr_d, va_d, te_d = load_data()\n",
        "    training_inputs = [np.reshape(x, (784, 1)) for x in tr_d[0]]\n",
        "    training_results = [vectorized_result(y) for y in tr_d[1]]\n",
        "    training_data = zip(training_inputs, training_results)\n",
        "    validation_inputs = [np.reshape(x, (784, 1)) for x in va_d[0]]\n",
        "    validation_data = zip(validation_inputs, va_d[1])\n",
        "    test_inputs = [np.reshape(x, (784, 1)) for x in te_d[0]]\n",
        "    test_data = zip(test_inputs, te_d[1])\n",
        "    return (training_data, validation_data, test_data)"
      ],
      "metadata": {
        "id": "uoDm-XU_zm-q"
      },
      "execution_count": null,
      "outputs": []
    },
    {
      "cell_type": "markdown",
      "source": [
        "Devuelve un vector unitario de 10 dimensiones con un valor de 1.0 en la posición j-ésima y ceros en las demás posiciones. Esto se utiliza para convertir un dígito (0...9) en una salida deseada correspondiente de la red neuronal."
      ],
      "metadata": {
        "id": "Slpx-5EUz8wk"
      }
    },
    {
      "cell_type": "code",
      "source": [
        "def vectorized_result(j):\n",
        "    e = np.zeros((10, 1))\n",
        "    e[j] = 1.0\n",
        "    return e"
      ],
      "metadata": {
        "id": "ErgRrI74z15X"
      },
      "execution_count": null,
      "outputs": []
    },
    {
      "cell_type": "markdown",
      "source": [
        "Algoritmo completo:"
      ],
      "metadata": {
        "id": "go-oDtknyLrA"
      }
    },
    {
      "cell_type": "code",
      "source": [
        "# %load network.py\n",
        "\n",
        "\"\"\"\n",
        "network.py\n",
        "~~~~~~~~~~\n",
        "IT WORKS\n",
        "\n",
        "A module to implement the stochastic gradient descent learning\n",
        "algorithm for a feedforward neural network.  Gradients are calculated\n",
        "using backpropagation.  Note that I have focused on making the code\n",
        "simple, easily readable, and easily modifiable.  It is not optimized,\n",
        "and omits many desirable features.\n",
        "\"\"\"\n",
        "\n",
        "#### Libraries\n",
        "# Standard library\n",
        "import random\n",
        "import matplotlib.pyplot as plt\n",
        "from matplotlib.animation import FuncAnimation\n",
        "\n",
        "# Third-party libraries\n",
        "import numpy as np\n",
        "\n",
        "class Network(object):\n",
        "\n",
        "    def __init__(self, sizes):\n",
        "        \"\"\"La lista sizes contiene el número de neuronas en las capas\n",
        "        respectivas de la red neuronal. Por ejemplo, si la lista fuera\n",
        "        [2, 3, 1], entonces sería una red de tres capas, con la primera\n",
        "        capa conteniendo 2 neuronas, la segunda capa 3 neuronas y la\n",
        "        tercera capa 1 neurona. Los sesgos (biases) y pesos (weights) de\n",
        "        la red se inicializan de forma aleatoria, utilizando una\n",
        "        distribución Gaussiana con media 0 y varianza 1.\n",
        "        Es importante destacar que se asume que la primera\n",
        "        capa es una capa de entrada y, por convención, no estableceremos\n",
        "        ningún sesgo para esas neuronas, ya que los sesgos solo se\n",
        "        utilizan para calcular las salidas de las capas posteriores.\"\"\"\n",
        "        self.num_layers = len(sizes)\n",
        "        self.sizes = sizes\n",
        "        self.biases = [np.random.randn(y, 1) for y in sizes[1:]]\n",
        "        self.weights = [np.random.randn(y, x)\n",
        "                        for x, y in zip(sizes[:-1], sizes[1:])]\n",
        "\n",
        "    def feedforward(self, a):\n",
        "        \"\"\"Devuelve la salida de la red si a es la entrada.\"\"\"\n",
        "        for b, w in zip(self.biases, self.weights):\n",
        "            a = sigmoid(np.dot(w, a)+b)\n",
        "        return a\n",
        "\n",
        "    def SGD(self, training_data, epochs, mini_batch_size, eta,\n",
        "            test_data=None):\n",
        "        \"\"\"Entrena la red neuronal utilizando el descenso de gradiente\n",
        "        estocástico por lotes pequeños (mini-batch). Los datos de\n",
        "        entrenamiento, representados por la lista de tuplas (x, y),\n",
        "        contienen las entradas de entrenamiento y las salidas deseadas.\n",
        "        Los demás parámetros que no son opcionales son autoexplicativos.\n",
        "        Si se proporciona test_data, entonces la red se evaluará con\n",
        "        respecto a los datos de prueba después de cada época y se\n",
        "        imprimirá el progreso parcial. Esto es útil para hacer un\n",
        "        seguimiento del progreso, pero ralentiza sustancialmente el\n",
        "        proceso. En resumen, esta función entrena la red neuronal\n",
        "        utilizando el método de descenso de gradiente estocástico por\n",
        "        lotes pequeños, ajustando los pesos y sesgos de la red en función\n",
        "        de los datos de entrenamiento proporcionados. Además,\n",
        "        si se proporcionan datos de prueba, se evalúa el rendimiento\n",
        "        de la red en los datos de prueba después de cada época para\n",
        "        realizar un seguimiento de su mejora a lo largo del tiempo.\"\"\"\n",
        "\n",
        "        training_data = list(training_data)\n",
        "        n = len(training_data)\n",
        "\n",
        "        if test_data:\n",
        "            test_data = list(test_data)\n",
        "            n_test = len(test_data)\n",
        "\n",
        "        for j in range(epochs):\n",
        "            random.shuffle(training_data)\n",
        "            mini_batches = [\n",
        "                training_data[k:k+mini_batch_size]\n",
        "                for k in range(0, n, mini_batch_size)]\n",
        "            for mini_batch in mini_batches:\n",
        "                self.update_mini_batch(mini_batch, eta)\n",
        "            if test_data:\n",
        "                print(\"Epoch {} : {} / {}\".format(j,self.evaluate(test_data),n_test))\n",
        "            else:\n",
        "                print(\"Epoch {} complete\".format(j))\n",
        "\n",
        "    def update_mini_batch(self, mini_batch, eta):\n",
        "        \"\"\"Actualiza los pesos y sesgos de la red aplicando el descenso\n",
        "        de gradiente utilizando la retropropagación (backpropagation) a\n",
        "        un solo mini lote. El parámetro mini_batch es una lista de tuplas\n",
        "        (x, y), donde x representa las entradas y y las salidas deseadas\n",
        "        correspondientes a ese mini lote. El parámetro eta representa\n",
        "        la tasa de aprendizaje (learning rate).\n",
        "        \"\"\"\n",
        "        nabla_b = [np.zeros(b.shape) for b in self.biases]\n",
        "        nabla_w = [np.zeros(w.shape) for w in self.weights]\n",
        "        for x, y in mini_batch:\n",
        "            delta_nabla_b, delta_nabla_w = self.backprop(x, y)\n",
        "            nabla_b = [nb+dnb for nb, dnb in zip(nabla_b, delta_nabla_b)]\n",
        "            nabla_w = [nw+dnw for nw, dnw in zip(nabla_w, delta_nabla_w)]\n",
        "        self.weights = [w-(eta/len(mini_batch))*nw\n",
        "                        for w, nw in zip(self.weights, nabla_w)]\n",
        "        self.biases = [b-(eta/len(mini_batch))*nb\n",
        "                       for b, nb in zip(self.biases, nabla_b)]\n",
        "\n",
        "    def backprop(self, x, y):\n",
        "        \"\"\"Devuelve una tupla (nabla_b, nabla_w) que representa el\n",
        "        gradiente para la función de costo C_x. nabla_b y nabla_w son\n",
        "        listas de matrices de numpy, similares a self.biases y self.weights,\n",
        "        pero se refieren al gradiente de la función de costo en relación\n",
        "        con los sesgos y pesos de la red neuronal, respectivamente..\"\"\"\n",
        "        nabla_b = [np.zeros(b.shape) for b in self.biases]\n",
        "        nabla_w = [np.zeros(w.shape) for w in self.weights]\n",
        "        # feedforward\n",
        "        activation = x\n",
        "        activations = [x] # list to store all the activations, layer by layer\n",
        "        zs = [] # list to store all the z vectors, layer by layer\n",
        "        for b, w in zip(self.biases, self.weights):\n",
        "            z = np.dot(w, activation)+b\n",
        "            zs.append(z)\n",
        "            activation = sigmoid(z)\n",
        "            activations.append(activation)\n",
        "        # backward pass\n",
        "        delta = self.cost_derivative(activations[-1], y) * \\\n",
        "            sigmoid_prime(zs[-1])\n",
        "        nabla_b[-1] = delta\n",
        "        nabla_w[-1] = np.dot(delta, activations[-2].transpose())\n",
        "        # Note that the variable l in the loop below is used a little\n",
        "        # differently to the notation in Chapter 2 of the book.  Here,\n",
        "        # l = 1 means the last layer of neurons, l = 2 is the\n",
        "        # second-last layer, and so on.  It's a renumbering of the\n",
        "        # scheme in the book, used here to take advantage of the fact\n",
        "        # that Python can use negative indices in lists.\n",
        "        for l in range(2, self.num_layers):\n",
        "            z = zs[-l]\n",
        "            sp = sigmoid_prime(z)\n",
        "            delta = np.dot(self.weights[-l+1].transpose(), delta) * sp\n",
        "            nabla_b[-l] = delta\n",
        "            nabla_w[-l] = np.dot(delta, activations[-l-1].transpose())\n",
        "        return (nabla_b, nabla_w)\n",
        "\n",
        "    def evaluate(self, test_data):\n",
        "        \"\"\"Devuelve el número de entradas de prueba para las cuales la red\n",
        "        neuronal produce el resultado correcto. Se asume que la salida de\n",
        "        la red neuronal es el índice de la neurona en la capa final que\n",
        "        tiene la mayor activación.\"\"\"\n",
        "        test_results = [(np.argmax(self.feedforward(x)), y)\n",
        "                        for (x, y) in test_data]\n",
        "        return sum(int(x == y) for (x, y) in test_results)\n",
        "\n",
        "    def cost_derivative(self, output_activations, y):\n",
        "        \"\"\"Devolver el vector de derivadas parciales \\partial C_x /\n",
        "        \\partial para las activaciones de salida.\"\"\"\n",
        "        return (output_activations-y)\n",
        "\n",
        "#### Miscellaneous functions\n",
        "def sigmoid(z):\n",
        "    \"\"\"Función sigmoide.\"\"\"\n",
        "    return 1.0/(1.0+np.exp(-z))\n",
        "\n",
        "def sigmoid_prime(z):\n",
        "    \"\"\"Derivada de la función sigmoide.\"\"\"\n",
        "    return sigmoid(z)*(1-sigmoid(z))"
      ],
      "metadata": {
        "id": "4dCdj-oQyNux"
      },
      "execution_count": null,
      "outputs": []
    },
    {
      "cell_type": "markdown",
      "source": [
        "# Probando la red neuronal con el conjunto MNIST"
      ],
      "metadata": {
        "id": "sypaZQC7yWnf"
      }
    },
    {
      "cell_type": "code",
      "source": [
        "import tensorflow as tf\n",
        "from tensorflow import keras\n",
        "from tensorflow.keras.datasets import mnist\n",
        "import numpy as np"
      ],
      "metadata": {
        "id": "s7iCMCV8yK_B"
      },
      "execution_count": null,
      "outputs": []
    },
    {
      "cell_type": "code",
      "source": [
        "dataset=mnist.load_data()\n",
        "dat=np.array(dataset)"
      ],
      "metadata": {
        "colab": {
          "base_uri": "https://localhost:8080/"
        },
        "id": "bGaC1aGK2I3S",
        "outputId": "ed9671f6-3c96-4c8c-a67d-8b43c9d33bfc"
      },
      "execution_count": null,
      "outputs": [
        {
          "output_type": "stream",
          "name": "stderr",
          "text": [
            "<ipython-input-4-84c6aeb0d13b>:2: VisibleDeprecationWarning: Creating an ndarray from ragged nested sequences (which is a list-or-tuple of lists-or-tuples-or ndarrays with different lengths or shapes) is deprecated. If you meant to do this, you must specify 'dtype=object' when creating the ndarray.\n",
            "  dat=np.array(dataset)\n"
          ]
        }
      ]
    },
    {
      "cell_type": "code",
      "source": [
        "type(dataset)"
      ],
      "metadata": {
        "colab": {
          "base_uri": "https://localhost:8080/"
        },
        "id": "rHRIDHC5V7EC",
        "outputId": "74f5aa09-994e-4d82-e6ac-052585804d70"
      },
      "execution_count": null,
      "outputs": [
        {
          "output_type": "execute_result",
          "data": {
            "text/plain": [
              "tuple"
            ]
          },
          "metadata": {},
          "execution_count": 111
        }
      ]
    },
    {
      "cell_type": "code",
      "source": [
        "type(dat)"
      ],
      "metadata": {
        "colab": {
          "base_uri": "https://localhost:8080/"
        },
        "id": "xZp-vx0_5WCR",
        "outputId": "f920ad61-d0c7-4a27-b207-f824b83bfabb"
      },
      "execution_count": null,
      "outputs": [
        {
          "output_type": "execute_result",
          "data": {
            "text/plain": [
              "numpy.ndarray"
            ]
          },
          "metadata": {},
          "execution_count": 46
        }
      ]
    },
    {
      "cell_type": "code",
      "source": [
        "#El primer elemento es de la forma (primer elemento, segundo elemento)\n",
        "#dataset[0]\n"
      ],
      "metadata": {
        "id": "i6ZkvjiU5BxG"
      },
      "execution_count": null,
      "outputs": []
    },
    {
      "cell_type": "code",
      "source": [
        "dat.shape #Una matriz con dos filas y dos columnas ¿Pero qué hay en cada celda?,\n",
        "# [[primer elemento,segundo elemento],[tercer elemento,cuarto elemento]]"
      ],
      "metadata": {
        "colab": {
          "base_uri": "https://localhost:8080/"
        },
        "id": "gFlPxSUJ2lYI",
        "outputId": "bdf924aa-30a4-455d-c7b1-4c5895ad9f11"
      },
      "execution_count": null,
      "outputs": [
        {
          "output_type": "execute_result",
          "data": {
            "text/plain": [
              "(2, 2)"
            ]
          },
          "metadata": {},
          "execution_count": 26
        }
      ]
    },
    {
      "cell_type": "code",
      "source": [
        "dat[0,0].shape# primer elemento contiene 60,000 matrices de 28x28"
      ],
      "metadata": {
        "colab": {
          "base_uri": "https://localhost:8080/"
        },
        "id": "ukl39YfVUVf0",
        "outputId": "5e51a486-c0b4-4d58-f2a6-8a654001bb2f"
      },
      "execution_count": null,
      "outputs": [
        {
          "output_type": "execute_result",
          "data": {
            "text/plain": [
              "(60000, 28, 28)"
            ]
          },
          "metadata": {},
          "execution_count": 107
        }
      ]
    },
    {
      "cell_type": "code",
      "source": [
        "dat[0,1].shape#segundo elemento contiene un vector de 60,000 elementos\n",
        "#indica númericamente el digito que representa cada matriz"
      ],
      "metadata": {
        "colab": {
          "base_uri": "https://localhost:8080/"
        },
        "id": "ESaeKyUFVVik",
        "outputId": "48b22c37-ad82-4428-f3c8-8238ad87e801"
      },
      "execution_count": null,
      "outputs": [
        {
          "output_type": "execute_result",
          "data": {
            "text/plain": [
              "(60000,)"
            ]
          },
          "metadata": {},
          "execution_count": 108
        }
      ]
    },
    {
      "cell_type": "code",
      "source": [
        "#contiene lo mismo que dat[0,0] y dat[0,1], pero con 10,000 elementos\n",
        "dat[1,0].shape\n",
        "dat[1,1].shape"
      ],
      "metadata": {
        "colab": {
          "base_uri": "https://localhost:8080/"
        },
        "id": "IMZaBJf3Vq1o",
        "outputId": "8971db86-1cb4-476b-c8c0-142c5ce5241d"
      },
      "execution_count": null,
      "outputs": [
        {
          "output_type": "execute_result",
          "data": {
            "text/plain": [
              "(10000,)"
            ]
          },
          "metadata": {},
          "execution_count": 110
        }
      ]
    },
    {
      "cell_type": "code",
      "source": [
        "len(dataset)#Un tupla con dos elementos"
      ],
      "metadata": {
        "colab": {
          "base_uri": "https://localhost:8080/"
        },
        "id": "mPK9I6c0V2eX",
        "outputId": "aafdaf42-b49d-4cdf-ba3a-b7712dbc7dbd"
      },
      "execution_count": null,
      "outputs": [
        {
          "output_type": "execute_result",
          "data": {
            "text/plain": [
              "2"
            ]
          },
          "metadata": {},
          "execution_count": 116
        }
      ]
    },
    {
      "cell_type": "code",
      "source": [
        "#El primer elemento es una tupla que contiene como primer elemento el conjunto de matrices\n",
        "#y como segundo elemento el vector con digitos de los 60,000 elementos\n",
        "#dataset[0]\n",
        "#igual para el segundo elemento de la tupla, pero con 10,000 elementos\n",
        "#dataset[1]\n"
      ],
      "metadata": {
        "id": "T9jmIMbFWQbk"
      },
      "execution_count": null,
      "outputs": []
    },
    {
      "cell_type": "code",
      "source": [
        "(x_train,y_train),(x_test,y_test)=dataset"
      ],
      "metadata": {
        "id": "vrEhaoZ2W1aE"
      },
      "execution_count": null,
      "outputs": []
    },
    {
      "cell_type": "code",
      "source": [
        "def vectorized_result(j):\n",
        "    e = np.zeros((10, 1))\n",
        "    e[j] = 1.0\n",
        "    return e"
      ],
      "metadata": {
        "id": "0GUocggDuwab"
      },
      "execution_count": null,
      "outputs": []
    },
    {
      "cell_type": "code",
      "source": [
        "x_train=[np.reshape(k,(784,1)) for k in x_train]\n",
        "y_train=[vectorized_result(k) for k in y_train]\n",
        "X_train=zip(x_train,y_train)\n",
        "x_test=[np.reshape(k,(784,1)) for k in x_test]\n",
        "X_test=zip(x_test,y_test)"
      ],
      "metadata": {
        "id": "kTZR6AyxXCtx"
      },
      "execution_count": null,
      "outputs": []
    },
    {
      "cell_type": "code",
      "source": [
        "rd1=Network([784,30,10])\n",
        "rd1.SGD(X_train,30,10,0.1,X_test)"
      ],
      "metadata": {
        "colab": {
          "base_uri": "https://localhost:8080/",
          "height": 573
        },
        "id": "7bnBxXW-XyXS",
        "outputId": "8acb0775-04a2-4e77-abb5-dc5f0a39b9e8"
      },
      "execution_count": null,
      "outputs": [
        {
          "output_type": "stream",
          "name": "stderr",
          "text": [
            "<ipython-input-34-67331d1b2f79>:160: RuntimeWarning: overflow encountered in exp\n",
            "  return 1.0/(1.0+np.exp(-z))\n"
          ]
        },
        {
          "output_type": "stream",
          "name": "stdout",
          "text": [
            "Epoch 0 : 3282 / 10000\n",
            "Epoch 1 : 4784 / 10000\n",
            "Epoch 2 : 6202 / 10000\n",
            "Epoch 3 : 7270 / 10000\n",
            "Epoch 4 : 7433 / 10000\n",
            "Epoch 5 : 7307 / 10000\n",
            "Epoch 6 : 7752 / 10000\n",
            "Epoch 7 : 7698 / 10000\n",
            "Epoch 8 : 7895 / 10000\n",
            "Epoch 9 : 7793 / 10000\n",
            "Epoch 10 : 7748 / 10000\n",
            "Epoch 11 : 7483 / 10000\n",
            "Epoch 12 : 7761 / 10000\n",
            "Epoch 13 : 8153 / 10000\n",
            "Epoch 14 : 7927 / 10000\n"
          ]
        },
        {
          "output_type": "error",
          "ename": "KeyboardInterrupt",
          "evalue": "ignored",
          "traceback": [
            "\u001b[0;31m---------------------------------------------------------------------------\u001b[0m",
            "\u001b[0;31mKeyboardInterrupt\u001b[0m                         Traceback (most recent call last)",
            "\u001b[0;32m<ipython-input-38-0f365a24f06f>\u001b[0m in \u001b[0;36m<cell line: 2>\u001b[0;34m()\u001b[0m\n\u001b[1;32m      1\u001b[0m \u001b[0mrd1\u001b[0m\u001b[0;34m=\u001b[0m\u001b[0mNetwork\u001b[0m\u001b[0;34m(\u001b[0m\u001b[0;34m[\u001b[0m\u001b[0;36m784\u001b[0m\u001b[0;34m,\u001b[0m\u001b[0;36m30\u001b[0m\u001b[0;34m,\u001b[0m\u001b[0;36m10\u001b[0m\u001b[0;34m]\u001b[0m\u001b[0;34m)\u001b[0m\u001b[0;34m\u001b[0m\u001b[0;34m\u001b[0m\u001b[0m\n\u001b[0;32m----> 2\u001b[0;31m \u001b[0mrd1\u001b[0m\u001b[0;34m.\u001b[0m\u001b[0mSGD\u001b[0m\u001b[0;34m(\u001b[0m\u001b[0mX_train\u001b[0m\u001b[0;34m,\u001b[0m\u001b[0;36m30\u001b[0m\u001b[0;34m,\u001b[0m\u001b[0;36m10\u001b[0m\u001b[0;34m,\u001b[0m\u001b[0;36m0.1\u001b[0m\u001b[0;34m,\u001b[0m\u001b[0mX_test\u001b[0m\u001b[0;34m)\u001b[0m\u001b[0;34m\u001b[0m\u001b[0;34m\u001b[0m\u001b[0m\n\u001b[0m",
            "\u001b[0;32m<ipython-input-34-67331d1b2f79>\u001b[0m in \u001b[0;36mSGD\u001b[0;34m(self, training_data, epochs, mini_batch_size, eta, test_data)\u001b[0m\n\u001b[1;32m     80\u001b[0m                 for k in range(0, n, mini_batch_size)]\n\u001b[1;32m     81\u001b[0m             \u001b[0;32mfor\u001b[0m \u001b[0mmini_batch\u001b[0m \u001b[0;32min\u001b[0m \u001b[0mmini_batches\u001b[0m\u001b[0;34m:\u001b[0m\u001b[0;34m\u001b[0m\u001b[0;34m\u001b[0m\u001b[0m\n\u001b[0;32m---> 82\u001b[0;31m                 \u001b[0mself\u001b[0m\u001b[0;34m.\u001b[0m\u001b[0mupdate_mini_batch\u001b[0m\u001b[0;34m(\u001b[0m\u001b[0mmini_batch\u001b[0m\u001b[0;34m,\u001b[0m \u001b[0meta\u001b[0m\u001b[0;34m)\u001b[0m\u001b[0;34m\u001b[0m\u001b[0;34m\u001b[0m\u001b[0m\n\u001b[0m\u001b[1;32m     83\u001b[0m             \u001b[0;32mif\u001b[0m \u001b[0mtest_data\u001b[0m\u001b[0;34m:\u001b[0m\u001b[0;34m\u001b[0m\u001b[0;34m\u001b[0m\u001b[0m\n\u001b[1;32m     84\u001b[0m                 \u001b[0mprint\u001b[0m\u001b[0;34m(\u001b[0m\u001b[0;34m\"Epoch {} : {} / {}\"\u001b[0m\u001b[0;34m.\u001b[0m\u001b[0mformat\u001b[0m\u001b[0;34m(\u001b[0m\u001b[0mj\u001b[0m\u001b[0;34m,\u001b[0m\u001b[0mself\u001b[0m\u001b[0;34m.\u001b[0m\u001b[0mevaluate\u001b[0m\u001b[0;34m(\u001b[0m\u001b[0mtest_data\u001b[0m\u001b[0;34m)\u001b[0m\u001b[0;34m,\u001b[0m\u001b[0mn_test\u001b[0m\u001b[0;34m)\u001b[0m\u001b[0;34m)\u001b[0m\u001b[0;34m\u001b[0m\u001b[0;34m\u001b[0m\u001b[0m\n",
            "\u001b[0;32m<ipython-input-34-67331d1b2f79>\u001b[0m in \u001b[0;36mupdate_mini_batch\u001b[0;34m(self, mini_batch, eta)\u001b[0m\n\u001b[1;32m     97\u001b[0m         \u001b[0mnabla_w\u001b[0m \u001b[0;34m=\u001b[0m \u001b[0;34m[\u001b[0m\u001b[0mnp\u001b[0m\u001b[0;34m.\u001b[0m\u001b[0mzeros\u001b[0m\u001b[0;34m(\u001b[0m\u001b[0mw\u001b[0m\u001b[0;34m.\u001b[0m\u001b[0mshape\u001b[0m\u001b[0;34m)\u001b[0m \u001b[0;32mfor\u001b[0m \u001b[0mw\u001b[0m \u001b[0;32min\u001b[0m \u001b[0mself\u001b[0m\u001b[0;34m.\u001b[0m\u001b[0mweights\u001b[0m\u001b[0;34m]\u001b[0m\u001b[0;34m\u001b[0m\u001b[0;34m\u001b[0m\u001b[0m\n\u001b[1;32m     98\u001b[0m         \u001b[0;32mfor\u001b[0m \u001b[0mx\u001b[0m\u001b[0;34m,\u001b[0m \u001b[0my\u001b[0m \u001b[0;32min\u001b[0m \u001b[0mmini_batch\u001b[0m\u001b[0;34m:\u001b[0m\u001b[0;34m\u001b[0m\u001b[0;34m\u001b[0m\u001b[0m\n\u001b[0;32m---> 99\u001b[0;31m             \u001b[0mdelta_nabla_b\u001b[0m\u001b[0;34m,\u001b[0m \u001b[0mdelta_nabla_w\u001b[0m \u001b[0;34m=\u001b[0m \u001b[0mself\u001b[0m\u001b[0;34m.\u001b[0m\u001b[0mbackprop\u001b[0m\u001b[0;34m(\u001b[0m\u001b[0mx\u001b[0m\u001b[0;34m,\u001b[0m \u001b[0my\u001b[0m\u001b[0;34m)\u001b[0m\u001b[0;34m\u001b[0m\u001b[0;34m\u001b[0m\u001b[0m\n\u001b[0m\u001b[1;32m    100\u001b[0m             \u001b[0mnabla_b\u001b[0m \u001b[0;34m=\u001b[0m \u001b[0;34m[\u001b[0m\u001b[0mnb\u001b[0m\u001b[0;34m+\u001b[0m\u001b[0mdnb\u001b[0m \u001b[0;32mfor\u001b[0m \u001b[0mnb\u001b[0m\u001b[0;34m,\u001b[0m \u001b[0mdnb\u001b[0m \u001b[0;32min\u001b[0m \u001b[0mzip\u001b[0m\u001b[0;34m(\u001b[0m\u001b[0mnabla_b\u001b[0m\u001b[0;34m,\u001b[0m \u001b[0mdelta_nabla_b\u001b[0m\u001b[0;34m)\u001b[0m\u001b[0;34m]\u001b[0m\u001b[0;34m\u001b[0m\u001b[0;34m\u001b[0m\u001b[0m\n\u001b[1;32m    101\u001b[0m             \u001b[0mnabla_w\u001b[0m \u001b[0;34m=\u001b[0m \u001b[0;34m[\u001b[0m\u001b[0mnw\u001b[0m\u001b[0;34m+\u001b[0m\u001b[0mdnw\u001b[0m \u001b[0;32mfor\u001b[0m \u001b[0mnw\u001b[0m\u001b[0;34m,\u001b[0m \u001b[0mdnw\u001b[0m \u001b[0;32min\u001b[0m \u001b[0mzip\u001b[0m\u001b[0;34m(\u001b[0m\u001b[0mnabla_w\u001b[0m\u001b[0;34m,\u001b[0m \u001b[0mdelta_nabla_w\u001b[0m\u001b[0;34m)\u001b[0m\u001b[0;34m]\u001b[0m\u001b[0;34m\u001b[0m\u001b[0;34m\u001b[0m\u001b[0m\n",
            "\u001b[0;32m<ipython-input-34-67331d1b2f79>\u001b[0m in \u001b[0;36mbackprop\u001b[0;34m(self, x, y)\u001b[0m\n\u001b[1;32m    118\u001b[0m         \u001b[0mzs\u001b[0m \u001b[0;34m=\u001b[0m \u001b[0;34m[\u001b[0m\u001b[0;34m]\u001b[0m \u001b[0;31m# list to store all the z vectors, layer by layer\u001b[0m\u001b[0;34m\u001b[0m\u001b[0;34m\u001b[0m\u001b[0m\n\u001b[1;32m    119\u001b[0m         \u001b[0;32mfor\u001b[0m \u001b[0mb\u001b[0m\u001b[0;34m,\u001b[0m \u001b[0mw\u001b[0m \u001b[0;32min\u001b[0m \u001b[0mzip\u001b[0m\u001b[0;34m(\u001b[0m\u001b[0mself\u001b[0m\u001b[0;34m.\u001b[0m\u001b[0mbiases\u001b[0m\u001b[0;34m,\u001b[0m \u001b[0mself\u001b[0m\u001b[0;34m.\u001b[0m\u001b[0mweights\u001b[0m\u001b[0;34m)\u001b[0m\u001b[0;34m:\u001b[0m\u001b[0;34m\u001b[0m\u001b[0;34m\u001b[0m\u001b[0m\n\u001b[0;32m--> 120\u001b[0;31m             \u001b[0mz\u001b[0m \u001b[0;34m=\u001b[0m \u001b[0mnp\u001b[0m\u001b[0;34m.\u001b[0m\u001b[0mdot\u001b[0m\u001b[0;34m(\u001b[0m\u001b[0mw\u001b[0m\u001b[0;34m,\u001b[0m \u001b[0mactivation\u001b[0m\u001b[0;34m)\u001b[0m\u001b[0;34m+\u001b[0m\u001b[0mb\u001b[0m\u001b[0;34m\u001b[0m\u001b[0;34m\u001b[0m\u001b[0m\n\u001b[0m\u001b[1;32m    121\u001b[0m             \u001b[0mzs\u001b[0m\u001b[0;34m.\u001b[0m\u001b[0mappend\u001b[0m\u001b[0;34m(\u001b[0m\u001b[0mz\u001b[0m\u001b[0;34m)\u001b[0m\u001b[0;34m\u001b[0m\u001b[0;34m\u001b[0m\u001b[0m\n\u001b[1;32m    122\u001b[0m             \u001b[0mactivation\u001b[0m \u001b[0;34m=\u001b[0m \u001b[0msigmoid\u001b[0m\u001b[0;34m(\u001b[0m\u001b[0mz\u001b[0m\u001b[0;34m)\u001b[0m\u001b[0;34m\u001b[0m\u001b[0;34m\u001b[0m\u001b[0m\n",
            "\u001b[0;32m/usr/local/lib/python3.10/dist-packages/numpy/core/overrides.py\u001b[0m in \u001b[0;36mdot\u001b[0;34m(*args, **kwargs)\u001b[0m\n",
            "\u001b[0;31mKeyboardInterrupt\u001b[0m: "
          ]
        }
      ]
    },
    {
      "cell_type": "markdown",
      "source": [
        "# Probando red neuronal con nuevo optimizador, función softmax y Cross-Entropy"
      ],
      "metadata": {
        "id": "6K3OTtxBYnt_"
      }
    },
    {
      "cell_type": "markdown",
      "source": [
        "Código de red con optimizador RMs Prop"
      ],
      "metadata": {
        "id": "1VGKcMuXY9dn"
      }
    },
    {
      "cell_type": "code",
      "source": [
        "#### Libraries\n",
        "# Standard library\n",
        "import random\n",
        "import matplotlib.pyplot as plt\n",
        "from matplotlib.animation import FuncAnimation\n",
        "\n",
        "# Third-party libraries\n",
        "import numpy as np\n",
        "\n",
        "class Network1(object):\n",
        "\n",
        "    def __init__(self, sizes,beta):\n",
        "        \"\"\"La lista sizes contiene el número de neuronas en las capas\n",
        "        respectivas de la red neuronal. Por ejemplo, si la lista fuera\n",
        "        [2, 3, 1], entonces sería una red de tres capas, con la primera\n",
        "        capa conteniendo 2 neuronas, la segunda capa 3 neuronas y la\n",
        "        tercera capa 1 neurona. Los sesgos (biases) y pesos (weights) de\n",
        "        la red se inicializan de forma aleatoria, utilizando una\n",
        "        distribución Gaussiana con media 0 y varianza 1.\n",
        "        Es importante destacar que se asume que la primera\n",
        "        capa es una capa de entrada y, por convención, no estableceremos\n",
        "        ningún sesgo para esas neuronas, ya que los sesgos solo se\n",
        "        utilizan para calcular las salidas de las capas posteriores.\"\"\"\n",
        "        self.num_layers = len(sizes)\n",
        "        self.sizes = sizes\n",
        "        self.beta=beta\n",
        "        self.biases = [np.random.randn(y, 1) for y in sizes[1:]]\n",
        "        self.weights = [np.random.randn(y, x)\n",
        "                        for x, y in zip(sizes[:-1], sizes[1:])]\n",
        "\n",
        "    def feedforward(self, a):\n",
        "        \"\"\"Devuelve la salida de la red si a es la entrada.\"\"\"\n",
        "        for b, w in zip(self.biases, self.weights):\n",
        "            a = sigmoid(np.dot(w, a)+b)\n",
        "        return a\n",
        "\n",
        "    def SGD(self, training_data, epochs, mini_batch_size, eta,\n",
        "            test_data=None):\n",
        "        \"\"\"Entrena la red neuronal utilizando el descenso de gradiente\n",
        "        estocástico por lotes pequeños (mini-batch). Los datos de\n",
        "        entrenamiento, representados por la lista de tuplas (x, y),\n",
        "        contienen las entradas de entrenamiento y las salidas deseadas.\n",
        "        Los demás parámetros que no son opcionales son autoexplicativos.\n",
        "        Si se proporciona test_data, entonces la red se evaluará con\n",
        "        respecto a los datos de prueba después de cada época y se\n",
        "        imprimirá el progreso parcial. Esto es útil para hacer un\n",
        "        seguimiento del progreso, pero ralentiza sustancialmente el\n",
        "        proceso. En resumen, esta función entrena la red neuronal\n",
        "        utilizando el método de descenso de gradiente estocástico por\n",
        "        lotes pequeños, ajustando los pesos y sesgos de la red en función\n",
        "        de los datos de entrenamiento proporcionados. Además,\n",
        "        si se proporcionan datos de prueba, se evalúa el rendimiento\n",
        "        de la red en los datos de prueba después de cada época para\n",
        "        realizar un seguimiento de su mejora a lo largo del tiempo.\"\"\"\n",
        "\n",
        "        training_data = list(training_data)\n",
        "        n = len(training_data)\n",
        "\n",
        "        if test_data:\n",
        "            test_data = list(test_data)\n",
        "            n_test = len(test_data)\n",
        "\n",
        "        for j in range(epochs):\n",
        "            random.shuffle(training_data)\n",
        "            mini_batches = [\n",
        "                training_data[k:k+mini_batch_size]\n",
        "                for k in range(0, n, mini_batch_size)]\n",
        "            for mini_batch in mini_batches:\n",
        "                self.update_mini_batch(mini_batch, eta)\n",
        "            if test_data:\n",
        "                print(\"Epoch {} : {} / {}\".format(j,self.evaluate(test_data),n_test))\n",
        "            else:\n",
        "                print(\"Epoch {} complete\".format(j))\n",
        "\n",
        "    def update_mini_batch(self, mini_batch, eta):\n",
        "        \"\"\"Actualiza los pesos y sesgos de la red aplicando el descenso\n",
        "        de gradiente utilizando la retropropagación (backpropagation) a\n",
        "        un solo mini lote. El parámetro mini_batch es una lista de tuplas\n",
        "        (x, y), donde x representa las entradas y y las salidas deseadas\n",
        "        correspondientes a ese mini lote. El parámetro eta representa\n",
        "        la tasa de aprendizaje (learning rate).\n",
        "        \"\"\"\n",
        "        e=10**-9\n",
        "        g_2_b = [np.zeros(b.shape) for b in self.biases]\n",
        "        g_2_w = [np.zeros(w.shape) for w in self.weights]\n",
        "        nabla_b = [np.zeros(b.shape) for b in self.biases]\n",
        "        nabla_w = [np.zeros(w.shape) for w in self.weights]\n",
        "        for x, y in mini_batch:\n",
        "            delta_nabla_b, delta_nabla_w = self.backprop(x, y)\n",
        "            nabla_b = [nb+dnb for nb, dnb in zip(nabla_b, delta_nabla_b)]\n",
        "            nabla_w = [nw+dnw for nw, dnw in zip(nabla_w, delta_nabla_w)]\n",
        "        nabla_b_2=[np.square(k) for k in nabla_b]\n",
        "        nabla_w_2=[np.square(k) for k in nabla_w]\n",
        "        g_2_b=[self.beta*i+(1-self.beta)*j for i,j in zip(g_2_b,nabla_b_2)]\n",
        "        g_2_w=[self.beta*i+(1-self.beta)*j for i,j in zip(g_2_w,nabla_w_2)]\n",
        "        d_b=[np.sqrt(ib+np.full(ib.shape,e)) for ib in g_2_b]\n",
        "        d_w=[np.sqrt(iw+np.full(iw.shape,e)) for iw in g_2_w]\n",
        "\n",
        "        self.weights = [w-eta*(nw/dw)\n",
        "                        for w, dw,nw in zip(self.weights, d_w,nabla_w)]\n",
        "        self.biases = [b-eta*(nb/db)\n",
        "                       for b, db, nb in zip(self.biases,d_b, nabla_b)]\n",
        "\n",
        "\n",
        "\n",
        "    def backprop(self, x, y):\n",
        "        \"\"\"Devuelve una tupla (nabla_b, nabla_w) que representa el\n",
        "        gradiente para la función de costo C_x. nabla_b y nabla_w son\n",
        "        listas de matrices de numpy, similares a self.biases y self.weights,\n",
        "        pero se refieren al gradiente de la función de costo en relación\n",
        "        con los sesgos y pesos de la red neuronal, respectivamente..\"\"\"\n",
        "        nabla_b = [np.zeros(b.shape) for b in self.biases]\n",
        "        nabla_w = [np.zeros(w.shape) for w in self.weights]\n",
        "        # feedforward\n",
        "        activation = x\n",
        "        activations = [x] # list to store all the activations, layer by layer\n",
        "        zs = [] # list to store all the z vectors, layer by layer\n",
        "        for b, w in zip(self.biases, self.weights):\n",
        "            z = np.dot(w, activation)+b\n",
        "            zs.append(z)\n",
        "            activation = sigmoid(z)\n",
        "            activations.append(activation)\n",
        "        # backward pass\n",
        "        delta = self.cost_derivative(activations[-1], y) * \\\n",
        "            sigmoid_prime(zs[-1])\n",
        "        nabla_b[-1] = delta\n",
        "        nabla_w[-1] = np.dot(delta, activations[-2].transpose())\n",
        "        # Note that the variable l in the loop below is used a little\n",
        "        # differently to the notation in Chapter 2 of the book.  Here,\n",
        "        # l = 1 means the last layer of neurons, l = 2 is the\n",
        "        # second-last layer, and so on.  It's a renumbering of the\n",
        "        # scheme in the book, used here to take advantage of the fact\n",
        "        # that Python can use negative indices in lists.\n",
        "        for l in range(2, self.num_layers):\n",
        "            z = zs[-l]\n",
        "            sp = sigmoid_prime(z)\n",
        "            delta = np.dot(self.weights[-l+1].transpose(), delta) * sp\n",
        "            nabla_b[-l] = delta\n",
        "            nabla_w[-l] = np.dot(delta, activations[-l-1].transpose())\n",
        "        return (nabla_b, nabla_w)\n",
        "\n",
        "    def evaluate(self, test_data):\n",
        "        \"\"\"Devuelve el número de entradas de prueba para las cuales la red\n",
        "        neuronal produce el resultado correcto. Se asume que la salida de\n",
        "        la red neuronal es el índice de la neurona en la capa final que\n",
        "        tiene la mayor activación.\"\"\"\n",
        "        test_results = [(np.argmax(self.feedforward(x)), y)\n",
        "                        for (x, y) in test_data]\n",
        "        return sum(int(x == y) for (x, y) in test_results)\n",
        "\n",
        "    def cost_derivative(self, output_activations, y):\n",
        "        \"\"\"Devolver el vector de derivadas parciales \\partial C_x /\n",
        "        \\partial para las activaciones de salida.\"\"\"\n",
        "        return (output_activations-y)\n",
        "\n",
        "#### Miscellaneous functions\n",
        "def sigmoid(z):\n",
        "    \"\"\"Función sigmoide.\"\"\"\n",
        "    return 1.0/(1.0+np.exp(-z))\n",
        "\n",
        "def sigmoid_prime(z):\n",
        "    \"\"\"Derivada de la función sigmoide.\"\"\"\n",
        "    return sigmoid(z)*(1-sigmoid(z))"
      ],
      "metadata": {
        "id": "xs2Vm6asY1Fy"
      },
      "execution_count": null,
      "outputs": []
    },
    {
      "cell_type": "code",
      "source": [
        "rd1=Network1([784,30,10],0.1)\n",
        "rd1.SGD(X_train,30,10,0.1,X_test)"
      ],
      "metadata": {
        "colab": {
          "base_uri": "https://localhost:8080/"
        },
        "id": "8pHhqcW2Nc6w",
        "outputId": "80a9c8ef-114e-4390-86c0-1f9ba6994aa8"
      },
      "execution_count": null,
      "outputs": [
        {
          "output_type": "stream",
          "name": "stderr",
          "text": [
            "<ipython-input-9-6a40b9ba6867>:159: RuntimeWarning: overflow encountered in exp\n",
            "  return 1.0/(1.0+np.exp(-z))\n"
          ]
        },
        {
          "output_type": "stream",
          "name": "stdout",
          "text": [
            "Epoch 0 : 6062 / 10000\n",
            "Epoch 1 : 6920 / 10000\n",
            "Epoch 2 : 7731 / 10000\n",
            "Epoch 3 : 7702 / 10000\n",
            "Epoch 4 : 7682 / 10000\n",
            "Epoch 5 : 7736 / 10000\n",
            "Epoch 6 : 8032 / 10000\n",
            "Epoch 7 : 7937 / 10000\n",
            "Epoch 8 : 7734 / 10000\n",
            "Epoch 9 : 7633 / 10000\n",
            "Epoch 10 : 8113 / 10000\n",
            "Epoch 11 : 8067 / 10000\n",
            "Epoch 12 : 8182 / 10000\n",
            "Epoch 13 : 8273 / 10000\n",
            "Epoch 14 : 8242 / 10000\n",
            "Epoch 15 : 8355 / 10000\n",
            "Epoch 16 : 8415 / 10000\n",
            "Epoch 17 : 8473 / 10000\n",
            "Epoch 18 : 8390 / 10000\n",
            "Epoch 19 : 8456 / 10000\n",
            "Epoch 20 : 8503 / 10000\n",
            "Epoch 21 : 8531 / 10000\n",
            "Epoch 22 : 8475 / 10000\n",
            "Epoch 23 : 8504 / 10000\n",
            "Epoch 24 : 8387 / 10000\n",
            "Epoch 25 : 8577 / 10000\n",
            "Epoch 26 : 8646 / 10000\n",
            "Epoch 27 : 8608 / 10000\n",
            "Epoch 28 : 8565 / 10000\n",
            "Epoch 29 : 8707 / 10000\n"
          ]
        }
      ]
    },
    {
      "cell_type": "markdown",
      "source": [
        "Función de costo Cross-Entropy y función de activación softmax en última capa, y en las demás una función sigmoide"
      ],
      "metadata": {
        "id": "kcr0Ifi5JuK6"
      }
    },
    {
      "cell_type": "code",
      "source": [
        "class Network2(object):\n",
        "\n",
        "    def __init__(self, sizes):\n",
        "        \"\"\"La lista sizes contiene el número de neuronas en las capas\n",
        "        respectivas de la red neuronal. Por ejemplo, si la lista fuera\n",
        "        [2, 3, 1], entonces sería una red de tres capas, con la primera\n",
        "        capa conteniendo 2 neuronas, la segunda capa 3 neuronas y la\n",
        "        tercera capa 1 neurona. Los sesgos (biases) y pesos (weights) de\n",
        "        la red se inicializan de forma aleatoria, utilizando una\n",
        "        distribución Gaussiana con media 0 y varianza 1.\n",
        "        Es importante destacar que se asume que la primera\n",
        "        capa es una capa de entrada y, por convención, no estableceremos\n",
        "        ningún sesgo para esas neuronas, ya que los sesgos solo se\n",
        "        utilizan para calcular las salidas de las capas posteriores.\"\"\"\n",
        "        self.num_layers = len(sizes)\n",
        "        self.sizes = sizes\n",
        "        self.biases = [np.random.randn(y, 1) for y in sizes[1:]]\n",
        "        self.weights = [np.random.randn(y, x)\n",
        "                        for x, y in zip(sizes[:-1], sizes[1:])]\n",
        "\n",
        "    def feedforward(self, a):\n",
        "        \"\"\"Devuelve la salida de la red si a es la entrada.\"\"\"\n",
        "        for b, w in zip(self.biases, self.weights):\n",
        "            a = sigmoid(np.dot(w, a)+b)\n",
        "        return a\n",
        "\n",
        "    def SGD(self, training_data, epochs, mini_batch_size, eta,\n",
        "            test_data=None):\n",
        "        \"\"\"Entrena la red neuronal utilizando el descenso de gradiente\n",
        "        estocástico por lotes pequeños (mini-batch). Los datos de\n",
        "        entrenamiento, representados por la lista de tuplas (x, y),\n",
        "        contienen las entradas de entrenamiento y las salidas deseadas.\n",
        "        Los demás parámetros que no son opcionales son autoexplicativos.\n",
        "        Si se proporciona test_data, entonces la red se evaluará con\n",
        "        respecto a los datos de prueba después de cada época y se\n",
        "        imprimirá el progreso parcial. Esto es útil para hacer un\n",
        "        seguimiento del progreso, pero ralentiza sustancialmente el\n",
        "        proceso. En resumen, esta función entrena la red neuronal\n",
        "        utilizando el método de descenso de gradiente estocástico por\n",
        "        lotes pequeños, ajustando los pesos y sesgos de la red en función\n",
        "        de los datos de entrenamiento proporcionados. Además,\n",
        "        si se proporcionan datos de prueba, se evalúa el rendimiento\n",
        "        de la red en los datos de prueba después de cada época para\n",
        "        realizar un seguimiento de su mejora a lo largo del tiempo.\"\"\"\n",
        "\n",
        "        training_data = list(training_data)\n",
        "        n = len(training_data)\n",
        "\n",
        "        if test_data:\n",
        "            test_data = list(test_data)\n",
        "            n_test = len(test_data)\n",
        "\n",
        "        for j in range(epochs):\n",
        "            random.shuffle(training_data)\n",
        "            mini_batches = [\n",
        "                training_data[k:k+mini_batch_size]\n",
        "                for k in range(0, n, mini_batch_size)]\n",
        "            for mini_batch in mini_batches:\n",
        "                self.update_mini_batch(mini_batch, eta)\n",
        "            if test_data:\n",
        "                print(\"Epoch {} : {} / {}\".format(j,self.evaluate(test_data),n_test))\n",
        "            else:\n",
        "                print(\"Epoch {} complete\".format(j))\n",
        "\n",
        "    def update_mini_batch(self, mini_batch, eta):\n",
        "        \"\"\"Actualiza los pesos y sesgos de la red aplicando el descenso\n",
        "        de gradiente utilizando la retropropagación (backpropagation) a\n",
        "        un solo mini lote. El parámetro mini_batch es una lista de tuplas\n",
        "        (x, y), donde x representa las entradas y y las salidas deseadas\n",
        "        correspondientes a ese mini lote. El parámetro eta representa\n",
        "        la tasa de aprendizaje (learning rate).\n",
        "        \"\"\"\n",
        "        nabla_b = [np.zeros(b.shape) for b in self.biases]\n",
        "        nabla_w = [np.zeros(w.shape) for w in self.weights]\n",
        "        for x, y in mini_batch:\n",
        "            delta_nabla_b, delta_nabla_w = self.backprop(x, y)\n",
        "            nabla_b = [nb+dnb for nb, dnb in zip(nabla_b, delta_nabla_b)]\n",
        "            nabla_w = [nw+dnw for nw, dnw in zip(nabla_w, delta_nabla_w)]\n",
        "        self.weights = [w-(eta/len(mini_batch))*nw\n",
        "                        for w, nw in zip(self.weights, nabla_w)]\n",
        "        self.biases = [b-(eta/len(mini_batch))*nb\n",
        "                       for b, nb in zip(self.biases, nabla_b)]\n",
        "\n",
        "    def backprop(self, x, y):\n",
        "        \"\"\"Devuelve una tupla (nabla_b, nabla_w) que representa el\n",
        "        gradiente para la función de costo C_x. nabla_b y nabla_w son\n",
        "        listas de matrices de numpy, similares a self.biases y self.weights,\n",
        "        pero se refieren al gradiente de la función de costo en relación\n",
        "        con los sesgos y pesos de la red neuronal, respectivamente..\"\"\"\n",
        "        nabla_b = [np.zeros(b.shape) for b in self.biases]\n",
        "        nabla_w = [np.zeros(w.shape) for w in self.weights]\n",
        "        # feedforward\n",
        "        activation = x\n",
        "        activations = [x] # list to store all the activations, layer by layer\n",
        "        zs = [] # list to store all the z vectors, layer by layer\n",
        "        n=0\n",
        "        for b, w in zip(self.biases, self.weights):\n",
        "            z = np.dot(w, activation)+b\n",
        "            zs.append(z)\n",
        "            n=n+1\n",
        "            if n==self.num_layers-1:\n",
        "              activation=np.exp(z)/(np.sum(np.exp(zs[-1])))# Implementamos la función de activación softmax\n",
        "              #En la última capa\n",
        "              activations.append(activation)\n",
        "            else:\n",
        "              activation = sigmoid(z)\n",
        "              activations.append(activation)\n",
        "\n",
        "\n",
        "\n",
        "        # backward pass\n",
        "        delta = self.cost_derivative(activations[-1],y)#delta de la última capa con función de costo cross-entropy y capa softmax\n",
        "        nabla_b[-1] = delta\n",
        "        nabla_w[-1] = np.dot(delta, activations[-2].transpose())\n",
        "        # Note that the variable l in the loop below is used a little\n",
        "        # differently to the notation in Chapter 2 of the book.  Here,\n",
        "        # l = 1 means the last layer of neurons, l = 2 is the\n",
        "        # second-last layer, and so on.  It's a renumbering of the\n",
        "        # scheme in the book, used here to take advantage of the fact\n",
        "        # that Python can use negative indices in lists.\n",
        "        for l in range(2, self.num_layers):\n",
        "            z = zs[-l]\n",
        "            sp = sigmoid_prime(z)\n",
        "            delta = np.dot(self.weights[-l+1].transpose(), delta) * sp\n",
        "            nabla_b[-l] = delta\n",
        "            nabla_w[-l] = np.dot(delta, activations[-l-1].transpose())\n",
        "        return (nabla_b, nabla_w)\n",
        "\n",
        "    def evaluate(self, test_data):\n",
        "        \"\"\"Devuelve el número de entradas de prueba para las cuales la red\n",
        "        neuronal produce el resultado correcto. Se asume que la salida de\n",
        "        la red neuronal es el índice de la neurona en la capa final que\n",
        "        tiene la mayor activación.\"\"\"\n",
        "        test_results = [(np.argmax(self.feedforward(x)), y)\n",
        "                        for (x, y) in test_data]\n",
        "        return sum(int(x == y) for (x, y) in test_results)\n",
        "\n",
        "    def cost_derivative(self, output_activations, y):\n",
        "        \"\"\"Devolver el vector de derivadas parciales \\partial C_x /\n",
        "        \\partial para las activaciones de salida.\"\"\"\n",
        "        return (output_activations-y)\n",
        "\n",
        "\n",
        "#### Miscellaneous functions\n",
        "def sigmoid(z):\n",
        "    \"\"\"Función sigmoide.\"\"\"\n",
        "    return 1.0/(1.0+np.exp(-z))\n",
        "\n",
        "def sigmoid_prime(z):\n",
        "    \"\"\"Derivada de la función sigmoide.\"\"\"\n",
        "    return sigmoid(z)*(1-sigmoid(z))\n",
        "\n",
        "\n"
      ],
      "metadata": {
        "id": "jdcGBE02J526"
      },
      "execution_count": null,
      "outputs": []
    },
    {
      "cell_type": "code",
      "source": [
        "rd1=Network2([784,30,10])\n",
        "rd1.SGD(X_train,30,10,0.1,X_test)"
      ],
      "metadata": {
        "colab": {
          "base_uri": "https://localhost:8080/",
          "height": 517
        },
        "id": "wd5Gd0aoS2pU",
        "outputId": "c9700a77-3a71-4d11-a979-88c726788174"
      },
      "execution_count": null,
      "outputs": [
        {
          "output_type": "stream",
          "name": "stderr",
          "text": [
            "<ipython-input-29-8b969fd3d29a>:147: RuntimeWarning: overflow encountered in exp\n",
            "  return 1.0/(1.0+np.exp(-z))\n"
          ]
        },
        {
          "output_type": "stream",
          "name": "stdout",
          "text": [
            "Epoch 0 : 4697 / 10000\n",
            "Epoch 1 : 6092 / 10000\n",
            "Epoch 2 : 5097 / 10000\n",
            "Epoch 3 : 4574 / 10000\n",
            "Epoch 4 : 6340 / 10000\n",
            "Epoch 5 : 6079 / 10000\n",
            "Epoch 6 : 6743 / 10000\n",
            "Epoch 7 : 6119 / 10000\n",
            "Epoch 8 : 6067 / 10000\n",
            "Epoch 9 : 6234 / 10000\n",
            "Epoch 10 : 5444 / 10000\n",
            "Epoch 11 : 5815 / 10000\n"
          ]
        },
        {
          "output_type": "error",
          "ename": "KeyboardInterrupt",
          "evalue": "ignored",
          "traceback": [
            "\u001b[0;31m---------------------------------------------------------------------------\u001b[0m",
            "\u001b[0;31mKeyboardInterrupt\u001b[0m                         Traceback (most recent call last)",
            "\u001b[0;32m<ipython-input-30-f9cfaece6d42>\u001b[0m in \u001b[0;36m<cell line: 2>\u001b[0;34m()\u001b[0m\n\u001b[1;32m      1\u001b[0m \u001b[0mrd1\u001b[0m\u001b[0;34m=\u001b[0m\u001b[0mNetwork2\u001b[0m\u001b[0;34m(\u001b[0m\u001b[0;34m[\u001b[0m\u001b[0;36m784\u001b[0m\u001b[0;34m,\u001b[0m\u001b[0;36m30\u001b[0m\u001b[0;34m,\u001b[0m\u001b[0;36m10\u001b[0m\u001b[0;34m]\u001b[0m\u001b[0;34m)\u001b[0m\u001b[0;34m\u001b[0m\u001b[0;34m\u001b[0m\u001b[0m\n\u001b[0;32m----> 2\u001b[0;31m \u001b[0mrd1\u001b[0m\u001b[0;34m.\u001b[0m\u001b[0mSGD\u001b[0m\u001b[0;34m(\u001b[0m\u001b[0mX_train\u001b[0m\u001b[0;34m,\u001b[0m\u001b[0;36m30\u001b[0m\u001b[0;34m,\u001b[0m\u001b[0;36m10\u001b[0m\u001b[0;34m,\u001b[0m\u001b[0;36m0.1\u001b[0m\u001b[0;34m,\u001b[0m\u001b[0mX_test\u001b[0m\u001b[0;34m)\u001b[0m\u001b[0;34m\u001b[0m\u001b[0;34m\u001b[0m\u001b[0m\n\u001b[0m",
            "\u001b[0;32m<ipython-input-29-8b969fd3d29a>\u001b[0m in \u001b[0;36mSGD\u001b[0;34m(self, training_data, epochs, mini_batch_size, eta, test_data)\u001b[0m\n\u001b[1;32m     57\u001b[0m                 for k in range(0, n, mini_batch_size)]\n\u001b[1;32m     58\u001b[0m             \u001b[0;32mfor\u001b[0m \u001b[0mmini_batch\u001b[0m \u001b[0;32min\u001b[0m \u001b[0mmini_batches\u001b[0m\u001b[0;34m:\u001b[0m\u001b[0;34m\u001b[0m\u001b[0;34m\u001b[0m\u001b[0m\n\u001b[0;32m---> 59\u001b[0;31m                 \u001b[0mself\u001b[0m\u001b[0;34m.\u001b[0m\u001b[0mupdate_mini_batch\u001b[0m\u001b[0;34m(\u001b[0m\u001b[0mmini_batch\u001b[0m\u001b[0;34m,\u001b[0m \u001b[0meta\u001b[0m\u001b[0;34m)\u001b[0m\u001b[0;34m\u001b[0m\u001b[0;34m\u001b[0m\u001b[0m\n\u001b[0m\u001b[1;32m     60\u001b[0m             \u001b[0;32mif\u001b[0m \u001b[0mtest_data\u001b[0m\u001b[0;34m:\u001b[0m\u001b[0;34m\u001b[0m\u001b[0;34m\u001b[0m\u001b[0m\n\u001b[1;32m     61\u001b[0m                 \u001b[0mprint\u001b[0m\u001b[0;34m(\u001b[0m\u001b[0;34m\"Epoch {} : {} / {}\"\u001b[0m\u001b[0;34m.\u001b[0m\u001b[0mformat\u001b[0m\u001b[0;34m(\u001b[0m\u001b[0mj\u001b[0m\u001b[0;34m,\u001b[0m\u001b[0mself\u001b[0m\u001b[0;34m.\u001b[0m\u001b[0mevaluate\u001b[0m\u001b[0;34m(\u001b[0m\u001b[0mtest_data\u001b[0m\u001b[0;34m)\u001b[0m\u001b[0;34m,\u001b[0m\u001b[0mn_test\u001b[0m\u001b[0;34m)\u001b[0m\u001b[0;34m)\u001b[0m\u001b[0;34m\u001b[0m\u001b[0;34m\u001b[0m\u001b[0m\n",
            "\u001b[0;32m<ipython-input-29-8b969fd3d29a>\u001b[0m in \u001b[0;36mupdate_mini_batch\u001b[0;34m(self, mini_batch, eta)\u001b[0m\n\u001b[1;32m     74\u001b[0m         \u001b[0mnabla_w\u001b[0m \u001b[0;34m=\u001b[0m \u001b[0;34m[\u001b[0m\u001b[0mnp\u001b[0m\u001b[0;34m.\u001b[0m\u001b[0mzeros\u001b[0m\u001b[0;34m(\u001b[0m\u001b[0mw\u001b[0m\u001b[0;34m.\u001b[0m\u001b[0mshape\u001b[0m\u001b[0;34m)\u001b[0m \u001b[0;32mfor\u001b[0m \u001b[0mw\u001b[0m \u001b[0;32min\u001b[0m \u001b[0mself\u001b[0m\u001b[0;34m.\u001b[0m\u001b[0mweights\u001b[0m\u001b[0;34m]\u001b[0m\u001b[0;34m\u001b[0m\u001b[0;34m\u001b[0m\u001b[0m\n\u001b[1;32m     75\u001b[0m         \u001b[0;32mfor\u001b[0m \u001b[0mx\u001b[0m\u001b[0;34m,\u001b[0m \u001b[0my\u001b[0m \u001b[0;32min\u001b[0m \u001b[0mmini_batch\u001b[0m\u001b[0;34m:\u001b[0m\u001b[0;34m\u001b[0m\u001b[0;34m\u001b[0m\u001b[0m\n\u001b[0;32m---> 76\u001b[0;31m             \u001b[0mdelta_nabla_b\u001b[0m\u001b[0;34m,\u001b[0m \u001b[0mdelta_nabla_w\u001b[0m \u001b[0;34m=\u001b[0m \u001b[0mself\u001b[0m\u001b[0;34m.\u001b[0m\u001b[0mbackprop\u001b[0m\u001b[0;34m(\u001b[0m\u001b[0mx\u001b[0m\u001b[0;34m,\u001b[0m \u001b[0my\u001b[0m\u001b[0;34m)\u001b[0m\u001b[0;34m\u001b[0m\u001b[0;34m\u001b[0m\u001b[0m\n\u001b[0m\u001b[1;32m     77\u001b[0m             \u001b[0mnabla_b\u001b[0m \u001b[0;34m=\u001b[0m \u001b[0;34m[\u001b[0m\u001b[0mnb\u001b[0m\u001b[0;34m+\u001b[0m\u001b[0mdnb\u001b[0m \u001b[0;32mfor\u001b[0m \u001b[0mnb\u001b[0m\u001b[0;34m,\u001b[0m \u001b[0mdnb\u001b[0m \u001b[0;32min\u001b[0m \u001b[0mzip\u001b[0m\u001b[0;34m(\u001b[0m\u001b[0mnabla_b\u001b[0m\u001b[0;34m,\u001b[0m \u001b[0mdelta_nabla_b\u001b[0m\u001b[0;34m)\u001b[0m\u001b[0;34m]\u001b[0m\u001b[0;34m\u001b[0m\u001b[0;34m\u001b[0m\u001b[0m\n\u001b[1;32m     78\u001b[0m             \u001b[0mnabla_w\u001b[0m \u001b[0;34m=\u001b[0m \u001b[0;34m[\u001b[0m\u001b[0mnw\u001b[0m\u001b[0;34m+\u001b[0m\u001b[0mdnw\u001b[0m \u001b[0;32mfor\u001b[0m \u001b[0mnw\u001b[0m\u001b[0;34m,\u001b[0m \u001b[0mdnw\u001b[0m \u001b[0;32min\u001b[0m \u001b[0mzip\u001b[0m\u001b[0;34m(\u001b[0m\u001b[0mnabla_w\u001b[0m\u001b[0;34m,\u001b[0m \u001b[0mdelta_nabla_w\u001b[0m\u001b[0;34m)\u001b[0m\u001b[0;34m]\u001b[0m\u001b[0;34m\u001b[0m\u001b[0;34m\u001b[0m\u001b[0m\n",
            "\u001b[0;32m<ipython-input-29-8b969fd3d29a>\u001b[0m in \u001b[0;36mbackprop\u001b[0;34m(self, x, y)\u001b[0m\n\u001b[1;32m    124\u001b[0m             \u001b[0mdelta\u001b[0m \u001b[0;34m=\u001b[0m \u001b[0mnp\u001b[0m\u001b[0;34m.\u001b[0m\u001b[0mdot\u001b[0m\u001b[0;34m(\u001b[0m\u001b[0mself\u001b[0m\u001b[0;34m.\u001b[0m\u001b[0mweights\u001b[0m\u001b[0;34m[\u001b[0m\u001b[0;34m-\u001b[0m\u001b[0ml\u001b[0m\u001b[0;34m+\u001b[0m\u001b[0;36m1\u001b[0m\u001b[0;34m]\u001b[0m\u001b[0;34m.\u001b[0m\u001b[0mtranspose\u001b[0m\u001b[0;34m(\u001b[0m\u001b[0;34m)\u001b[0m\u001b[0;34m,\u001b[0m \u001b[0mdelta\u001b[0m\u001b[0;34m)\u001b[0m \u001b[0;34m*\u001b[0m \u001b[0msp\u001b[0m\u001b[0;34m\u001b[0m\u001b[0;34m\u001b[0m\u001b[0m\n\u001b[1;32m    125\u001b[0m             \u001b[0mnabla_b\u001b[0m\u001b[0;34m[\u001b[0m\u001b[0;34m-\u001b[0m\u001b[0ml\u001b[0m\u001b[0;34m]\u001b[0m \u001b[0;34m=\u001b[0m \u001b[0mdelta\u001b[0m\u001b[0;34m\u001b[0m\u001b[0;34m\u001b[0m\u001b[0m\n\u001b[0;32m--> 126\u001b[0;31m             \u001b[0mnabla_w\u001b[0m\u001b[0;34m[\u001b[0m\u001b[0;34m-\u001b[0m\u001b[0ml\u001b[0m\u001b[0;34m]\u001b[0m \u001b[0;34m=\u001b[0m \u001b[0mnp\u001b[0m\u001b[0;34m.\u001b[0m\u001b[0mdot\u001b[0m\u001b[0;34m(\u001b[0m\u001b[0mdelta\u001b[0m\u001b[0;34m,\u001b[0m \u001b[0mactivations\u001b[0m\u001b[0;34m[\u001b[0m\u001b[0;34m-\u001b[0m\u001b[0ml\u001b[0m\u001b[0;34m-\u001b[0m\u001b[0;36m1\u001b[0m\u001b[0;34m]\u001b[0m\u001b[0;34m.\u001b[0m\u001b[0mtranspose\u001b[0m\u001b[0;34m(\u001b[0m\u001b[0;34m)\u001b[0m\u001b[0;34m)\u001b[0m\u001b[0;34m\u001b[0m\u001b[0;34m\u001b[0m\u001b[0m\n\u001b[0m\u001b[1;32m    127\u001b[0m         \u001b[0;32mreturn\u001b[0m \u001b[0;34m(\u001b[0m\u001b[0mnabla_b\u001b[0m\u001b[0;34m,\u001b[0m \u001b[0mnabla_w\u001b[0m\u001b[0;34m)\u001b[0m\u001b[0;34m\u001b[0m\u001b[0;34m\u001b[0m\u001b[0m\n\u001b[1;32m    128\u001b[0m \u001b[0;34m\u001b[0m\u001b[0m\n",
            "\u001b[0;32m/usr/local/lib/python3.10/dist-packages/numpy/core/overrides.py\u001b[0m in \u001b[0;36mdot\u001b[0;34m(*args, **kwargs)\u001b[0m\n",
            "\u001b[0;31mKeyboardInterrupt\u001b[0m: "
          ]
        }
      ]
    },
    {
      "cell_type": "markdown",
      "source": [
        "# Probando la red neuronal para con otro conjunto de datos"
      ],
      "metadata": {
        "id": "1fFMsG4rGWeb"
      }
    },
    {
      "cell_type": "markdown",
      "source": [
        "Agregamos una gráfica de Epochs vs Loss para cada época"
      ],
      "metadata": {
        "id": "LOxfX_7fyf4I"
      }
    },
    {
      "cell_type": "code",
      "source": [
        "# %load network.py\n",
        "\n",
        "\"\"\"\n",
        "network.py\n",
        "~~~~~~~~~~\n",
        "IT WORKS\n",
        "\n",
        "A module to implement the stochastic gradient descent learning\n",
        "algorithm for a feedforward neural network.  Gradients are calculated\n",
        "using backpropagation.  Note that I have focused on making the code\n",
        "simple, easily readable, and easily modifiable.  It is not optimized,\n",
        "and omits many desirable features.\n",
        "\"\"\"\n",
        "\n",
        "#### Libraries\n",
        "# Standard library\n",
        "import random\n",
        "import matplotlib.pyplot as plt\n",
        "from matplotlib.animation import FuncAnimation\n",
        "\n",
        "# Third-party libraries\n",
        "import numpy as np\n",
        "\n",
        "class Network3(object):\n",
        "\n",
        "    def __init__(self, sizes):\n",
        "        \"\"\"La lista sizes contiene el número de neuronas en las capas\n",
        "        respectivas de la red neuronal. Por ejemplo, si la lista fuera\n",
        "        [2, 3, 1], entonces sería una red de tres capas, con la primera\n",
        "        capa conteniendo 2 neuronas, la segunda capa 3 neuronas y la\n",
        "        tercera capa 1 neurona. Los sesgos (biases) y pesos (weights) de\n",
        "        la red se inicializan de forma aleatoria, utilizando una\n",
        "        distribución Gaussiana con media 0 y varianza 1.\n",
        "        Es importante destacar que se asume que la primera\n",
        "        capa es una capa de entrada y, por convención, no estableceremos\n",
        "        ningún sesgo para esas neuronas, ya que los sesgos solo se\n",
        "        utilizan para calcular las salidas de las capas posteriores.\"\"\"\n",
        "        self.num_layers = len(sizes)\n",
        "        self.sizes = sizes\n",
        "        self.biases = [np.random.randn(y, 1) for y in sizes[1:]]\n",
        "        self.weights = [np.random.randn(y, x)\n",
        "                        for x, y in zip(sizes[:-1], sizes[1:])]\n",
        "\n",
        "    def feedforward(self, a):\n",
        "        \"\"\"Devuelve la salida de la red si a es la entrada.\"\"\"\n",
        "        for b, w in zip(self.biases, self.weights):\n",
        "            a = sigmoid(np.dot(w, a)+b)\n",
        "        return a\n",
        "\n",
        "    def SGD(self, training_data, epochs, mini_batch_size, eta,\n",
        "            test_data=None):\n",
        "        \"\"\"Entrena la red neuronal utilizando el descenso de gradiente\n",
        "        estocástico por lotes pequeños (mini-batch). Los datos de\n",
        "        entrenamiento, representados por la lista de tuplas (x, y),\n",
        "        contienen las entradas de entrenamiento y las salidas deseadas.\n",
        "        Los demás parámetros que no son opcionales son autoexplicativos.\n",
        "        Si se proporciona test_data, entonces la red se evaluará con\n",
        "        respecto a los datos de prueba después de cada época y se\n",
        "        imprimirá el progreso parcial. Esto es útil para hacer un\n",
        "        seguimiento del progreso, pero ralentiza sustancialmente el\n",
        "        proceso. En resumen, esta función entrena la red neuronal\n",
        "        utilizando el método de descenso de gradiente estocástico por\n",
        "        lotes pequeños, ajustando los pesos y sesgos de la red en función\n",
        "        de los datos de entrenamiento proporcionados. Además,\n",
        "        si se proporcionan datos de prueba, se evalúa el rendimiento\n",
        "        de la red en los datos de prueba después de cada época para\n",
        "        realizar un seguimiento de su mejora a lo largo del tiempo.\"\"\"\n",
        "\n",
        "        training_data = list(training_data)\n",
        "        n = len(training_data)\n",
        "\n",
        "        if test_data:\n",
        "            test_data = list(test_data)\n",
        "            n_test = len(test_data)\n",
        "\n",
        "        cost_history=[]\n",
        "\n",
        "\n",
        "\n",
        "        for j in range(epochs):\n",
        "            random.shuffle(training_data)\n",
        "            mini_batches = [\n",
        "                training_data[k:k+mini_batch_size]\n",
        "                for k in range(0, n, mini_batch_size)]\n",
        "            for mini_batch in mini_batches:\n",
        "                self.update_mini_batch(mini_batch, eta)\n",
        "            if test_data:\n",
        "                print(\"Epoch {} : {} / {}\".format(j,self.evaluate(test_data),n_test))\n",
        "            else:\n",
        "                print(\"Epoch {} complete\".format(j))\n",
        "\n",
        "            # Calcula y almacena la función de costo en esta época\n",
        "\n",
        "            Cx=[]\n",
        "            for x in training_data:\n",
        "\n",
        "              aL = self.feedforward(x[0])\n",
        "              Cost=(aL-x[1])*(aL-x[1])\n",
        "              Cx.append(Cost.mean())\n",
        "            cost_history.append(sum(Cx)/len(Cx))\n",
        "            print('Loss',cost_history[-1])\n",
        "\n",
        "            plt.plot(range(j+1),cost_history)\n",
        "            plt.xlabel('Epochs')\n",
        "            plt.ylabel('Loss')\n",
        "            plt.show()\n",
        "\n",
        "\n",
        "\n",
        "\n",
        "\n",
        "\n",
        "\n",
        "    def update_mini_batch(self, mini_batch, eta):\n",
        "        \"\"\"Actualiza los pesos y sesgos de la red aplicando el descenso\n",
        "        de gradiente utilizando la retropropagación (backpropagation) a\n",
        "        un solo mini lote. El parámetro mini_batch es una lista de tuplas\n",
        "        (x, y), donde x representa las entradas y y las salidas deseadas\n",
        "        correspondientes a ese mini lote. El parámetro eta representa\n",
        "        la tasa de aprendizaje (learning rate).\n",
        "        \"\"\"\n",
        "        nabla_b = [np.zeros(b.shape) for b in self.biases]\n",
        "        nabla_w = [np.zeros(w.shape) for w in self.weights]\n",
        "        for x, y in mini_batch:\n",
        "            delta_nabla_b, delta_nabla_w = self.backprop(x, y)\n",
        "            nabla_b = [nb+dnb for nb, dnb in zip(nabla_b, delta_nabla_b)]\n",
        "            nabla_w = [nw+dnw for nw, dnw in zip(nabla_w, delta_nabla_w)]\n",
        "        self.weights = [w-(eta/len(mini_batch))*nw\n",
        "                        for w, nw in zip(self.weights, nabla_w)]\n",
        "        self.biases = [b-(eta/len(mini_batch))*nb\n",
        "                       for b, nb in zip(self.biases, nabla_b)]\n",
        "\n",
        "    def backprop(self, x, y):\n",
        "        \"\"\"Devuelve una tupla (nabla_b, nabla_w) que representa el\n",
        "        gradiente para la función de costo C_x. nabla_b y nabla_w son\n",
        "        listas de matrices de numpy, similares a self.biases y self.weights,\n",
        "        pero se refieren al gradiente de la función de costo en relación\n",
        "        con los sesgos y pesos de la red neuronal, respectivamente..\"\"\"\n",
        "        nabla_b = [np.zeros(b.shape) for b in self.biases]\n",
        "        nabla_w = [np.zeros(w.shape) for w in self.weights]\n",
        "        # feedforward\n",
        "        activation = x\n",
        "        activations = [x] # list to store all the activations, layer by layer\n",
        "        zs = [] # list to store all the z vectors, layer by layer\n",
        "        for b, w in zip(self.biases, self.weights):\n",
        "            z = np.dot(w, activation)+b\n",
        "            zs.append(z)\n",
        "            activation = sigmoid(z)\n",
        "            activations.append(activation)\n",
        "        # backward pass\n",
        "        delta = self.cost_derivative(activations[-1], y) * \\\n",
        "            sigmoid_prime(zs[-1])\n",
        "        nabla_b[-1] = delta\n",
        "        nabla_w[-1] = np.dot(delta, activations[-2].transpose())\n",
        "        # Note that the variable l in the loop below is used a little\n",
        "        # differently to the notation in Chapter 2 of the book.  Here,\n",
        "        # l = 1 means the last layer of neurons, l = 2 is the\n",
        "        # second-last layer, and so on.  It's a renumbering of the\n",
        "        # scheme in the book, used here to take advantage of the fact\n",
        "        # that Python can use negative indices in lists.\n",
        "        for l in range(2, self.num_layers):\n",
        "            z = zs[-l]\n",
        "            sp = sigmoid_prime(z)\n",
        "            delta = np.dot(self.weights[-l+1].transpose(), delta) * sp\n",
        "            nabla_b[-l] = delta\n",
        "            nabla_w[-l] = np.dot(delta, activations[-l-1].transpose())\n",
        "        return (nabla_b, nabla_w)\n",
        "\n",
        "    def evaluate(self, test_data):\n",
        "        \"\"\"Devuelve el número de entradas de prueba para las cuales la red\n",
        "        neuronal produce el resultado correcto. Se asume que la salida de\n",
        "        la red neuronal es el índice de la neurona en la capa final que\n",
        "        tiene la mayor activación.\"\"\"\n",
        "        test_results = [(np.argmax(self.feedforward(x)), y)\n",
        "                        for (x, y) in test_data]\n",
        "        return sum(int(x == y) for (x, y) in test_results)\n",
        "\n",
        "    def cost_derivative(self, output_activations, y):\n",
        "        \"\"\"Devolver el vector de derivadas parciales \\partial C_x /\n",
        "        \\partial para las activaciones de salida.\"\"\"\n",
        "        return (output_activations-y)\n",
        "\n",
        "#### Miscellaneous functions\n",
        "def sigmoid(z):\n",
        "    \"\"\"Función sigmoide.\"\"\"\n",
        "    return 1.0/(1.0+np.exp(-z))\n",
        "\n",
        "def sigmoid_prime(z):\n",
        "    \"\"\"Derivada de la función sigmoide.\"\"\"\n",
        "    return sigmoid(z)*(1-sigmoid(z))"
      ],
      "metadata": {
        "id": "Q0TSN5o9yd8M"
      },
      "execution_count": null,
      "outputs": []
    },
    {
      "cell_type": "code",
      "source": [
        "import matplotlib.pyplot as plt\n",
        "import numpy as np\n",
        "from sklearn.datasets import make_circles\n",
        "n=600\n",
        "p=2\n",
        "X,Y=make_circles(n_samples=n,factor=0.5,noise=0.08)\n",
        "plt.scatter(X[Y==0,0],X[Y==0,1], c='skyblue')\n",
        "plt.scatter(X[Y==1,0],X[Y==1,1], c='salmon')\n",
        "plt.show()"
      ],
      "metadata": {
        "colab": {
          "base_uri": "https://localhost:8080/",
          "height": 430
        },
        "id": "TBhzs-Jzbv7z",
        "outputId": "512e2aea-df04-4cfc-eb93-f6fa11204e65"
      },
      "execution_count": null,
      "outputs": [
        {
          "output_type": "display_data",
          "data": {
            "text/plain": [
              "<Figure size 640x480 with 1 Axes>"
            ],
            "image/png": "[encoded data removed]"
          },
          "metadata": {}
        }
      ]
    },
    {
      "cell_type": "code",
      "source": [
        "#Separamos los datos de entranmiento con los datos de prueba\n",
        "r=X\n",
        "t=Y\n",
        "n=60\n",
        "y_test=t.copy()\n",
        "y_train=t.copy()\n",
        "i=j=k=0\n",
        "for k in range(t.size):\n",
        "  v=t[k]\n",
        "  if (v==0) & (i<n):\n",
        "    t[k]=3\n",
        "    i=i+1\n",
        "  if (v==1)& (j<n):\n",
        "    t[k]=3\n",
        "    j=j+1\n",
        "  if j+i==2*n:\n",
        "    break\n",
        "\n",
        "\n",
        "\n",
        "x_test=r[t==3]\n",
        "y_test=y_test[t==3]\n",
        "\n",
        "x_train=r[t!=3]\n",
        "y_train=y_train[t!=3]"
      ],
      "metadata": {
        "id": "0lnALu4vfs7a"
      },
      "execution_count": null,
      "outputs": []
    },
    {
      "cell_type": "code",
      "source": [
        "def OneHotEncoding(x):\n",
        "  v=np.zeros((2,1))\n",
        "  v[x]=1\n",
        "  return v"
      ],
      "metadata": {
        "id": "Jebw8SgfhNMu"
      },
      "execution_count": null,
      "outputs": []
    },
    {
      "cell_type": "code",
      "source": [
        "x_trainv=[np.reshape(k,(2,1)) for k in x_train]\n",
        "y_trainv=[OneHotEncoding(k) for k in y_train]\n",
        "train=zip(x_trainv,y_trainv)\n",
        "x_testv=[np.reshape(k,(2,1)) for k in x_test]\n",
        "test=zip(x_testv,y_test)"
      ],
      "metadata": {
        "id": "wpFzc88gcwpT"
      },
      "execution_count": null,
      "outputs": []
    },
    {
      "cell_type": "code",
      "source": [
        "len(list(test))"
      ],
      "metadata": {
        "colab": {
          "base_uri": "https://localhost:8080/"
        },
        "id": "X2cxEaZStOHF",
        "outputId": "bb8faa7a-6cb7-4bb1-b5c0-95a81a40ea9c"
      },
      "execution_count": null,
      "outputs": [
        {
          "output_type": "execute_result",
          "data": {
            "text/plain": [
              "120"
            ]
          },
          "metadata": {},
          "execution_count": 99
        }
      ]
    },
    {
      "cell_type": "code",
      "source": [
        "len(list(train))"
      ],
      "metadata": {
        "colab": {
          "base_uri": "https://localhost:8080/"
        },
        "id": "WX5DMysQtbLI",
        "outputId": "856cd38e-6cb2-4015-e4b8-87e5d27379c5"
      },
      "execution_count": null,
      "outputs": [
        {
          "output_type": "execute_result",
          "data": {
            "text/plain": [
              "480"
            ]
          },
          "metadata": {},
          "execution_count": 100
        }
      ]
    },
    {
      "cell_type": "code",
      "source": [
        "l=Network1([2,15,2])\n",
        "l.SGD(train, 10, 5, 1.0, test_data=test)"
      ],
      "metadata": {
        "colab": {
          "base_uri": "https://localhost:8080/",
          "height": 347
        },
        "id": "KHKjt4jrjUO9",
        "outputId": "be2d9a0e-69ed-495f-f131-609df0cd2451"
      },
      "execution_count": null,
      "outputs": [
        {
          "output_type": "stream",
          "name": "stdout",
          "text": [
            "Epoch 0 complete\n"
          ]
        },
        {
          "output_type": "error",
          "ename": "ZeroDivisionError",
          "evalue": "ignored",
          "traceback": [
            "\u001b[0;31m---------------------------------------------------------------------------\u001b[0m",
            "\u001b[0;31mZeroDivisionError\u001b[0m                         Traceback (most recent call last)",
            "\u001b[0;32m<ipython-input-101-629062314663>\u001b[0m in \u001b[0;36m<cell line: 2>\u001b[0;34m()\u001b[0m\n\u001b[1;32m      1\u001b[0m \u001b[0ml\u001b[0m\u001b[0;34m=\u001b[0m\u001b[0mNetwork1\u001b[0m\u001b[0;34m(\u001b[0m\u001b[0;34m[\u001b[0m\u001b[0;36m2\u001b[0m\u001b[0;34m,\u001b[0m\u001b[0;36m15\u001b[0m\u001b[0;34m,\u001b[0m\u001b[0;36m2\u001b[0m\u001b[0;34m]\u001b[0m\u001b[0;34m)\u001b[0m\u001b[0;34m\u001b[0m\u001b[0;34m\u001b[0m\u001b[0m\n\u001b[0;32m----> 2\u001b[0;31m \u001b[0ml\u001b[0m\u001b[0;34m.\u001b[0m\u001b[0mSGD\u001b[0m\u001b[0;34m(\u001b[0m\u001b[0mtrain\u001b[0m\u001b[0;34m,\u001b[0m \u001b[0;36m10\u001b[0m\u001b[0;34m,\u001b[0m \u001b[0;36m5\u001b[0m\u001b[0;34m,\u001b[0m \u001b[0;36m1.0\u001b[0m\u001b[0;34m,\u001b[0m \u001b[0mtest_data\u001b[0m\u001b[0;34m=\u001b[0m\u001b[0mtest\u001b[0m\u001b[0;34m)\u001b[0m\u001b[0;34m\u001b[0m\u001b[0;34m\u001b[0m\u001b[0m\n\u001b[0m",
            "\u001b[0;32m<ipython-input-94-5820a814229f>\u001b[0m in \u001b[0;36mSGD\u001b[0;34m(self, training_data, epochs, mini_batch_size, eta, test_data)\u001b[0m\n\u001b[1;32m     98\u001b[0m               \u001b[0mCost\u001b[0m\u001b[0;34m=\u001b[0m\u001b[0;34m(\u001b[0m\u001b[0maL\u001b[0m\u001b[0;34m-\u001b[0m\u001b[0mx\u001b[0m\u001b[0;34m[\u001b[0m\u001b[0;36m1\u001b[0m\u001b[0;34m]\u001b[0m\u001b[0;34m)\u001b[0m\u001b[0;34m*\u001b[0m\u001b[0;34m(\u001b[0m\u001b[0maL\u001b[0m\u001b[0;34m-\u001b[0m\u001b[0mx\u001b[0m\u001b[0;34m[\u001b[0m\u001b[0;36m1\u001b[0m\u001b[0;34m]\u001b[0m\u001b[0;34m)\u001b[0m\u001b[0;34m\u001b[0m\u001b[0;34m\u001b[0m\u001b[0m\n\u001b[1;32m     99\u001b[0m               \u001b[0mCx\u001b[0m\u001b[0;34m.\u001b[0m\u001b[0mappend\u001b[0m\u001b[0;34m(\u001b[0m\u001b[0mCost\u001b[0m\u001b[0;34m.\u001b[0m\u001b[0mmean\u001b[0m\u001b[0;34m(\u001b[0m\u001b[0;34m)\u001b[0m\u001b[0;34m)\u001b[0m\u001b[0;34m\u001b[0m\u001b[0;34m\u001b[0m\u001b[0m\n\u001b[0;32m--> 100\u001b[0;31m             \u001b[0mcost_history\u001b[0m\u001b[0;34m.\u001b[0m\u001b[0mappend\u001b[0m\u001b[0;34m(\u001b[0m\u001b[0msum\u001b[0m\u001b[0;34m(\u001b[0m\u001b[0mCx\u001b[0m\u001b[0;34m)\u001b[0m\u001b[0;34m/\u001b[0m\u001b[0mlen\u001b[0m\u001b[0;34m(\u001b[0m\u001b[0mCx\u001b[0m\u001b[0;34m)\u001b[0m\u001b[0;34m)\u001b[0m\u001b[0;34m\u001b[0m\u001b[0;34m\u001b[0m\u001b[0m\n\u001b[0m\u001b[1;32m    101\u001b[0m             \u001b[0mprint\u001b[0m\u001b[0;34m(\u001b[0m\u001b[0;34m'Loss'\u001b[0m\u001b[0;34m,\u001b[0m\u001b[0mcost_history\u001b[0m\u001b[0;34m[\u001b[0m\u001b[0;34m-\u001b[0m\u001b[0;36m1\u001b[0m\u001b[0;34m]\u001b[0m\u001b[0;34m)\u001b[0m\u001b[0;34m\u001b[0m\u001b[0;34m\u001b[0m\u001b[0m\n\u001b[1;32m    102\u001b[0m \u001b[0;34m\u001b[0m\u001b[0m\n",
            "\u001b[0;31mZeroDivisionError\u001b[0m: division by zero"
          ]
        }
      ]
    },
    {
      "cell_type": "code",
      "source": [
        "rn1=Network([784,30,10])\n",
        "rn1.SGD(X_train,30,10,0.1,X_test)"
      ],
      "metadata": {
        "id": "1NtOSVLZ-Iua"
      },
      "execution_count": null,
      "outputs": []
    },
    {
      "cell_type": "code",
      "source": [
        "X=dat[0,0].shape #Tiene 60,0000 elementos, estos elementos son matrices"
      ],
      "metadata": {
        "id": "tuW54IUj2w5M"
      },
      "execution_count": null,
      "outputs": []
    },
    {
      "cell_type": "code",
      "source": [
        "Y=dat[0,1].shape #Tiene 60,000 elementos, estos son los elementos numéricos que indica que digito ilustra cada imagen"
      ],
      "metadata": {
        "id": "miZS0cLq3gs7"
      },
      "execution_count": null,
      "outputs": []
    },
    {
      "cell_type": "code",
      "source": [
        "#Lo mismo que antes pero con 10,000 elementos(Estos los vamos a utilizar como elementos de prueba)\n",
        "x=dat[1,0].shape\n",
        "y=dat[1,1]"
      ],
      "metadata": {
        "id": "HyD5sLe826V6"
      },
      "execution_count": null,
      "outputs": []
    },
    {
      "cell_type": "code",
      "source": [
        "(x_train,y_train),(x_test,y_test)=dataset"
      ],
      "metadata": {
        "id": "Wr6Da8m14Eha"
      },
      "execution_count": null,
      "outputs": []
    }
  ]
}