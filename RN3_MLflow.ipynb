{
  "nbformat": 4,
  "nbformat_minor": 0,
  "metadata": {
    "colab": {
      "provenance": [],
      "include_colab_link": true
    },
    "kernelspec": {
      "name": "python3",
      "display_name": "Python 3"
    },
    "language_info": {
      "name": "python"
    }
  },
  "cells": [
    {
      "cell_type": "markdown",
      "metadata": {
        "id": "view-in-github",
        "colab_type": "text"
      },
      "source": [
        "<a href=\"https://colab.research.google.com/github/HilbertN/Redes_Neuronales/blob/main/RN3_MLflow.ipynb\" target=\"_parent\"><img src=\"https://colab.research.google.com/assets/colab-badge.svg\" alt=\"Open In Colab\"/></a>"
      ]
    },
    {
      "cell_type": "code",
      "execution_count": 1,
      "metadata": {
        "colab": {
          "base_uri": "https://localhost:8080/"
        },
        "id": "0Odo-ZUqmdm7",
        "outputId": "acf50b4d-d2a4-4823-cca6-f5c2c828ac91"
      },
      "outputs": [
        {
          "output_type": "stream",
          "name": "stdout",
          "text": [
            "\u001b[2K     \u001b[90m━━━━━━━━━━━━━━━━━━━━━━━━━━━━━━━━━━━━━━━━\u001b[0m \u001b[32m18.5/18.5 MB\u001b[0m \u001b[31m40.6 MB/s\u001b[0m eta \u001b[36m0:00:00\u001b[0m\n",
            "\u001b[2K     \u001b[90m━━━━━━━━━━━━━━━━━━━━━━━━━━━━━━━━━━━━━━━━\u001b[0m \u001b[32m85.2/85.2 kB\u001b[0m \u001b[31m4.3 MB/s\u001b[0m eta \u001b[36m0:00:00\u001b[0m\n",
            "\u001b[?25h  Preparing metadata (setup.py) ... \u001b[?25l\u001b[?25hdone\n",
            "\u001b[2K     \u001b[90m━━━━━━━━━━━━━━━━━━━━━━━━━━━━━━━━━━━━━━\u001b[0m \u001b[32m190.0/190.0 kB\u001b[0m \u001b[31m12.6 MB/s\u001b[0m eta \u001b[36m0:00:00\u001b[0m\n",
            "\u001b[2K     \u001b[90m━━━━━━━━━━━━━━━━━━━━━━━━━━━━━━━━━━━━━━\u001b[0m \u001b[32m226.0/226.0 kB\u001b[0m \u001b[31m14.4 MB/s\u001b[0m eta \u001b[36m0:00:00\u001b[0m\n",
            "\u001b[2K     \u001b[90m━━━━━━━━━━━━━━━━━━━━━━━━━━━━━━━━━━━━━━━\u001b[0m \u001b[32m148.1/148.1 kB\u001b[0m \u001b[31m7.6 MB/s\u001b[0m eta \u001b[36m0:00:00\u001b[0m\n",
            "\u001b[2K     \u001b[90m━━━━━━━━━━━━━━━━━━━━━━━━━━━━━━━━━━━━━━━━\u001b[0m \u001b[32m80.2/80.2 kB\u001b[0m \u001b[31m2.9 MB/s\u001b[0m eta \u001b[36m0:00:00\u001b[0m\n",
            "\u001b[2K     \u001b[90m━━━━━━━━━━━━━━━━━━━━━━━━━━━━━━━━━━━━━━━━\u001b[0m \u001b[32m78.7/78.7 kB\u001b[0m \u001b[31m5.2 MB/s\u001b[0m eta \u001b[36m0:00:00\u001b[0m\n",
            "\u001b[2K     \u001b[90m━━━━━━━━━━━━━━━━━━━━━━━━━━━━━━━━━━━━━━━\u001b[0m \u001b[32m143.1/143.1 kB\u001b[0m \u001b[31m6.1 MB/s\u001b[0m eta \u001b[36m0:00:00\u001b[0m\n",
            "\u001b[2K     \u001b[90m━━━━━━━━━━━━━━━━━━━━━━━━━━━━━━━━━━━━━━━━\u001b[0m \u001b[32m62.7/62.7 kB\u001b[0m \u001b[31m3.4 MB/s\u001b[0m eta \u001b[36m0:00:00\u001b[0m\n",
            "\u001b[?25h  Building wheel for databricks-cli (setup.py) ... \u001b[?25l\u001b[?25hdone\n"
          ]
        }
      ],
      "source": [
        "%pip install -q mlflow"
      ]
    },
    {
      "cell_type": "code",
      "source": [
        "import mlflow\n",
        "mlflow.tensorflow.autolog()"
      ],
      "metadata": {
        "id": "JC8ypi6Dmuvy"
      },
      "execution_count": 11,
      "outputs": []
    },
    {
      "cell_type": "code",
      "source": [
        "import tensorflow as tf\n",
        "from tensorflow import keras\n",
        "from tensorflow.keras.datasets import mnist\n",
        "from tensorflow.keras.models import Sequential\n",
        "from tensorflow.keras.layers import Dense, Dropout, Activation, Flatten, Input\n",
        "from tensorflow.keras.optimizers import RMSprop, SGD\n",
        "from tensorflow.keras import regularizers\n",
        "from keras.callbacks import ModelCheckpoint"
      ],
      "metadata": {
        "id": "hBEL6JN8mz5O"
      },
      "execution_count": 12,
      "outputs": []
    },
    {
      "cell_type": "code",
      "source": [
        "dataset=mnist.load_data()\n",
        "(x_train, y_train), (x_test, y_test) = dataset\n",
        "\n",
        "x_train = x_train.astype('float32')\n",
        "x_test = x_test.astype('float32')\n",
        "\n",
        "x_train /= 255  # x_trainv = x_trainv/255\n",
        "x_test /= 255\n",
        "\n",
        "num_classes=10\n",
        "y_trainc = keras.utils.to_categorical(y_train, num_classes)\n",
        "y_testc = keras.utils.to_categorical(y_test, num_classes)"
      ],
      "metadata": {
        "id": "-Ppta_qcm7F0"
      },
      "execution_count": 13,
      "outputs": []
    },
    {
      "cell_type": "code",
      "source": [
        "parameters = {\n",
        "    \"batch_size\": 128,\n",
        "    \"epochs\": 20,\n",
        "    \"optimizer\": \"adam\",\n",
        "    \"loss\": \"categorical_crossentropy\",\n",
        "}"
      ],
      "metadata": {
        "id": "wPdOzdoGn_CT"
      },
      "execution_count": 14,
      "outputs": []
    },
    {
      "cell_type": "code",
      "source": [
        "model = Sequential()\n",
        "model.add(Input(shape=(28,28))) #Flaten no tiene la opcion input_shape por lo tanto se tiene que agregar esta capa\n",
        "model.add(Flatten()) #Otra forma de aplanar las imagenes\n",
        "model.add(Dense(512, activation='sigmoid'))\n",
        "model.add(Dense(512, activation='relu', kernel_regularizer=regularizers.L1L2(l1=1e-5, l2=1e-4))) #Regularizacion L1L2\n",
        "model.add(Dropout(0.2)) #Fraccion de enlaces a eliminar\n",
        "model.add(Dense(200)) #Capa lineal , transformacion lineal sin funcion de activacion\n",
        "model.add(Activation('tanh')) #Se puede agregar despues la funcion de activacion\n",
        "model.add(Dense(400, activation='selu', kernel_regularizer=regularizers.L1(0.01) )) #Regularizacion L1\n",
        "model.add(Dense(200, activation='elu', kernel_regularizer=regularizers.L2(l2=1e-4)) ) #Regularizacion L2\n",
        "model.add(Dense(50,activation='exponential'))\n",
        "model.add(Dense(10, activation='softmax'))\n",
        "\n",
        "model.summary()"
      ],
      "metadata": {
        "colab": {
          "base_uri": "https://localhost:8080/"
        },
        "id": "5e8Yf4KMnAeT",
        "outputId": "2d0593b2-78b5-4586-e09b-f69812cbccb3"
      },
      "execution_count": 15,
      "outputs": [
        {
          "output_type": "stream",
          "name": "stdout",
          "text": [
            "Model: \"sequential_1\"\n",
            "_________________________________________________________________\n",
            " Layer (type)                Output Shape              Param #   \n",
            "=================================================================\n",
            " flatten_1 (Flatten)         (None, 784)               0         \n",
            "                                                                 \n",
            " dense_7 (Dense)             (None, 512)               401920    \n",
            "                                                                 \n",
            " dense_8 (Dense)             (None, 512)               262656    \n",
            "                                                                 \n",
            " dropout_1 (Dropout)         (None, 512)               0         \n",
            "                                                                 \n",
            " dense_9 (Dense)             (None, 200)               102600    \n",
            "                                                                 \n",
            " activation_1 (Activation)   (None, 200)               0         \n",
            "                                                                 \n",
            " dense_10 (Dense)            (None, 400)               80400     \n",
            "                                                                 \n",
            " dense_11 (Dense)            (None, 200)               80200     \n",
            "                                                                 \n",
            " dense_12 (Dense)            (None, 50)                10050     \n",
            "                                                                 \n",
            " dense_13 (Dense)            (None, 10)                510       \n",
            "                                                                 \n",
            "=================================================================\n",
            "Total params: 938336 (3.58 MB)\n",
            "Trainable params: 938336 (3.58 MB)\n",
            "Non-trainable params: 0 (0.00 Byte)\n",
            "_________________________________________________________________\n"
          ]
        }
      ]
    },
    {
      "cell_type": "code",
      "source": [
        "model.compile(loss=parameters['loss'],optimizer=parameters['optimizer'],metrics=['accuracy'])\n",
        "model.fit(x_train, y_trainc,\n",
        "                    batch_size=parameters['batch_size'],\n",
        "                    epochs=parameters[\"epochs\"],\n",
        "                    verbose=1,\n",
        "                    validation_data=(x_test, y_testc)\n",
        "                    )"
      ],
      "metadata": {
        "colab": {
          "base_uri": "https://localhost:8080/"
        },
        "id": "3q-QP8hJnC2O",
        "outputId": "30d6de43-eaf8-4aa1-a1e0-59d161882e49"
      },
      "execution_count": 16,
      "outputs": [
        {
          "output_type": "stream",
          "name": "stderr",
          "text": [
            "2023/09/24 19:43:38 INFO mlflow.utils.autologging_utils: Created MLflow autologging run with ID '8b4297ff52ed4d449f0363d97492cccd', which will track hyperparameters, performance metrics, model artifacts, and lineage information for the current tensorflow workflow\n"
          ]
        },
        {
          "output_type": "stream",
          "name": "stdout",
          "text": [
            "Epoch 1/20\n",
            "469/469 [==============================] - 15s 29ms/step - loss: 5.2015 - accuracy: 0.7995 - val_loss: 0.6808 - val_accuracy: 0.9053\n",
            "Epoch 2/20\n",
            "469/469 [==============================] - 13s 28ms/step - loss: 0.5635 - accuracy: 0.9274 - val_loss: 0.4645 - val_accuracy: 0.9427\n",
            "Epoch 3/20\n",
            "469/469 [==============================] - 14s 29ms/step - loss: 0.4371 - accuracy: 0.9494 - val_loss: 0.3737 - val_accuracy: 0.9594\n",
            "Epoch 4/20\n",
            "469/469 [==============================] - 14s 31ms/step - loss: 0.3647 - accuracy: 0.9603 - val_loss: 0.3561 - val_accuracy: 0.9590\n",
            "Epoch 5/20\n",
            "469/469 [==============================] - 14s 30ms/step - loss: 0.3221 - accuracy: 0.9677 - val_loss: 0.3341 - val_accuracy: 0.9647\n",
            "Epoch 6/20\n",
            "469/469 [==============================] - 14s 29ms/step - loss: 0.2938 - accuracy: 0.9726 - val_loss: 0.2967 - val_accuracy: 0.9714\n",
            "Epoch 7/20\n",
            "469/469 [==============================] - 14s 30ms/step - loss: 0.2673 - accuracy: 0.9771 - val_loss: 0.2708 - val_accuracy: 0.9764\n",
            "Epoch 8/20\n",
            "469/469 [==============================] - 14s 29ms/step - loss: 0.2439 - accuracy: 0.9804 - val_loss: 0.2665 - val_accuracy: 0.9759\n",
            "Epoch 9/20\n",
            "469/469 [==============================] - 13s 29ms/step - loss: 0.2322 - accuracy: 0.9814 - val_loss: 0.2827 - val_accuracy: 0.9704\n",
            "Epoch 10/20\n",
            "469/469 [==============================] - 14s 30ms/step - loss: 0.2133 - accuracy: 0.9850 - val_loss: 0.2455 - val_accuracy: 0.9770\n",
            "Epoch 11/20\n",
            "469/469 [==============================] - 13s 28ms/step - loss: 0.2041 - accuracy: 0.9863 - val_loss: 0.2352 - val_accuracy: 0.9793\n",
            "Epoch 12/20\n",
            "469/469 [==============================] - 14s 30ms/step - loss: 0.1925 - accuracy: 0.9875 - val_loss: 0.2503 - val_accuracy: 0.9744\n",
            "Epoch 13/20\n",
            "469/469 [==============================] - 13s 28ms/step - loss: 0.1852 - accuracy: 0.9884 - val_loss: 0.2480 - val_accuracy: 0.9733\n",
            "Epoch 14/20\n",
            "469/469 [==============================] - 13s 27ms/step - loss: 0.1789 - accuracy: 0.9895 - val_loss: 0.2266 - val_accuracy: 0.9780\n",
            "Epoch 15/20\n",
            "469/469 [==============================] - 14s 29ms/step - loss: 0.1731 - accuracy: 0.9909 - val_loss: 0.2529 - val_accuracy: 0.9758\n",
            "Epoch 16/20\n",
            "469/469 [==============================] - 13s 29ms/step - loss: 0.1716 - accuracy: 0.9910 - val_loss: 0.2297 - val_accuracy: 0.9792\n",
            "Epoch 17/20\n",
            "469/469 [==============================] - 14s 30ms/step - loss: 0.1668 - accuracy: 0.9922 - val_loss: 0.2308 - val_accuracy: 0.9822\n",
            "Epoch 18/20\n",
            "469/469 [==============================] - 14s 30ms/step - loss: 0.1640 - accuracy: 0.9931 - val_loss: 0.2299 - val_accuracy: 0.9796\n",
            "Epoch 19/20\n",
            "469/469 [==============================] - 13s 29ms/step - loss: 0.1610 - accuracy: 0.9933 - val_loss: 0.2153 - val_accuracy: 0.9815\n",
            "Epoch 20/20\n",
            "469/469 [==============================] - 13s 27ms/step - loss: 0.1618 - accuracy: 0.9933 - val_loss: 0.2234 - val_accuracy: 0.9810\n",
            "1/1 [==============================] - 0s 139ms/step\n"
          ]
        },
        {
          "output_type": "stream",
          "name": "stderr",
          "text": [
            "2023/09/24 19:49:11 WARNING mlflow.utils.requirements_utils: Found jaxlib version (0.4.14+cuda11.cudnn86) contains a local version label (+cuda11.cudnn86). MLflow logged a pip requirement for this package as 'jaxlib==0.4.14' without the local version label to make it installable from PyPI. To specify pip requirements containing local version labels, please use `conda_env` or `pip_requirements`.\n"
          ]
        },
        {
          "output_type": "execute_result",
          "data": {
            "text/plain": [
              "<keras.src.callbacks.History at 0x7b0ef5af5a50>"
            ]
          },
          "metadata": {},
          "execution_count": 16
        }
      ]
    },
    {
      "cell_type": "code",
      "source": [
        "!mlflow ui #Para ver ejecuciones y experimentos"
      ],
      "metadata": {
        "colab": {
          "base_uri": "https://localhost:8080/"
        },
        "id": "34_vfagPoOWP",
        "outputId": "8465a226-97d8-427d-af0a-4c1d8ffa2b38"
      },
      "execution_count": 19,
      "outputs": [
        {
          "output_type": "stream",
          "name": "stdout",
          "text": [
            "[2023-09-24 19:53:34 +0000] [10070] [INFO] Starting gunicorn 21.2.0\n",
            "[2023-09-24 19:53:34 +0000] [10070] [INFO] Listening at: http://127.0.0.1:5000 (10070)\n",
            "[2023-09-24 19:53:34 +0000] [10070] [INFO] Using worker: sync\n",
            "[2023-09-24 19:53:34 +0000] [10071] [INFO] Booting worker with pid: 10071\n",
            "[2023-09-24 19:53:34 +0000] [10072] [INFO] Booting worker with pid: 10072\n",
            "[2023-09-24 19:53:34 +0000] [10073] [INFO] Booting worker with pid: 10073\n",
            "[2023-09-24 19:53:34 +0000] [10078] [INFO] Booting worker with pid: 10078\n",
            "[2023-09-24 19:55:39 +0000] [10070] [INFO] Handling signal: int\n",
            "\n",
            "Aborted!\n",
            "[2023-09-24 19:55:39 +0000] [10071] [INFO] Worker exiting (pid: 10071)\n",
            "[2023-09-24 19:55:39 +0000] [10072] [INFO] Worker exiting (pid: 10072)\n",
            "[2023-09-24 19:55:39 +0000] [10078] [INFO] Worker exiting (pid: 10078)\n",
            "[2023-09-24 19:55:39 +0000] [10073] [INFO] Worker exiting (pid: 10073)\n",
            "[2023-09-24 19:55:40 +0000] [10070] [INFO] Shutting down: Master\n"
          ]
        }
      ]
    }
  ]
}