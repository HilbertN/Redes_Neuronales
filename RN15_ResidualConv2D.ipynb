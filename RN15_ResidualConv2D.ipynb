{
  "cells": [
    {
      "cell_type": "markdown",
      "metadata": {
        "id": "view-in-github",
        "colab_type": "text"
      },
      "source": [
        "<a href=\"https://colab.research.google.com/github/HilbertN/Redes_Neuronales/blob/main/RN15_ResidualConv2D.ipynb\" target=\"_parent\"><img src=\"https://colab.research.google.com/assets/colab-badge.svg\" alt=\"Open In Colab\"/></a>"
      ]
    },
    {
      "cell_type": "code",
      "execution_count": null,
      "metadata": {
        "id": "GGXulXxDKtEU"
      },
      "outputs": [],
      "source": [
        "from tensorflow import keras\n",
        "from tensorflow.keras import layers\n",
        "from keras.preprocessing.image import ImageDataGenerator"
      ]
    },
    {
      "cell_type": "code",
      "execution_count": null,
      "metadata": {
        "id": "wTDurRjXK5vw"
      },
      "outputs": [],
      "source": [
        "learning_rate = 0.01\n",
        "epochs = 30\n",
        "batch_size = 120\n",
        "optimizer = 'rmsprop'"
      ]
    },
    {
      "cell_type": "code",
      "execution_count": null,
      "metadata": {
        "colab": {
          "base_uri": "https://localhost:8080/"
        },
        "id": "fBV1BDzMT831",
        "outputId": "6d8979f6-366a-4f74-d698-e479f6190ea2"
      },
      "outputs": [
        {
          "name": "stdout",
          "output_type": "stream",
          "text": [
            "--2023-10-06 16:21:44--  https://dagshub.com/jorgevc/Gatos-y-Perros/raw/24eaabd8ca81ed89f780138c1e3955ccd1f3d155/data/DogsCats.zip\n",
            "Resolving dagshub.com (dagshub.com)... 35.186.200.224\n",
            "Connecting to dagshub.com (dagshub.com)|35.186.200.224|:443... connected.\n",
            "HTTP request sent, awaiting response... 200 OK\n",
            "Length: unspecified [application/zip]\n",
            "Saving to: ‘DogsCats.zip’\n",
            "\n",
            "DogsCats.zip            [   <=>              ] 545.56M  78.2MB/s    in 7.1s    \n",
            "\n",
            "2023-10-06 16:21:52 (76.9 MB/s) - ‘DogsCats.zip’ saved [572061537]\n",
            "\n"
          ]
        }
      ],
      "source": [
        "!wget https://dagshub.com/jorgevc/Gatos-y-Perros/raw/24eaabd8ca81ed89f780138c1e3955ccd1f3d155/data/DogsCats.zip"
      ]
    },
    {
      "cell_type": "code",
      "execution_count": null,
      "metadata": {
        "id": "VxH9E4_rVgeL"
      },
      "outputs": [],
      "source": [
        "!unzip DogsCats.zip"
      ]
    },
    {
      "cell_type": "code",
      "execution_count": null,
      "metadata": {
        "colab": {
          "base_uri": "https://localhost:8080/"
        },
        "id": "7w8Rom4pK77Y",
        "outputId": "2c84f1d0-3e42-4b81-f7eb-d44bd5d046e7"
      },
      "outputs": [
        {
          "name": "stdout",
          "output_type": "stream",
          "text": [
            "Found 20000 images belonging to 2 classes.\n",
            "Found 5000 images belonging to 2 classes.\n"
          ]
        }
      ],
      "source": [
        "ih, iw = 150, 150 #tamano de la imagen\n",
        "input_shape = (ih, iw, 3) #forma de la imagen: alto ancho y numero de canales\n",
        "\n",
        "#train_dir = 'data/minitrain' #directorio de entrenamiento\n",
        "#test_dir = 'data/minitest' #directorio de prueba\n",
        "train_dir = 'train' #directorio de entrenamiento\n",
        "test_dir = 'test' #directorio de prueba\n",
        "\n",
        "\n",
        "num_class = 2 #cuantas clases\n",
        "epochs = 30 #cuantas veces entrenar. En cada epoch hace una mejora en los parametros\n",
        "\n",
        "batch_size = 50 #batch para hacer cada entrenamiento. Lee 50 'batch_size' imagenes antes de actualizar los parametros. Las carga a memoria\n",
        "num_train = 20000 #numero de imagenes en train\n",
        "num_test = 5000 #numero de imagenes en test\n",
        "\n",
        "\n",
        "epoch_steps = num_train // batch_size\n",
        "test_steps = num_test // batch_size\n",
        "\n",
        "\n",
        "gentrain = ImageDataGenerator(rescale=1. / 255.) #indica que reescale cada canal con valor entre 0 y 1.\n",
        "\n",
        "\n",
        "train = gentrain.flow_from_directory(train_dir,\n",
        "                batch_size=batch_size,\n",
        "                target_size=(iw, ih),\n",
        "                class_mode='binary')\n",
        "\n",
        "gentest = ImageDataGenerator(rescale=1. / 255)\n",
        "\n",
        "test = gentest.flow_from_directory(test_dir,\n",
        "                batch_size=batch_size,\n",
        "                target_size=(iw, ih),\n",
        "                class_mode='binary')"
      ]
    },
    {
      "cell_type": "code",
      "execution_count": null,
      "metadata": {
        "colab": {
          "base_uri": "https://localhost:8080/"
        },
        "id": "zFhnmcTdIyJD",
        "outputId": "157af1fd-fb3d-4193-a086-f9590809cb62"
      },
      "outputs": [
        {
          "name": "stdout",
          "output_type": "stream",
          "text": [
            "Model: \"model_2\"\n",
            "__________________________________________________________________________________________________\n",
            " Layer (type)                Output Shape                 Param #   Connected to                  \n",
            "==================================================================================================\n",
            " input_11 (InputLayer)       [(None, 150, 150, 3)]        0         []                            \n",
            "                                                                                                  \n",
            " conv2d_49 (Conv2D)          (None, 148, 148, 10)         280       ['input_11[0][0]']            \n",
            "                                                                                                  \n",
            " activation_10 (Activation)  (None, 148, 148, 10)         0         ['conv2d_49[0][0]']           \n",
            "                                                                                                  \n",
            " max_pooling2d_30 (MaxPooli  (None, 74, 74, 10)           0         ['activation_10[0][0]']       \n",
            " ng2D)                                                                                            \n",
            "                                                                                                  \n",
            " conv2d_50 (Conv2D)          (None, 74, 74, 10)           910       ['max_pooling2d_30[0][0]']    \n",
            "                                                                                                  \n",
            " max_pooling2d_31 (MaxPooli  (None, 37, 37, 10)           0         ['conv2d_50[0][0]']           \n",
            " ng2D)                                                                                            \n",
            "                                                                                                  \n",
            " conv2d_51 (Conv2D)          (None, 37, 37, 10)           110       ['max_pooling2d_30[0][0]']    \n",
            "                                                                                                  \n",
            " add_20 (Add)                (None, 37, 37, 10)           0         ['max_pooling2d_31[0][0]',    \n",
            "                                                                     'conv2d_51[0][0]']           \n",
            "                                                                                                  \n",
            " conv2d_52 (Conv2D)          (None, 35, 35, 20)           1820      ['add_20[0][0]']              \n",
            "                                                                                                  \n",
            " max_pooling2d_32 (MaxPooli  (None, 17, 17, 20)           0         ['conv2d_52[0][0]']           \n",
            " ng2D)                                                                                            \n",
            "                                                                                                  \n",
            " conv2d_53 (Conv2D)          (None, 17, 17, 20)           3220      ['add_20[0][0]']              \n",
            "                                                                                                  \n",
            " add_21 (Add)                (None, 17, 17, 20)           0         ['max_pooling2d_32[0][0]',    \n",
            "                                                                     'conv2d_53[0][0]']           \n",
            "                                                                                                  \n",
            " flatten_2 (Flatten)         (None, 5780)                 0         ['add_21[0][0]']              \n",
            "                                                                                                  \n",
            " dense_4 (Dense)             (None, 64)                   369984    ['flatten_2[0][0]']           \n",
            "                                                                                                  \n",
            " dropout_2 (Dropout)         (None, 64)                   0         ['dense_4[0][0]']             \n",
            "                                                                                                  \n",
            " dense_5 (Dense)             (None, 1)                    65        ['dropout_2[0][0]']           \n",
            "                                                                                                  \n",
            "==================================================================================================\n",
            "Total params: 376389 (1.44 MB)\n",
            "Trainable params: 376389 (1.44 MB)\n",
            "Non-trainable params: 0 (0.00 Byte)\n",
            "__________________________________________________________________________________________________\n"
          ]
        }
      ],
      "source": [
        "#########  Modelo\n",
        "\n",
        "inputs = keras.Input(shape=input_shape)\n",
        "x = layers.Conv2D(10, (3,3))(inputs)\n",
        "x = layers.Activation('relu')(x)\n",
        "x = layers.MaxPooling2D(pool_size=(2,2))(x)\n",
        "\n",
        "residual = x\n",
        "x = layers.Conv2D(10, 3, activation=\"relu\", padding=\"same\")(x)\n",
        "x = layers.MaxPooling2D(2, padding=\"same\")(x)\n",
        "residual=layers.Conv2D(10,1,strides=2)(residual)\n",
        "x = layers.add([x, residual])\n",
        "\n",
        "residual = x\n",
        "x = layers.Conv2D(20,3, activation='relu')(x)\n",
        "x = layers.MaxPooling2D(2)(x)\n",
        "residual=layers.Conv2D(20,4,strides=2)(residual) #quitar para ejemplificar que los tamaños deben coincidir\n",
        "x = layers.add([x, residual])\n",
        "\n",
        "x = layers.Flatten()(x)\n",
        "x = layers.Dense(64, activation='relu')(x)\n",
        "x = layers.Dropout(0.2)(x)\n",
        "\n",
        "outputs = layers.Dense(1, activation='sigmoid')(x)\n",
        "\n",
        "model = keras.Model(inputs=inputs,outputs=outputs)\n",
        "model.summary()\n",
        "############"
      ]
    },
    {
      "cell_type": "code",
      "execution_count": null,
      "metadata": {
        "colab": {
          "background_save": true,
          "base_uri": "https://localhost:8080/"
        },
        "id": "iSVFOiesYT86",
        "outputId": "04eea8d6-d1ef-4fda-97a8-8a1ce4f5649b"
      },
      "outputs": [
        {
          "name": "stdout",
          "output_type": "stream",
          "text": [
            "Epoch 1/30\n",
            "400/400 [==============================] - 345s 858ms/step - loss: 0.6308 - accuracy: 0.6407 - val_loss: 0.5468 - val_accuracy: 0.7244\n",
            "Epoch 2/30\n",
            "400/400 [==============================] - 336s 840ms/step - loss: 0.5138 - accuracy: 0.7488 - val_loss: 0.4871 - val_accuracy: 0.7608\n",
            "Epoch 3/30\n",
            "400/400 [==============================] - 326s 814ms/step - loss: 0.4340 - accuracy: 0.7994 - val_loss: 0.5008 - val_accuracy: 0.7658\n",
            "Epoch 4/30\n",
            "400/400 [==============================] - 325s 811ms/step - loss: 0.3663 - accuracy: 0.8361 - val_loss: 0.4762 - val_accuracy: 0.7850\n",
            "Epoch 5/30\n",
            "400/400 [==============================] - 342s 854ms/step - loss: 0.2908 - accuracy: 0.8775 - val_loss: 0.4835 - val_accuracy: 0.7870\n",
            "Epoch 6/30\n",
            "400/400 [==============================] - 336s 840ms/step - loss: 0.2137 - accuracy: 0.9159 - val_loss: 0.5525 - val_accuracy: 0.7858\n",
            "Epoch 7/30\n",
            "400/400 [==============================] - 335s 838ms/step - loss: 0.1483 - accuracy: 0.9439 - val_loss: 0.6232 - val_accuracy: 0.7746\n",
            "Epoch 8/30\n",
            "400/400 [==============================] - 325s 812ms/step - loss: 0.1003 - accuracy: 0.9640 - val_loss: 0.7869 - val_accuracy: 0.7762\n",
            "Epoch 9/30\n",
            "400/400 [==============================] - 324s 811ms/step - loss: 0.0726 - accuracy: 0.9744 - val_loss: 0.8729 - val_accuracy: 0.7818\n",
            "Epoch 10/30\n",
            "400/400 [==============================] - 334s 835ms/step - loss: 0.0588 - accuracy: 0.9793 - val_loss: 1.0333 - val_accuracy: 0.7656\n",
            "Epoch 11/30\n",
            "400/400 [==============================] - 324s 808ms/step - loss: 0.0518 - accuracy: 0.9821 - val_loss: 0.9481 - val_accuracy: 0.7782\n",
            "Epoch 12/30\n",
            "400/400 [==============================] - 306s 766ms/step - loss: 0.0378 - accuracy: 0.9872 - val_loss: 1.1335 - val_accuracy: 0.7674\n",
            "Epoch 13/30\n",
            "400/400 [==============================] - 322s 804ms/step - loss: 0.0377 - accuracy: 0.9872 - val_loss: 1.0697 - val_accuracy: 0.7718\n",
            "Epoch 14/30\n",
            "400/400 [==============================] - 315s 788ms/step - loss: 0.0356 - accuracy: 0.9882 - val_loss: 1.2009 - val_accuracy: 0.7698\n",
            "Epoch 15/30\n",
            "400/400 [==============================] - 316s 790ms/step - loss: 0.0327 - accuracy: 0.9895 - val_loss: 1.4436 - val_accuracy: 0.7766\n",
            "Epoch 16/30\n",
            "400/400 [==============================] - 301s 751ms/step - loss: 0.0293 - accuracy: 0.9893 - val_loss: 1.3949 - val_accuracy: 0.7700\n",
            "Epoch 17/30\n",
            "400/400 [==============================] - 319s 798ms/step - loss: 0.0307 - accuracy: 0.9897 - val_loss: 1.7063 - val_accuracy: 0.7682\n",
            "Epoch 18/30\n",
            "400/400 [==============================] - 314s 784ms/step - loss: 0.0270 - accuracy: 0.9909 - val_loss: 1.6907 - val_accuracy: 0.7676\n",
            "Epoch 19/30\n",
            "400/400 [==============================] - 318s 794ms/step - loss: 0.0284 - accuracy: 0.9908 - val_loss: 1.7068 - val_accuracy: 0.7694\n",
            "Epoch 20/30\n",
            "400/400 [==============================] - 301s 752ms/step - loss: 0.0260 - accuracy: 0.9912 - val_loss: 1.6020 - val_accuracy: 0.7708\n",
            "Epoch 21/30\n",
            "400/400 [==============================] - 318s 795ms/step - loss: 0.0273 - accuracy: 0.9906 - val_loss: 1.6457 - val_accuracy: 0.7704\n",
            "Epoch 22/30\n",
            "109/400 [=======>......................] - ETA: 3:19 - loss: 0.0218 - accuracy: 0.9925"
          ]
        }
      ],
      "source": [
        "model.compile(loss='binary_crossentropy',\n",
        "              optimizer=optimizer,\n",
        "              metrics=['accuracy'])\n",
        "\n",
        "model.fit(train,\n",
        "    batch_size=batch_size,\n",
        "    epochs=epochs,\n",
        "    validation_data=test\n",
        "    )\n",
        "\n",
        "model.save(\"Conv2D.hf5\")"
      ]
    }
  ],
  "metadata": {
    "colab": {
      "provenance": [],
      "include_colab_link": true
    },
    "kernelspec": {
      "display_name": "Python 3",
      "name": "python3"
    },
    "language_info": {
      "name": "python"
    }
  },
  "nbformat": 4,
  "nbformat_minor": 0
}