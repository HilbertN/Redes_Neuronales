{
  "nbformat": 4,
  "nbformat_minor": 0,
  "metadata": {
    "colab": {
      "provenance": [],
      "authorship_tag": "ABX9TyMxyzv81Lxi/1T7+wNFfcfG",
      "include_colab_link": true
    },
    "kernelspec": {
      "name": "python3",
      "display_name": "Python 3"
    },
    "language_info": {
      "name": "python"
    }
  },
  "cells": [
    {
      "cell_type": "markdown",
      "metadata": {
        "id": "view-in-github",
        "colab_type": "text"
      },
      "source": [
        "<a href=\"https://colab.research.google.com/github/HilbertN/Redes_Neuronales/blob/main/RN6_OrdenarImagenes.ipynb\" target=\"_parent\"><img src=\"https://colab.research.google.com/assets/colab-badge.svg\" alt=\"Open In Colab\"/></a>"
      ]
    },
    {
      "cell_type": "code",
      "source": [
        "import os\n",
        "from glob import glob\n",
        "import numpy as np"
      ],
      "metadata": {
        "id": "_qcLK-fs-KOb"
      },
      "execution_count": 24,
      "outputs": []
    },
    {
      "cell_type": "code",
      "execution_count": 25,
      "metadata": {
        "id": "loCDdF-B8Mtb"
      },
      "outputs": [],
      "source": [
        "import tensorflow as tf\n",
        "from tensorflow import keras\n",
        "from tensorflow.keras.models import Sequential\n",
        "from tensorflow.keras.layers import Dense,Conv2D,Dropout, Activation,MaxPooling2D,Flatten\n",
        "from tensorflow.keras.optimizers import RMSprop,SGD\n",
        "from tensorflow.keras import regularizers\n",
        "from tensorflow.keras.preprocessing.image import ImageDataGenerator\n",
        "from tensorflow.keras.preprocessing import image"
      ]
    },
    {
      "cell_type": "code",
      "source": [
        "from sklearn.model_selection import train_test_split\n",
        "from PIL import Image"
      ],
      "metadata": {
        "id": "2cm-THV19uZ5"
      },
      "execution_count": 26,
      "outputs": []
    },
    {
      "cell_type": "markdown",
      "source": [
        "Código original: https://dagshub.com/jorgevc/Gatos-y-Perros\n"
      ],
      "metadata": {
        "id": "HHQYhRfFCsWm"
      }
    },
    {
      "cell_type": "code",
      "source": [
        "from google.colab import drive\n",
        "drive.mount('/content/drive')"
      ],
      "metadata": {
        "colab": {
          "base_uri": "https://localhost:8080/"
        },
        "id": "mPOeEZhuB1Rx",
        "outputId": "d05bc632-3266-49aa-d6c6-c6aada97a34d"
      },
      "execution_count": 27,
      "outputs": [
        {
          "output_type": "stream",
          "name": "stdout",
          "text": [
            "Drive already mounted at /content/drive; to attempt to forcibly remount, call drive.mount(\"/content/drive\", force_remount=True).\n"
          ]
        }
      ]
    },
    {
      "cell_type": "code",
      "source": [
        "traincat = '/content/drive/MyDrive/Base de datos/minitrain/cat'\n",
        "traindog = '/content/drive/MyDrive/Base de datos/minitrain/dog'"
      ],
      "metadata": {
        "id": "t6CFitrpCcC8"
      },
      "execution_count": 28,
      "outputs": []
    },
    {
      "cell_type": "markdown",
      "source": [
        "En resumen, estas dos líneas de código generan patrones de rutas de acceso que pueden usarse, por ejemplo, para buscar y acceder a todos los archivos dentro de los directorios traincat y traindog, respectivamente. Los asteriscos ('*') en los patrones de rutas de acceso actúan como comodines, lo que significa que coincidirán con todos los archivos en esos directorios."
      ],
      "metadata": {
        "id": "YSjIllxMEAof"
      }
    },
    {
      "cell_type": "code",
      "source": [
        "cat_files_path = os.path.join(traincat, '*')\n",
        "dog_files_path = os.path.join(traindog, '*')"
      ],
      "metadata": {
        "id": "wr1d2OMMDLZ5"
      },
      "execution_count": 29,
      "outputs": []
    },
    {
      "cell_type": "markdown",
      "source": [
        "El código que has proporcionado utiliza la función glob de la biblioteca glob en Python para obtener una lista de archivos que coinciden con los patrones de ruta de acceso generados previamente en cat_files_path y dog_files_path."
      ],
      "metadata": {
        "id": "zR2yqTPpELZ1"
      }
    },
    {
      "cell_type": "code",
      "source": [
        "\n",
        "cat_files = sorted(glob(cat_files_path))\n",
        "dog_files = sorted(glob(dog_files_path))"
      ],
      "metadata": {
        "id": "O35W3gA6DQJd"
      },
      "execution_count": 30,
      "outputs": []
    },
    {
      "cell_type": "code",
      "source": [
        "n_files = len(cat_files) + len(dog_files)\n",
        "print(n_files)"
      ],
      "metadata": {
        "colab": {
          "base_uri": "https://localhost:8080/"
        },
        "id": "ALxTq2yfEMXE",
        "outputId": "1765a5a4-3b11-4a5c-9e35-4cda72add55f"
      },
      "execution_count": 31,
      "outputs": [
        {
          "output_type": "stream",
          "name": "stdout",
          "text": [
            "214\n"
          ]
        }
      ]
    },
    {
      "cell_type": "code",
      "source": [
        "size_image = 64"
      ],
      "metadata": {
        "id": "1iMYlgFYEUxG"
      },
      "execution_count": 32,
      "outputs": []
    },
    {
      "cell_type": "code",
      "source": [
        "allX = np.zeros((n_files, size_image, size_image, 3), dtype='float64')\n",
        "ally = np.zeros(n_files)"
      ],
      "metadata": {
        "id": "l-S1oKO2EqrM"
      },
      "execution_count": 33,
      "outputs": []
    },
    {
      "cell_type": "markdown",
      "source": [
        "allX:   \n",
        "    np.zeros es una función de NumPy que crea una matriz llena de ceros con las dimensiones especificadas.  \n",
        "    (n_files, size_image, size_image, 3) especifica las dimensiones de la matriz. Esto parece estar configurado para trabajar con imágenes donde:  \n",
        "  * n_files es el número total de imágenes.  \n",
        "  * size_image es el tamaño de la imagen (ancho y alto) que se ha definido previamente como 64.  \n",
        "  * 3 representa los canales de color (rojo, verde y azul) de una imagen a color.  \n",
        "  * dtype='float64' especifica que el tipo de dato de la matriz es de punto flotante de 64 bits."
      ],
      "metadata": {
        "id": "Bd4RoE3XFMrI"
      }
    },
    {
      "cell_type": "code",
      "source": [
        "count = 0\n",
        "for f in cat_files:\n",
        "    try:\n",
        "        img = Image.open(f)\n",
        "        new_img = img.resize(size=(size_image, size_image))\n",
        "        allX[count] = np.array(new_img)\n",
        "        #ally almacena la etiqueta, el 0 indica que es un gato\n",
        "        ally[count] = 0\n",
        "        count += 1\n",
        "    except:\n",
        "        print(\"No cargo imagen\")\n",
        "        #continue\n",
        "\n",
        "for f in dog_files:\n",
        "    try:\n",
        "        img = Image.open(f)\n",
        "        new_img = img.resize(size=(size_image, size_image))\n",
        "        allX[count] = np.array(new_img)\n",
        "        ally[count] = 1\n",
        "        count += 1\n",
        "    except:\n",
        "        continue"
      ],
      "metadata": {
        "id": "0--JuNA0FXl9"
      },
      "execution_count": 34,
      "outputs": []
    },
    {
      "cell_type": "markdown",
      "source": [
        "La línea de código train_test_split(allX, ally, test_size=0.2, random_state=1) hace lo siguiente:\n",
        "\n",
        "    allX y ally son los datos de características y etiquetas que se dividirán en conjuntos de entrenamiento y prueba.\n",
        "\n",
        "    test_size=0.2 indica que el 20% de los datos se utilizarán como conjunto de prueba, mientras que el 80% restante se utilizará como conjunto de entrenamiento. Esto es común en la división de datos para el entrenamiento y la evaluación de modelos de aprendizaje automático.\n",
        "\n",
        "    random_state=1 es una semilla para la generación de números aleatorios. Esto asegura que, aunque la división sea aleatoria, los resultados sean reproducibles si se utiliza la misma semilla en diferentes ejecuciones. Esto es útil para la reproducibilidad de los resultados.\n",
        "\n",
        "La función train_test_split devuelve cuatro conjuntos de datos:\n",
        "\n",
        "    x: El conjunto de características de entrenamiento.\n",
        "    x_test: El conjunto de características de prueba.\n",
        "    y: El conjunto de etiquetas de entrenamiento.\n",
        "    y_test: El conjunto de etiquetas de prueba.\n",
        "\n",
        "Por lo tanto, después de ejecutar esta línea de código, tendrás tus datos divididos en conjuntos de entrenamiento (x y y) y conjuntos de prueba (x_test y y_test), lo que te permitirá entrenar y evaluar modelos de aprendizaje automático con tus datos.\n"
      ],
      "metadata": {
        "id": "RhYxhrlFIV9N"
      }
    },
    {
      "cell_type": "code",
      "source": [
        "x, x_test, y, y_test = train_test_split(allX, ally, test_size=0.2, random_state=1)"
      ],
      "metadata": {
        "id": "AZH2qakUIXXB"
      },
      "execution_count": 35,
      "outputs": []
    },
    {
      "cell_type": "code",
      "source": [
        "print(x.shape[0])\n",
        "print(x_test.shape)\n",
        "print(y.shape)\n",
        "print(y_test.shape)"
      ],
      "metadata": {
        "colab": {
          "base_uri": "https://localhost:8080/"
        },
        "id": "1XgGQhOBInoO",
        "outputId": "bf5e2260-9ca3-483c-f07e-bc2d9f0a3fd4"
      },
      "execution_count": 36,
      "outputs": [
        {
          "output_type": "stream",
          "name": "stdout",
          "text": [
            "171\n",
            "(43, 64, 64, 3)\n",
            "(171,)\n",
            "(43,)\n"
          ]
        }
      ]
    },
    {
      "cell_type": "code",
      "source": [
        "x_train = x.reshape(x.shape[0], 64*64*3)\n",
        "x_test = x_test.reshape(x_test.shape[0], 64*64*3)\n",
        "\n",
        "x_train = x_train.astype('float32')\n",
        "x_test = x_test.astype('float32')\n",
        "\n",
        "x_train /= 255.\n",
        "x_test /= 255.\n",
        "\n",
        "y_train = y\n",
        "print(y_train)\n",
        "print(y_train.shape)\n",
        "print(\"-----\")\n",
        "print(x_train.shape)"
      ],
      "metadata": {
        "colab": {
          "base_uri": "https://localhost:8080/"
        },
        "id": "VGVWdumYJOO8",
        "outputId": "55d57e35-da61-46eb-e5a0-2534326d8b8e"
      },
      "execution_count": 38,
      "outputs": [
        {
          "output_type": "stream",
          "name": "stdout",
          "text": [
            "[0. 1. 0. 0. 0. 0. 1. 1. 0. 0. 0. 1. 0. 1. 0. 1. 1. 0. 0. 0. 0. 0. 1. 1.\n",
            " 0. 1. 0. 0. 0. 0. 0. 0. 0. 0. 0. 0. 1. 1. 0. 1. 0. 1. 0. 0. 0. 0. 0. 0.\n",
            " 1. 1. 0. 1. 0. 1. 1. 1. 1. 0. 1. 1. 0. 1. 0. 1. 1. 0. 0. 0. 0. 1. 1. 1.\n",
            " 0. 0. 1. 1. 1. 0. 0. 0. 1. 0. 0. 0. 1. 0. 1. 1. 0. 0. 0. 0. 0. 0. 1. 0.\n",
            " 0. 0. 0. 0. 0. 1. 0. 0. 0. 0. 0. 1. 0. 1. 0. 0. 1. 0. 0. 0. 1. 0. 0. 0.\n",
            " 0. 0. 0. 0. 0. 1. 0. 0. 0. 1. 0. 0. 1. 0. 1. 0. 0. 0. 0. 0. 0. 0. 0. 0.\n",
            " 1. 0. 0. 0. 0. 0. 0. 1. 1. 0. 0. 0. 0. 1. 0. 0. 0. 0. 0. 1. 0. 0. 1. 0.\n",
            " 0. 0. 0.]\n",
            "(171,)\n",
            "-----\n",
            "(171, 12288)\n"
          ]
        }
      ]
    },
    {
      "cell_type": "code",
      "source": [
        "model = Sequential()\n",
        "model.add(Dense(512, activation='relu', input_shape=(64*64*3,)))\n",
        "model.add(Dense(512, activation='relu'))\n",
        "model.add(Dropout(0.2))\n",
        "model.add(Dense(512, activation='relu'))\n",
        "model.add(Dropout(0.2))\n",
        "model.add(Dense(512, activation='relu'))\n",
        "model.add(Dense(1, activation='sigmoid'))\n",
        "\n",
        "model.summary()"
      ],
      "metadata": {
        "colab": {
          "base_uri": "https://localhost:8080/"
        },
        "id": "OWYdbtl-JPMK",
        "outputId": "28715e88-7719-4d25-b3bc-0d33a9e60c16"
      },
      "execution_count": 39,
      "outputs": [
        {
          "output_type": "stream",
          "name": "stdout",
          "text": [
            "Model: \"sequential\"\n",
            "_________________________________________________________________\n",
            " Layer (type)                Output Shape              Param #   \n",
            "=================================================================\n",
            " dense (Dense)               (None, 512)               6291968   \n",
            "                                                                 \n",
            " dense_1 (Dense)             (None, 512)               262656    \n",
            "                                                                 \n",
            " dropout (Dropout)           (None, 512)               0         \n",
            "                                                                 \n",
            " dense_2 (Dense)             (None, 512)               262656    \n",
            "                                                                 \n",
            " dropout_1 (Dropout)         (None, 512)               0         \n",
            "                                                                 \n",
            " dense_3 (Dense)             (None, 512)               262656    \n",
            "                                                                 \n",
            " dense_4 (Dense)             (None, 1)                 513       \n",
            "                                                                 \n",
            "=================================================================\n",
            "Total params: 7080449 (27.01 MB)\n",
            "Trainable params: 7080449 (27.01 MB)\n",
            "Non-trainable params: 0 (0.00 Byte)\n",
            "_________________________________________________________________\n"
          ]
        }
      ]
    },
    {
      "cell_type": "code",
      "source": [
        "model.compile(loss='binary_crossentropy',optimizer=RMSprop(learning_rate=0.0001),metrics=['accuracy'])"
      ],
      "metadata": {
        "id": "LE4k7aNBJxlr"
      },
      "execution_count": 40,
      "outputs": []
    },
    {
      "cell_type": "code",
      "source": [
        "history = model.fit(x_train, y_train,batch_size=10,epochs=10,verbose=1,validation_data=(x_test, y_test))"
      ],
      "metadata": {
        "colab": {
          "base_uri": "https://localhost:8080/"
        },
        "id": "gkhHrY6BJ8Ct",
        "outputId": "1e1ea3b9-47af-4b5c-d9ee-8221c91b80a1"
      },
      "execution_count": 41,
      "outputs": [
        {
          "output_type": "stream",
          "name": "stdout",
          "text": [
            "Epoch 1/10\n",
            "18/18 [==============================] - 3s 107ms/step - loss: 0.7524 - accuracy: 0.6491 - val_loss: 0.6579 - val_accuracy: 0.7442\n",
            "Epoch 2/10\n",
            "18/18 [==============================] - 2s 116ms/step - loss: 0.6750 - accuracy: 0.6667 - val_loss: 0.6447 - val_accuracy: 0.7442\n",
            "Epoch 3/10\n",
            "18/18 [==============================] - 2s 110ms/step - loss: 0.7032 - accuracy: 0.6374 - val_loss: 0.7575 - val_accuracy: 0.3256\n",
            "Epoch 4/10\n",
            "18/18 [==============================] - 1s 77ms/step - loss: 0.6638 - accuracy: 0.6784 - val_loss: 0.5659 - val_accuracy: 0.7442\n",
            "Epoch 5/10\n",
            "18/18 [==============================] - 1s 79ms/step - loss: 0.6545 - accuracy: 0.6667 - val_loss: 0.6660 - val_accuracy: 0.6279\n",
            "Epoch 6/10\n",
            "18/18 [==============================] - 2s 111ms/step - loss: 0.6546 - accuracy: 0.6784 - val_loss: 0.5792 - val_accuracy: 0.7442\n",
            "Epoch 7/10\n",
            "18/18 [==============================] - 2s 134ms/step - loss: 0.6527 - accuracy: 0.6667 - val_loss: 0.5782 - val_accuracy: 0.7442\n",
            "Epoch 8/10\n",
            "18/18 [==============================] - 2s 89ms/step - loss: 0.6519 - accuracy: 0.6667 - val_loss: 0.6767 - val_accuracy: 0.5814\n",
            "Epoch 9/10\n",
            "18/18 [==============================] - 2s 92ms/step - loss: 0.6217 - accuracy: 0.6959 - val_loss: 1.0099 - val_accuracy: 0.2558\n",
            "Epoch 10/10\n",
            "18/18 [==============================] - 2s 108ms/step - loss: 0.6394 - accuracy: 0.6550 - val_loss: 0.5983 - val_accuracy: 0.7442\n"
          ]
        }
      ]
    },
    {
      "cell_type": "code",
      "source": [
        "score = model.evaluate(x_test, y_test, verbose=0)\n",
        "print(score)"
      ],
      "metadata": {
        "colab": {
          "base_uri": "https://localhost:8080/"
        },
        "id": "e9kHOWcVKk72",
        "outputId": "f93e7056-0755-4b1c-9a83-b3f9e6472a0b"
      },
      "execution_count": 42,
      "outputs": [
        {
          "output_type": "stream",
          "name": "stdout",
          "text": [
            "[0.5982698202133179, 0.7441860437393188]\n"
          ]
        }
      ]
    }
  ]
}