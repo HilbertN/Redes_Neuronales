{
  "nbformat": 4,
  "nbformat_minor": 0,
  "metadata": {
    "colab": {
      "provenance": [],
      "include_colab_link": true
    },
    "kernelspec": {
      "name": "python3",
      "display_name": "Python 3"
    },
    "language_info": {
      "name": "python"
    }
  },
  "cells": [
    {
      "cell_type": "markdown",
      "metadata": {
        "id": "view-in-github",
        "colab_type": "text"
      },
      "source": [
        "<a href=\"https://colab.research.google.com/github/HilbertN/Redes_Neuronales/blob/main/RN2_PrimeraRedDensaKeras.ipynb\" target=\"_parent\"><img src=\"https://colab.research.google.com/assets/colab-badge.svg\" alt=\"Open In Colab\"/></a>"
      ]
    },
    {
      "cell_type": "code",
      "execution_count": 1,
      "metadata": {
        "id": "GJ_8iPWWN8fn"
      },
      "outputs": [],
      "source": [
        "import tensorflow as tf\n",
        "from tensorflow import keras\n",
        "from tensorflow.keras.datasets import mnist\n",
        "from tensorflow.keras.models import Sequential\n",
        "from tensorflow.keras.layers import Dense, Dropout, Activation\n",
        "from tensorflow.keras.optimizers import RMSprop, SGD\n",
        "from tensorflow.keras import regularizers"
      ]
    },
    {
      "cell_type": "code",
      "source": [
        "learning_rate = 0.001\n",
        "epochs = 30\n",
        "batch_size = 120"
      ],
      "metadata": {
        "id": "_5WnkpI7OSmv"
      },
      "execution_count": 2,
      "outputs": []
    },
    {
      "cell_type": "code",
      "source": [
        "dataset=mnist.load_data()"
      ],
      "metadata": {
        "id": "xAGhEsx-P_MP",
        "colab": {
          "base_uri": "https://localhost:8080/"
        },
        "outputId": "2c7586e3-eae2-405b-f01b-4ee623c1d58e"
      },
      "execution_count": 3,
      "outputs": [
        {
          "output_type": "stream",
          "name": "stdout",
          "text": [
            "Downloading data from https://storage.googleapis.com/tensorflow/tf-keras-datasets/mnist.npz\n",
            "11490434/11490434 [==============================] - 0s 0us/step\n"
          ]
        }
      ]
    },
    {
      "cell_type": "code",
      "source": [
        "type(dataset)"
      ],
      "metadata": {
        "colab": {
          "base_uri": "https://localhost:8080/"
        },
        "id": "H8Osp16wBXM-",
        "outputId": "cc17baa6-8aac-4964-c503-722131e53f45"
      },
      "execution_count": 4,
      "outputs": [
        {
          "output_type": "execute_result",
          "data": {
            "text/plain": [
              "tuple"
            ]
          },
          "metadata": {},
          "execution_count": 4
        }
      ]
    },
    {
      "cell_type": "code",
      "source": [
        "len(dataset)"
      ],
      "metadata": {
        "colab": {
          "base_uri": "https://localhost:8080/"
        },
        "id": "HpLom1KqBjlQ",
        "outputId": "6fcead18-c348-483a-e9d7-aed77f34b639"
      },
      "execution_count": 10,
      "outputs": [
        {
          "output_type": "execute_result",
          "data": {
            "text/plain": [
              "2"
            ]
          },
          "metadata": {},
          "execution_count": 10
        }
      ]
    },
    {
      "cell_type": "code",
      "source": [
        "dataset[0]"
      ],
      "metadata": {
        "colab": {
          "base_uri": "https://localhost:8080/"
        },
        "id": "kUDJXkBUBafV",
        "outputId": "3b911073-d9df-46a2-c935-aab60e0e03d0"
      },
      "execution_count": 11,
      "outputs": [
        {
          "output_type": "execute_result",
          "data": {
            "text/plain": [
              "(array([[[0, 0, 0, ..., 0, 0, 0],\n",
              "         [0, 0, 0, ..., 0, 0, 0],\n",
              "         [0, 0, 0, ..., 0, 0, 0],\n",
              "         ...,\n",
              "         [0, 0, 0, ..., 0, 0, 0],\n",
              "         [0, 0, 0, ..., 0, 0, 0],\n",
              "         [0, 0, 0, ..., 0, 0, 0]],\n",
              " \n",
              "        [[0, 0, 0, ..., 0, 0, 0],\n",
              "         [0, 0, 0, ..., 0, 0, 0],\n",
              "         [0, 0, 0, ..., 0, 0, 0],\n",
              "         ...,\n",
              "         [0, 0, 0, ..., 0, 0, 0],\n",
              "         [0, 0, 0, ..., 0, 0, 0],\n",
              "         [0, 0, 0, ..., 0, 0, 0]],\n",
              " \n",
              "        [[0, 0, 0, ..., 0, 0, 0],\n",
              "         [0, 0, 0, ..., 0, 0, 0],\n",
              "         [0, 0, 0, ..., 0, 0, 0],\n",
              "         ...,\n",
              "         [0, 0, 0, ..., 0, 0, 0],\n",
              "         [0, 0, 0, ..., 0, 0, 0],\n",
              "         [0, 0, 0, ..., 0, 0, 0]],\n",
              " \n",
              "        ...,\n",
              " \n",
              "        [[0, 0, 0, ..., 0, 0, 0],\n",
              "         [0, 0, 0, ..., 0, 0, 0],\n",
              "         [0, 0, 0, ..., 0, 0, 0],\n",
              "         ...,\n",
              "         [0, 0, 0, ..., 0, 0, 0],\n",
              "         [0, 0, 0, ..., 0, 0, 0],\n",
              "         [0, 0, 0, ..., 0, 0, 0]],\n",
              " \n",
              "        [[0, 0, 0, ..., 0, 0, 0],\n",
              "         [0, 0, 0, ..., 0, 0, 0],\n",
              "         [0, 0, 0, ..., 0, 0, 0],\n",
              "         ...,\n",
              "         [0, 0, 0, ..., 0, 0, 0],\n",
              "         [0, 0, 0, ..., 0, 0, 0],\n",
              "         [0, 0, 0, ..., 0, 0, 0]],\n",
              " \n",
              "        [[0, 0, 0, ..., 0, 0, 0],\n",
              "         [0, 0, 0, ..., 0, 0, 0],\n",
              "         [0, 0, 0, ..., 0, 0, 0],\n",
              "         ...,\n",
              "         [0, 0, 0, ..., 0, 0, 0],\n",
              "         [0, 0, 0, ..., 0, 0, 0],\n",
              "         [0, 0, 0, ..., 0, 0, 0]]], dtype=uint8),\n",
              " array([5, 0, 4, ..., 5, 6, 8], dtype=uint8))"
            ]
          },
          "metadata": {},
          "execution_count": 11
        }
      ]
    },
    {
      "cell_type": "code",
      "source": [
        "import numpy as np\n",
        "dat=np.array(dataset)\n",
        "print(dat[1,1].shape)\n",
        "(x_train, y_train), (x_test, y_test) = dataset"
      ],
      "metadata": {
        "colab": {
          "base_uri": "https://localhost:8080/"
        },
        "id": "kUgQhC-yQmoA",
        "outputId": "86db7a03-475c-4dcd-a07e-17c3f8acc7dc"
      },
      "execution_count": 13,
      "outputs": [
        {
          "output_type": "stream",
          "name": "stdout",
          "text": [
            "(10000,)\n"
          ]
        },
        {
          "output_type": "stream",
          "name": "stderr",
          "text": [
            "<ipython-input-13-fd1065b11d44>:2: VisibleDeprecationWarning: Creating an ndarray from ragged nested sequences (which is a list-or-tuple of lists-or-tuples-or ndarrays with different lengths or shapes) is deprecated. If you meant to do this, you must specify 'dtype=object' when creating the ndarray.\n",
            "  dat=np.array(dataset)\n"
          ]
        }
      ]
    },
    {
      "cell_type": "code",
      "source": [
        "import matplotlib.pyplot as plt\n",
        "plt.imshow(dat[0,0][10000])"
      ],
      "metadata": {
        "colab": {
          "base_uri": "https://localhost:8080/",
          "height": 449
        },
        "id": "msFqfWv4SqJs",
        "outputId": "f8e3a3a2-27aa-4e45-9bc6-bac607e0051d"
      },
      "execution_count": 14,
      "outputs": [
        {
          "output_type": "execute_result",
          "data": {
            "text/plain": [
              "<matplotlib.image.AxesImage at 0x7dd0dd4f9e10>"
            ]
          },
          "metadata": {},
          "execution_count": 14
        },
        {
          "output_type": "display_data",
          "data": {
            "text/plain": [
              "<Figure size 640x480 with 1 Axes>"
            ],
            "image/png": "[encoded data removed]"
          },
          "metadata": {}
        }
      ]
    },
    {
      "cell_type": "code",
      "source": [
        "x_train.shape"
      ],
      "metadata": {
        "colab": {
          "base_uri": "https://localhost:8080/"
        },
        "id": "TwN7VEN_T0sr",
        "outputId": "4b3eefe0-4235-4e84-f0a0-1717834c8c19"
      },
      "execution_count": 15,
      "outputs": [
        {
          "output_type": "execute_result",
          "data": {
            "text/plain": [
              "(60000, 28, 28)"
            ]
          },
          "metadata": {},
          "execution_count": 15
        }
      ]
    },
    {
      "cell_type": "code",
      "source": [
        "x_trainv = x_train.reshape(60000, 784)#Cambiamos la dimensión de (60000,28,28) a (60000,784)\n",
        "x_testv = x_test.reshape(10000, 784)\n",
        "x_trainv = x_trainv.astype('float32')#Las redes suelen funcionar mejor con datos tipo flotante\n",
        "x_testv = x_testv.astype('float32')\n",
        "\n",
        "#Escalar datos puedo ayudar a evitar el problema de saturación de la neurona\n",
        "x_trainv /= 255  # x_trainv = x_trainv/255\n",
        "x_testv /= 255"
      ],
      "metadata": {
        "id": "xSwgxQ0kTwWT"
      },
      "execution_count": 19,
      "outputs": []
    },
    {
      "cell_type": "code",
      "source": [
        "print(y_train[10000])"
      ],
      "metadata": {
        "colab": {
          "base_uri": "https://localhost:8080/"
        },
        "id": "-8EYclMGUpFT",
        "outputId": "387e718b-f934-4d7e-9924-e864532b2f79"
      },
      "execution_count": 20,
      "outputs": [
        {
          "output_type": "stream",
          "name": "stdout",
          "text": [
            "3\n"
          ]
        }
      ]
    },
    {
      "cell_type": "code",
      "source": [
        "num_classes=10\n",
        "y_trainc = keras.utils.to_categorical(y_train, num_classes)\n",
        "y_testc = keras.utils.to_categorical(y_test, num_classes)"
      ],
      "metadata": {
        "id": "R-amYxZGUndc"
      },
      "execution_count": 22,
      "outputs": []
    },
    {
      "cell_type": "code",
      "source": [
        "y_trainc[10000]"
      ],
      "metadata": {
        "colab": {
          "base_uri": "https://localhost:8080/"
        },
        "id": "nxsmUUgaVELP",
        "outputId": "dddf4c48-8662-4f19-df9c-19403e196f6e"
      },
      "execution_count": 23,
      "outputs": [
        {
          "output_type": "execute_result",
          "data": {
            "text/plain": [
              "array([0., 0., 0., 1., 0., 0., 0., 0., 0., 0.], dtype=float32)"
            ]
          },
          "metadata": {},
          "execution_count": 23
        }
      ]
    },
    {
      "cell_type": "code",
      "source": [
        "model = Sequential()\n",
        "model.add(Dense(512, activation='sigmoid', input_shape=(784,)))\n",
        "model.add(Dense(num_classes, activation='sigmoid'))\n",
        "\n",
        "model.summary()"
      ],
      "metadata": {
        "colab": {
          "base_uri": "https://localhost:8080/"
        },
        "id": "beuSlmuNVUDt",
        "outputId": "61c0e496-e5b5-4ce2-fb41-8c1d839d52d8"
      },
      "execution_count": 50,
      "outputs": [
        {
          "output_type": "stream",
          "name": "stdout",
          "text": [
            "Model: \"sequential_2\"\n",
            "_________________________________________________________________\n",
            " Layer (type)                Output Shape              Param #   \n",
            "=================================================================\n",
            " dense_4 (Dense)             (None, 512)               401920    \n",
            "                                                                 \n",
            " dense_5 (Dense)             (None, 10)                5130      \n",
            "                                                                 \n",
            "=================================================================\n",
            "Total params: 407050 (1.55 MB)\n",
            "Trainable params: 407050 (1.55 MB)\n",
            "Non-trainable params: 0 (0.00 Byte)\n",
            "_________________________________________________________________\n"
          ]
        }
      ]
    },
    {
      "cell_type": "code",
      "source": [
        "model.compile(loss='categorical_crossentropy',optimizer=SGD(learning_rate=learning_rate),metrics=['accuracy'])"
      ],
      "metadata": {
        "id": "DA8CFMYtWmVE"
      },
      "execution_count": 44,
      "outputs": []
    },
    {
      "cell_type": "code",
      "source": [
        "history = model.fit(x_trainv, y_trainc,\n",
        "                    batch_size=batch_size,\n",
        "                    epochs=epochs,\n",
        "                    verbose=1,\n",
        "                    validation_data=(x_testv, y_testc)\n",
        "                    )"
      ],
      "metadata": {
        "id": "2_k28zDtXJMb",
        "colab": {
          "base_uri": "https://localhost:8080/"
        },
        "outputId": "455676e4-b6e5-40b0-d4e5-9ae649dbbcb5"
      },
      "execution_count": 45,
      "outputs": [
        {
          "output_type": "stream",
          "name": "stdout",
          "text": [
            "Epoch 1/30\n",
            "500/500 [==============================] - 3s 6ms/step - loss: 2.2619 - accuracy: 0.2061 - val_loss: 2.2032 - val_accuracy: 0.2987\n",
            "Epoch 2/30\n",
            "500/500 [==============================] - 2s 5ms/step - loss: 2.1653 - accuracy: 0.3995 - val_loss: 2.1204 - val_accuracy: 0.4911\n",
            "Epoch 3/30\n",
            "500/500 [==============================] - 2s 5ms/step - loss: 2.0860 - accuracy: 0.5384 - val_loss: 2.0410 - val_accuracy: 0.5866\n",
            "Epoch 4/30\n",
            "500/500 [==============================] - 2s 5ms/step - loss: 2.0096 - accuracy: 0.6080 - val_loss: 1.9647 - val_accuracy: 0.6440\n",
            "Epoch 5/30\n",
            "500/500 [==============================] - 2s 5ms/step - loss: 1.9361 - accuracy: 0.6510 - val_loss: 1.8912 - val_accuracy: 0.6756\n",
            "Epoch 6/30\n",
            "500/500 [==============================] - 3s 6ms/step - loss: 1.8650 - accuracy: 0.6766 - val_loss: 1.8201 - val_accuracy: 0.6951\n",
            "Epoch 7/30\n",
            "500/500 [==============================] - 2s 5ms/step - loss: 1.7964 - accuracy: 0.6943 - val_loss: 1.7516 - val_accuracy: 0.7237\n",
            "Epoch 8/30\n",
            "500/500 [==============================] - 2s 5ms/step - loss: 1.7303 - accuracy: 0.7092 - val_loss: 1.6856 - val_accuracy: 0.7334\n",
            "Epoch 9/30\n",
            "500/500 [==============================] - 2s 5ms/step - loss: 1.6668 - accuracy: 0.7208 - val_loss: 1.6219 - val_accuracy: 0.7421\n",
            "Epoch 10/30\n",
            "500/500 [==============================] - 2s 5ms/step - loss: 1.6057 - accuracy: 0.7298 - val_loss: 1.5613 - val_accuracy: 0.7531\n",
            "Epoch 11/30\n",
            "500/500 [==============================] - 3s 6ms/step - loss: 1.5473 - accuracy: 0.7404 - val_loss: 1.5033 - val_accuracy: 0.7586\n",
            "Epoch 12/30\n",
            "500/500 [==============================] - 2s 5ms/step - loss: 1.4916 - accuracy: 0.7478 - val_loss: 1.4482 - val_accuracy: 0.7697\n",
            "Epoch 13/30\n",
            "500/500 [==============================] - 2s 5ms/step - loss: 1.4387 - accuracy: 0.7551 - val_loss: 1.3959 - val_accuracy: 0.7739\n",
            "Epoch 14/30\n",
            "500/500 [==============================] - 2s 5ms/step - loss: 1.3883 - accuracy: 0.7623 - val_loss: 1.3464 - val_accuracy: 0.7748\n",
            "Epoch 15/30\n",
            "500/500 [==============================] - 3s 5ms/step - loss: 1.3407 - accuracy: 0.7685 - val_loss: 1.2994 - val_accuracy: 0.7792\n",
            "Epoch 16/30\n",
            "500/500 [==============================] - 3s 6ms/step - loss: 1.2958 - accuracy: 0.7736 - val_loss: 1.2553 - val_accuracy: 0.7883\n",
            "Epoch 17/30\n",
            "500/500 [==============================] - 3s 6ms/step - loss: 1.2534 - accuracy: 0.7795 - val_loss: 1.2137 - val_accuracy: 0.7939\n",
            "Epoch 18/30\n",
            "500/500 [==============================] - 2s 5ms/step - loss: 1.2135 - accuracy: 0.7846 - val_loss: 1.1743 - val_accuracy: 0.7984\n",
            "Epoch 19/30\n",
            "500/500 [==============================] - 2s 5ms/step - loss: 1.1759 - accuracy: 0.7886 - val_loss: 1.1379 - val_accuracy: 0.8039\n",
            "Epoch 20/30\n",
            "500/500 [==============================] - 3s 5ms/step - loss: 1.1406 - accuracy: 0.7932 - val_loss: 1.1030 - val_accuracy: 0.8087\n",
            "Epoch 21/30\n",
            "500/500 [==============================] - 2s 5ms/step - loss: 1.1074 - accuracy: 0.7982 - val_loss: 1.0706 - val_accuracy: 0.8115\n",
            "Epoch 22/30\n",
            "500/500 [==============================] - 2s 5ms/step - loss: 1.0763 - accuracy: 0.8018 - val_loss: 1.0403 - val_accuracy: 0.8134\n",
            "Epoch 23/30\n",
            "500/500 [==============================] - 2s 5ms/step - loss: 1.0470 - accuracy: 0.8047 - val_loss: 1.0114 - val_accuracy: 0.8185\n",
            "Epoch 24/30\n",
            "500/500 [==============================] - 2s 5ms/step - loss: 1.0194 - accuracy: 0.8094 - val_loss: 0.9848 - val_accuracy: 0.8199\n",
            "Epoch 25/30\n",
            "500/500 [==============================] - 3s 6ms/step - loss: 0.9935 - accuracy: 0.8117 - val_loss: 0.9593 - val_accuracy: 0.8213\n",
            "Epoch 26/30\n",
            "500/500 [==============================] - 2s 5ms/step - loss: 0.9691 - accuracy: 0.8146 - val_loss: 0.9355 - val_accuracy: 0.8254\n",
            "Epoch 27/30\n",
            "500/500 [==============================] - 2s 5ms/step - loss: 0.9461 - accuracy: 0.8172 - val_loss: 0.9132 - val_accuracy: 0.8269\n",
            "Epoch 28/30\n",
            "500/500 [==============================] - 2s 5ms/step - loss: 0.9244 - accuracy: 0.8202 - val_loss: 0.8921 - val_accuracy: 0.8303\n",
            "Epoch 29/30\n",
            "500/500 [==============================] - 2s 5ms/step - loss: 0.9040 - accuracy: 0.8224 - val_loss: 0.8721 - val_accuracy: 0.8347\n",
            "Epoch 30/30\n",
            "500/500 [==============================] - 3s 6ms/step - loss: 0.8847 - accuracy: 0.8255 - val_loss: 0.8531 - val_accuracy: 0.8363\n"
          ]
        }
      ]
    },
    {
      "cell_type": "code",
      "source": [
        "score = model.evaluate(x_testv, y_testc, verbose=1) #evaluar la eficiencia del modelo"
      ],
      "metadata": {
        "colab": {
          "base_uri": "https://localhost:8080/"
        },
        "id": "VTmnvEkeHYwE",
        "outputId": "4dc8ffac-32ac-40f1-dbea-81dedd69ae7f"
      },
      "execution_count": 46,
      "outputs": [
        {
          "output_type": "stream",
          "name": "stdout",
          "text": [
            "313/313 [==============================] - 1s 2ms/step - loss: 0.8531 - accuracy: 0.8363\n"
          ]
        }
      ]
    },
    {
      "cell_type": "code",
      "source": [
        "print(score)"
      ],
      "metadata": {
        "colab": {
          "base_uri": "https://localhost:8080/"
        },
        "id": "_foxIQ_DHb7f",
        "outputId": "634a6807-de6e-4cb2-a3f6-344d691e0c73"
      },
      "execution_count": 47,
      "outputs": [
        {
          "output_type": "stream",
          "name": "stdout",
          "text": [
            "[0.8531410098075867, 0.8363000154495239]\n"
          ]
        }
      ]
    },
    {
      "cell_type": "code",
      "source": [
        "a=model.predict(x_testv) #predicción de la red entrenada"
      ],
      "metadata": {
        "colab": {
          "base_uri": "https://localhost:8080/"
        },
        "id": "spLEMPLxHlZ2",
        "outputId": "81f97ad3-76ac-4e53-d6f0-c24edcbb8d0a"
      },
      "execution_count": 33,
      "outputs": [
        {
          "output_type": "stream",
          "name": "stdout",
          "text": [
            "313/313 [==============================] - 0s 1ms/step\n"
          ]
        }
      ]
    },
    {
      "cell_type": "code",
      "source": [
        "print(a.shape)"
      ],
      "metadata": {
        "colab": {
          "base_uri": "https://localhost:8080/"
        },
        "id": "5KSe7bXTHp9H",
        "outputId": "e6f54f17-67ed-42d1-cdaf-81cf1473a348"
      },
      "execution_count": 34,
      "outputs": [
        {
          "output_type": "stream",
          "name": "stdout",
          "text": [
            "(10000, 10)\n"
          ]
        }
      ]
    },
    {
      "cell_type": "code",
      "source": [
        "print(a[1])"
      ],
      "metadata": {
        "colab": {
          "base_uri": "https://localhost:8080/"
        },
        "id": "iPz-_Jn5HvPa",
        "outputId": "1701d59e-0a99-48eb-c935-92fb726e8697"
      },
      "execution_count": 35,
      "outputs": [
        {
          "output_type": "stream",
          "name": "stdout",
          "text": [
            "[0.63785934 0.60652    0.89604485 0.843632   0.09399487 0.77790356\n",
            " 0.83682543 0.10710023 0.62697864 0.11676896]\n"
          ]
        }
      ]
    },
    {
      "cell_type": "code",
      "source": [
        "print(\"resultado correcto:\")\n",
        "print(y_testc[1])"
      ],
      "metadata": {
        "colab": {
          "base_uri": "https://localhost:8080/"
        },
        "id": "3FzSwhTuH2ug",
        "outputId": "ba10bae2-cdb5-4339-aea6-71c473b59794"
      },
      "execution_count": 37,
      "outputs": [
        {
          "output_type": "stream",
          "name": "stdout",
          "text": [
            "resultado correcto:\n",
            "[0. 0. 1. 0. 0. 0. 0. 0. 0. 0.]\n"
          ]
        }
      ]
    },
    {
      "cell_type": "code",
      "source": [
        "#Para guardar el modelo en disco\n",
        "#model.save(\"red.h5\")"
      ],
      "metadata": {
        "id": "AWXql1k04F7K"
      },
      "execution_count": 39,
      "outputs": []
    },
    {
      "cell_type": "code",
      "source": [
        "#para cargar la red:\n",
        "modelo_cargado = tf.keras.models.load_model('red.h5')"
      ],
      "metadata": {
        "id": "CDsy85rb4Cs_"
      },
      "execution_count": 41,
      "outputs": []
    },
    {
      "cell_type": "code",
      "source": [
        "score1 = modelo_cargado.evaluate(x_testv, y_testc, verbose=1)"
      ],
      "metadata": {
        "colab": {
          "base_uri": "https://localhost:8080/"
        },
        "id": "xrCbMUpIIhml",
        "outputId": "23483c35-b027-4505-8281-b42898a05b7e"
      },
      "execution_count": 49,
      "outputs": [
        {
          "output_type": "stream",
          "name": "stdout",
          "text": [
            "313/313 [==============================] - 1s 2ms/step - loss: 0.8566 - accuracy: 0.8377\n"
          ]
        }
      ]
    }
  ]
}