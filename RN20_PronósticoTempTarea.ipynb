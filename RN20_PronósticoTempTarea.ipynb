{
  "nbformat": 4,
  "nbformat_minor": 0,
  "metadata": {
    "colab": {
      "provenance": [],
      "gpuType": "T4",
      "include_colab_link": true
    },
    "kernelspec": {
      "name": "python3",
      "display_name": "Python 3"
    },
    "language_info": {
      "name": "python"
    },
    "accelerator": "GPU"
  },
  "cells": [
    {
      "cell_type": "markdown",
      "metadata": {
        "id": "view-in-github",
        "colab_type": "text"
      },
      "source": [
        "<a href=\"https://colab.research.google.com/github/HilbertN/Redes_Neuronales/blob/main/RN20_Pron%C3%B3sticoTempTarea.ipynb\" target=\"_parent\"><img src=\"https://colab.research.google.com/assets/colab-badge.svg\" alt=\"Open In Colab\"/></a>"
      ]
    },
    {
      "cell_type": "markdown",
      "source": [
        "#Ejemplo Prónostico Temperatura"
      ],
      "metadata": {
        "id": "qS4SOJ21LEv0"
      }
    },
    {
      "cell_type": "code",
      "source": [
        "from tensorflow import keras\n",
        "import numpy as np"
      ],
      "metadata": {
        "id": "Fc7U0jD71kRI"
      },
      "execution_count": 1,
      "outputs": []
    },
    {
      "cell_type": "markdown",
      "source": [
        "Obtenemos los datos y descomprimimos"
      ],
      "metadata": {
        "id": "YXkv7DAEQD32"
      }
    },
    {
      "cell_type": "code",
      "execution_count": 2,
      "metadata": {
        "id": "n1jX2GInMnYu",
        "colab": {
          "base_uri": "https://localhost:8080/"
        },
        "outputId": "7e14e037-f397-45e1-bb0c-30e79fdc152c"
      },
      "outputs": [
        {
          "output_type": "stream",
          "name": "stdout",
          "text": [
            "--2023-11-08 22:09:42--  https://s3.amazonaws.com/keras-datasets/jena_climate_2009_2016.csv.zip\n",
            "Resolving s3.amazonaws.com (s3.amazonaws.com)... 54.231.133.224, 52.216.250.38, 52.216.29.38, ...\n",
            "Connecting to s3.amazonaws.com (s3.amazonaws.com)|54.231.133.224|:443... connected.\n",
            "HTTP request sent, awaiting response... 200 OK\n",
            "Length: 13565642 (13M) [application/zip]\n",
            "Saving to: ‘jena_climate_2009_2016.csv.zip’\n",
            "\n",
            "jena_climate_2009_2 100%[===================>]  12.94M  5.73MB/s    in 2.3s    \n",
            "\n",
            "2023-11-08 22:09:46 (5.73 MB/s) - ‘jena_climate_2009_2016.csv.zip’ saved [13565642/13565642]\n",
            "\n",
            "Archive:  jena_climate_2009_2016.csv.zip\n",
            "  inflating: jena_climate_2009_2016.csv  \n",
            "  inflating: __MACOSX/._jena_climate_2009_2016.csv  \n"
          ]
        }
      ],
      "source": [
        "!wget https://s3.amazonaws.com/keras-datasets/jena_climate_2009_2016.csv.zip\n",
        "!unzip jena_climate_2009_2016.csv.zip"
      ]
    },
    {
      "cell_type": "markdown",
      "source": [
        "# Preparación de los datos"
      ],
      "metadata": {
        "id": "93LRW8KCjPYX"
      }
    },
    {
      "cell_type": "markdown",
      "source": [
        "Imprimimos los encabezados y separamos los datos del encabezado"
      ],
      "metadata": {
        "id": "e5eQyyGQQTL5"
      }
    },
    {
      "cell_type": "code",
      "source": [
        "import os\n",
        "fname = os.path.join(\"jena_climate_2009_2016.csv\")\n",
        "with open(fname) as f:\n",
        "   data = f.read()\n",
        "\n",
        "lines = data.split(\"\\n\")\n",
        "#Esto es útil para dividir un bloque de texto en líneas individuales,\n",
        "# lo que es comúnmente necesario cuando se trabaja con datos de texto, como un archivo CSV o un archivo de registro.\n",
        "header = lines[0].split(\",\")\n",
        "lines = lines[1:]\n",
        "print(header)\n",
        "print(len(lines))"
      ],
      "metadata": {
        "colab": {
          "base_uri": "https://localhost:8080/"
        },
        "id": "wJ0pkp-fNA3w",
        "outputId": "d0b2ff12-03ac-4e1c-f30c-fca4dec86e21"
      },
      "execution_count": 3,
      "outputs": [
        {
          "output_type": "stream",
          "name": "stdout",
          "text": [
            "['\"Date Time\"', '\"p (mbar)\"', '\"T (degC)\"', '\"Tpot (K)\"', '\"Tdew (degC)\"', '\"rh (%)\"', '\"VPmax (mbar)\"', '\"VPact (mbar)\"', '\"VPdef (mbar)\"', '\"sh (g/kg)\"', '\"H2OC (mmol/mol)\"', '\"rho (g/m**3)\"', '\"wv (m/s)\"', '\"max. wv (m/s)\"', '\"wd (deg)\"']\n",
            "420451\n"
          ]
        }
      ]
    },
    {
      "cell_type": "markdown",
      "source": [
        "Separamos datos de temperatura y los demás"
      ],
      "metadata": {
        "id": "LwbGn_f0Rp__"
      }
    },
    {
      "cell_type": "code",
      "source": [
        "import numpy as np\n",
        "temperature = np.zeros((len(lines),))\n",
        "raw_data = np.zeros((len(lines), len(header) - 1))\n",
        "for i, line in enumerate(lines):\n",
        "  values = [float(x) for x in line.split(\",\")[1:]]\n",
        "  temperature[i] = values[1]\n",
        "  raw_data[i, :] = values[:]"
      ],
      "metadata": {
        "id": "MEBbR0qzNnpq"
      },
      "execution_count": 4,
      "outputs": []
    },
    {
      "cell_type": "code",
      "source": [
        "raw_data[0,:]"
      ],
      "metadata": {
        "colab": {
          "base_uri": "https://localhost:8080/"
        },
        "id": "rQMXf_4ka1bR",
        "outputId": "484a8a1e-d497-48b7-d423-2d666af624be"
      },
      "execution_count": 5,
      "outputs": [
        {
          "output_type": "execute_result",
          "data": {
            "text/plain": [
              "array([ 9.96520e+02, -8.02000e+00,  2.65400e+02, -8.90000e+00,\n",
              "        9.33000e+01,  3.33000e+00,  3.11000e+00,  2.20000e-01,\n",
              "        1.94000e+00,  3.12000e+00,  1.30775e+03,  1.03000e+00,\n",
              "        1.75000e+00,  1.52300e+02])"
            ]
          },
          "metadata": {},
          "execution_count": 5
        }
      ]
    },
    {
      "cell_type": "markdown",
      "source": [
        "Graficamos la serie de tiempo de temperaturas"
      ],
      "metadata": {
        "id": "4jbF-3YoRybL"
      }
    },
    {
      "cell_type": "code",
      "source": [
        "from matplotlib import pyplot as plt\n",
        "plt.plot(range(len(temperature)), temperature)"
      ],
      "metadata": {
        "colab": {
          "base_uri": "https://localhost:8080/",
          "height": 453
        },
        "id": "EaP2UcI5P8fD",
        "outputId": "875af7ae-3402-4379-c720-71b67d49a38c"
      },
      "execution_count": 6,
      "outputs": [
        {
          "output_type": "execute_result",
          "data": {
            "text/plain": [
              "[<matplotlib.lines.Line2D at 0x7afdd95c6cb0>]"
            ]
          },
          "metadata": {},
          "execution_count": 6
        },
        {
          "output_type": "display_data",
          "data": {
            "text/plain": [
              "<Figure size 640x480 with 1 Axes>"
            ],
            "image/png": "[encoded data removed]"
          },
          "metadata": {}
        }
      ]
    },
    {
      "cell_type": "markdown",
      "source": [
        "Los datos son tomados cada 10 minutos. Tienen mucha resolución!!. Por ejemplo, podemos graficar los primeros diez días. 24x6=144 <- Es el número de datos correspondiente a un día."
      ],
      "metadata": {
        "id": "X-Hx-8s-R-oB"
      }
    },
    {
      "cell_type": "code",
      "source": [
        "plt.plot(range(1440), temperature[:1440])"
      ],
      "metadata": {
        "colab": {
          "base_uri": "https://localhost:8080/",
          "height": 449
        },
        "id": "7jPtR3WASVBv",
        "outputId": "e727c8c3-4b70-46e6-fdb5-2a58d92fd3a2"
      },
      "execution_count": 7,
      "outputs": [
        {
          "output_type": "execute_result",
          "data": {
            "text/plain": [
              "[<matplotlib.lines.Line2D at 0x7afdd859f280>]"
            ]
          },
          "metadata": {},
          "execution_count": 7
        },
        {
          "output_type": "display_data",
          "data": {
            "text/plain": [
              "<Figure size 640x480 with 1 Axes>"
            ],
            "image/png": "[encoded data removed]"
          },
          "metadata": {}
        }
      ]
    },
    {
      "cell_type": "markdown",
      "source": [
        "\n",
        "\n",
        "1.   Genera secuencias x para entrenamiento (50%), validación (25%) y prueba (25%) de 120 elementos de longitud a partir de los datos de temperatura.\n",
        "Aquí hay un ejemplo de una forma de lograrlo para generar un conjunto de secuencias:\n",
        "\n"
      ],
      "metadata": {
        "id": "FiuI7o_ySyCZ"
      }
    },
    {
      "cell_type": "markdown",
      "source": [
        "Calculamos los tamaños de muestra para datos de entrenamiento, validación y prueba."
      ],
      "metadata": {
        "id": "VFNkFuKjxbxI"
      }
    },
    {
      "cell_type": "code",
      "source": [
        "num_train_samples = int(0.5 * len(raw_data))\n",
        "num_val_samples = int(0.25 * len(raw_data))\n",
        "num_test_samples = len(raw_data) - num_train_samples - num_val_samples\n",
        "print(\"num_train_samples:\", num_train_samples)\n",
        "print(\"num_val_samples:\", num_val_samples)\n",
        "print(\"num_test_samples:\", num_test_samples)"
      ],
      "metadata": {
        "colab": {
          "base_uri": "https://localhost:8080/"
        },
        "id": "O7oWFcVfv36h",
        "outputId": "165c1888-bac8-4d6b-eff5-bd4c8ee32892"
      },
      "execution_count": 8,
      "outputs": [
        {
          "output_type": "stream",
          "name": "stdout",
          "text": [
            "num_train_samples: 210225\n",
            "num_val_samples: 105112\n",
            "num_test_samples: 105114\n"
          ]
        }
      ]
    },
    {
      "cell_type": "markdown",
      "source": [
        "La formulación exacta del problema será la siguiente: dada una serie de datos que cubre los últimos cinco días y se muestrea una vez por hora, ¿podemos predecir la temperatura en 24 horas?\n",
        "\n",
        "Primero, vamos a preprocesar los datos a un formato que una red neuronal pueda procesar. Esto es fácil: los datos ya son numéricos, por lo que no necesitas hacer ninguna vectorización. Sin embargo, cada serie temporal en los datos está en una escala diferente (por ejemplo, la presión atmosférica, medida en mbar, está alrededor de 1,000, mientras que H2OC, medida en milimoles por mol, está alrededor de 3). Normalizaremos cada serie temporal de manera independiente para que todas tengan valores pequeños en una escala similar. Utilizaremos los primeros 210,225 pasos de tiempo como datos de entrenamiento, por lo que calcularemos la media y la desviación estándar solo en esta fracción de los datos."
      ],
      "metadata": {
        "id": "TFUtObZyyLY1"
      }
    },
    {
      "cell_type": "code",
      "source": [
        "mean = raw_data[:num_train_samples].mean(axis=0)\n",
        "raw_data -= mean\n",
        "std = raw_data[:num_train_samples].std(axis=0)\n",
        "raw_data /= std"
      ],
      "metadata": {
        "id": "2en-ASH_ynVw"
      },
      "execution_count": 9,
      "outputs": []
    },
    {
      "cell_type": "code",
      "source": [
        "n=np.array([[1,2,3],[3,4,8],[2,6,7]])\n",
        "n"
      ],
      "metadata": {
        "colab": {
          "base_uri": "https://localhost:8080/"
        },
        "id": "y9qzAmXbyt3_",
        "outputId": "cc931035-5001-463b-a22f-88945981e983"
      },
      "execution_count": 10,
      "outputs": [
        {
          "output_type": "execute_result",
          "data": {
            "text/plain": [
              "array([[1, 2, 3],\n",
              "       [3, 4, 8],\n",
              "       [2, 6, 7]])"
            ]
          },
          "metadata": {},
          "execution_count": 10
        }
      ]
    },
    {
      "cell_type": "code",
      "source": [
        "H=n[:2]\n",
        "H"
      ],
      "metadata": {
        "colab": {
          "base_uri": "https://localhost:8080/"
        },
        "id": "kAD-VcKCy_Et",
        "outputId": "15996b8a-47dd-45cd-8549-165c28442d6b"
      },
      "execution_count": 11,
      "outputs": [
        {
          "output_type": "execute_result",
          "data": {
            "text/plain": [
              "array([[1, 2, 3],\n",
              "       [3, 4, 8]])"
            ]
          },
          "metadata": {},
          "execution_count": 11
        }
      ]
    },
    {
      "cell_type": "code",
      "source": [
        "m=n[:2].mean(axis=0)\n",
        "m"
      ],
      "metadata": {
        "colab": {
          "base_uri": "https://localhost:8080/"
        },
        "id": "zrULmmWCy2ft",
        "outputId": "84478e01-fbdb-4eb3-c456-9a76d3e51ed9"
      },
      "execution_count": 12,
      "outputs": [
        {
          "output_type": "execute_result",
          "data": {
            "text/plain": [
              "array([2. , 3. , 5.5])"
            ]
          },
          "metadata": {},
          "execution_count": 12
        }
      ]
    },
    {
      "cell_type": "code",
      "source": [
        "H-m"
      ],
      "metadata": {
        "colab": {
          "base_uri": "https://localhost:8080/"
        },
        "id": "CjWMU7yucBOX",
        "outputId": "66c9f3a5-52b3-4a35-bd1b-92cb0dc87f56"
      },
      "execution_count": 13,
      "outputs": [
        {
          "output_type": "execute_result",
          "data": {
            "text/plain": [
              "array([[-1. , -1. , -2.5],\n",
              "       [ 1. ,  1. ,  2.5]])"
            ]
          },
          "metadata": {},
          "execution_count": 13
        }
      ]
    },
    {
      "cell_type": "markdown",
      "source": [
        "A continuación, creemos un objeto de conjunto de datos (Dataset) que genere lotes de datos de los últimos cinco días junto con la temperatura objetivo 24 horas en el futuro. Dado que las muestras en el conjunto de datos son altamente redundantes (la muestra N y la muestra N + 1 tendrán la mayoría de sus pasos de tiempo en común), sería un desperdicio de memoria asignar explícitamente memoria para cada muestra. En su lugar, generaremos las muestras sobre la marcha mientras mantenemos en memoria solo los arreglos originales de raw_data y temperatura, y nada más.\n",
        "\n",
        "Podríamos escribir fácilmente un generador en Python para hacer esto, pero Keras tiene una utilidad de conjunto de datos incorporada que hace justamente eso (timeseries_dataset_from_array()), por lo que podemos ahorrarnos algo de trabajo utilizando esta función. Por lo general, puedes usarla para cualquier tipo de tarea de pronóstico de series temporales."
      ],
      "metadata": {
        "id": "eacPDz0h0nTa"
      }
    },
    {
      "cell_type": "code",
      "source": [
        "\n",
        "int_sequence = np.arange(10) #Generamos un array de enteros del 0 al 9\n",
        "dataset = keras.utils.timeseries_dataset_from_array(\n",
        "    data=int_sequence[:-3],    #secuencia para valores de x\n",
        "    targets = int_sequence[3:], #secuencia para extraer los valores y\n",
        "    sequence_length=3, #tamano de las secuencias x\n",
        "    batch_size=2,  #cada vez que se llame \"dataset\" nos regresara un batch de 2 secuencias\n",
        ")\n",
        "\n",
        "\n",
        "for inputs, targets in dataset:\n",
        "  print(\"series x\")\n",
        "  print(inputs)\n",
        "  print(\"y\")\n",
        "  print(targets)"
      ],
      "metadata": {
        "colab": {
          "base_uri": "https://localhost:8080/"
        },
        "id": "e2tmYBNx1Nyc",
        "outputId": "5b907d37-951a-4f21-f6bb-e2d24e17dfcc"
      },
      "execution_count": 14,
      "outputs": [
        {
          "output_type": "stream",
          "name": "stdout",
          "text": [
            "series x\n",
            "tf.Tensor(\n",
            "[[0 1 2]\n",
            " [1 2 3]], shape=(2, 3), dtype=int64)\n",
            "y\n",
            "tf.Tensor([3 4], shape=(2,), dtype=int64)\n",
            "series x\n",
            "tf.Tensor(\n",
            "[[2 3 4]\n",
            " [3 4 5]], shape=(2, 3), dtype=int64)\n",
            "y\n",
            "tf.Tensor([5 6], shape=(2,), dtype=int64)\n",
            "series x\n",
            "tf.Tensor([[4 5 6]], shape=(1, 3), dtype=int64)\n",
            "y\n",
            "tf.Tensor([7], shape=(1,), dtype=int64)\n"
          ]
        }
      ]
    },
    {
      "cell_type": "code",
      "source": [
        "inputs.shape"
      ],
      "metadata": {
        "colab": {
          "base_uri": "https://localhost:8080/"
        },
        "id": "UTj-GyDrc-yZ",
        "outputId": "fd285762-ff4c-4150-917f-0fc241001d1f"
      },
      "execution_count": 15,
      "outputs": [
        {
          "output_type": "execute_result",
          "data": {
            "text/plain": [
              "TensorShape([1, 3])"
            ]
          },
          "metadata": {},
          "execution_count": 15
        }
      ]
    },
    {
      "cell_type": "markdown",
      "source": [
        "O bien, si queremos visualizar de forma mas ordenada"
      ],
      "metadata": {
        "id": "nhgensAO1UoQ"
      }
    },
    {
      "cell_type": "code",
      "source": [
        "for inputs, targets in dataset:\n",
        "   for i in range(inputs.shape[0]):\n",
        "     print([int(x) for x in inputs[i]], int(targets[i]))"
      ],
      "metadata": {
        "colab": {
          "base_uri": "https://localhost:8080/"
        },
        "id": "SPL5DrLf1Tym",
        "outputId": "c906775c-53f0-443b-c82b-29ef8fb802c0"
      },
      "execution_count": 16,
      "outputs": [
        {
          "output_type": "stream",
          "name": "stdout",
          "text": [
            "[0, 1, 2] 3\n",
            "[1, 2, 3] 4\n",
            "[2, 3, 4] 5\n",
            "[3, 4, 5] 6\n",
            "[4, 5, 6] 7\n"
          ]
        }
      ]
    },
    {
      "cell_type": "markdown",
      "source": [
        "Utilizaremos timeseries_dataset_from_array() para crear tres conjuntos de datos: uno para entrenamiento, otro para validación y uno más para pruebas.\n",
        "\n",
        "Utilizaremos los siguientes valores de parámetros:\n",
        "\n",
        "    sampling_rate = 6: Las observaciones se muestrearán a una tasa de un punto de datos por hora, es decir, conservaremos un punto de datos de cada 6.\n",
        "\n",
        "    sequence_length = 120: Las observaciones abarcarán un período de 5 días (120 horas). Cada secuencia contendrá 120 puntos de datos.\n",
        "\n",
        "    delay = sampling_rate * (sequence_length + 24 - 1): Esto se utiliza para determinar el objetivo de cada secuencia. El objetivo será la temperatura 24 horas después del final de la secuencia. El valor de delay se calcula en función de la tasa de muestreo y la longitud de la secuencia.\n",
        "\n",
        "Al crear el conjunto de datos de entrenamiento, pasaremos start_index = 0 y end_index = num_train_samples para utilizar solo el primer 50% de los datos. Para el conjunto de validación, pasaremos start_index = num_train_samples y end_index = num_train_samples + num_val_samples para utilizar el siguiente 25% de los datos. Finalmente, para el conjunto de pruebas, pasaremos start_index = num_train_samples + num_val_samples para utilizar las muestras restantes."
      ],
      "metadata": {
        "id": "0LI_Mac4eLBV"
      }
    },
    {
      "cell_type": "code",
      "source": [
        "raw_data[:-4]"
      ],
      "metadata": {
        "colab": {
          "base_uri": "https://localhost:8080/"
        },
        "id": "aGXcG3osvY9J",
        "outputId": "c324b6f2-71b0-4694-9ff9-d486ef846c9c"
      },
      "execution_count": 17,
      "outputs": [
        {
          "output_type": "execute_result",
          "data": {
            "text/plain": [
              "array([[ 0.91365151, -1.92064015, -1.97449272, ..., -0.73016651,\n",
              "        -0.77935289, -0.28119316],\n",
              "       [ 0.91953033, -1.96510495, -2.01848295, ..., -0.93230685,\n",
              "        -0.88696976, -0.46989368],\n",
              "       [ 0.91482727, -1.97650618, -2.0297625 , ..., -1.27790162,\n",
              "        -1.26147647, -0.05638329],\n",
              "       ...,\n",
              "       [ 1.3475084 , -1.43494776, -1.52443881, ..., -0.8214557 ,\n",
              "        -0.97306326,  0.5504869 ],\n",
              "       [ 1.33575076, -1.45432985, -1.54248609, ..., -1.03663735,\n",
              "        -1.1022035 ,  0.3047103 ],\n",
              "       [ 1.3310477 , -1.46801133, -1.5571495 , ..., -0.96491013,\n",
              "        -0.87836041,  0.74035224]])"
            ]
          },
          "metadata": {},
          "execution_count": 17
        }
      ]
    },
    {
      "cell_type": "code",
      "source": [
        "sampling_rate = 6\n",
        "sequence_length = 120\n",
        "delay = sampling_rate * (sequence_length + 24 - 1)\n",
        "batch_size = 256\n",
        "\n",
        "train_dataset = keras.utils.timeseries_dataset_from_array(\n",
        "     raw_data[:-delay],\n",
        "     targets=temperature[delay:],\n",
        "     sampling_rate=sampling_rate,\n",
        "     sequence_length=sequence_length,\n",
        "     shuffle=True,\n",
        "     batch_size=batch_size,\n",
        "     start_index=0,\n",
        "     end_index=num_train_samples)\n",
        "\n",
        "val_dataset = keras.utils.timeseries_dataset_from_array(\n",
        "    raw_data[:-delay],\n",
        "    targets=temperature[delay:],\n",
        "    sampling_rate=sampling_rate,\n",
        "    sequence_length=sequence_length,\n",
        "    shuffle=True,\n",
        "    batch_size=batch_size,\n",
        "    start_index=num_train_samples,\n",
        "    end_index=num_train_samples + num_val_samples)\n",
        "\n",
        "test_dataset = keras.utils.timeseries_dataset_from_array(\n",
        "    raw_data[:-delay], targets=temperature[delay:],\n",
        "    sampling_rate=sampling_rate,\n",
        "    sequence_length=sequence_length,\n",
        "    shuffle=True, batch_size=batch_size,\n",
        "    start_index=num_train_samples + num_val_samples)"
      ],
      "metadata": {
        "id": "vqkHvRk02mdk"
      },
      "execution_count": 18,
      "outputs": []
    },
    {
      "cell_type": "code",
      "source": [
        "n[1:]"
      ],
      "metadata": {
        "colab": {
          "base_uri": "https://localhost:8080/"
        },
        "id": "LxS3WumKhlDB",
        "outputId": "2ef798c8-822f-4b1f-e556-8903b2f5038d"
      },
      "execution_count": 19,
      "outputs": [
        {
          "output_type": "execute_result",
          "data": {
            "text/plain": [
              "array([[3, 4, 8],\n",
              "       [2, 6, 7]])"
            ]
          },
          "metadata": {},
          "execution_count": 19
        }
      ]
    },
    {
      "cell_type": "code",
      "source": [
        "n[:-2]"
      ],
      "metadata": {
        "colab": {
          "base_uri": "https://localhost:8080/"
        },
        "id": "v-tDdGn0hbLd",
        "outputId": "a7ee67c0-3bfb-4e94-c515-7145738d85f1"
      },
      "execution_count": 20,
      "outputs": [
        {
          "output_type": "execute_result",
          "data": {
            "text/plain": [
              "array([[1, 2, 3]])"
            ]
          },
          "metadata": {},
          "execution_count": 20
        }
      ]
    },
    {
      "cell_type": "markdown",
      "source": [
        "Cada conjunto de datos produce una tupla (muestras, objetivos), donde las muestras son un lote de 256 muestras, cada una conteniendo 120 horas consecutivas de datos de entrada, y los objetivos son el conjunto correspondiente de 256 temperaturas objetivo. Es importante tener en cuenta que las muestras se mezclan de forma aleatoria, por lo que dos secuencias consecutivas en un lote (como muestras[0] y muestras[1]) no necesariamente son cercanas en el tiempo en la secuencia original de datos."
      ],
      "metadata": {
        "id": "_ElGva_hj-gc"
      }
    },
    {
      "cell_type": "code",
      "source": [
        "for samples, targets in train_dataset:\n",
        "  print(\"samples shape:\", samples.shape)\n",
        "  print(\"targets shape:\", targets.shape)\n",
        "  break"
      ],
      "metadata": {
        "colab": {
          "base_uri": "https://localhost:8080/"
        },
        "id": "2fWgFwvtj9DA",
        "outputId": "96f55b68-2ddc-4151-f559-155db9c39270"
      },
      "execution_count": 21,
      "outputs": [
        {
          "output_type": "stream",
          "name": "stdout",
          "text": [
            "samples shape: (256, 120, 14)\n",
            "targets shape: (256,)\n"
          ]
        }
      ]
    },
    {
      "cell_type": "markdown",
      "source": [
        "# Probando modelos"
      ],
      "metadata": {
        "id": "VCrO8ETNjTKf"
      }
    },
    {
      "cell_type": "markdown",
      "source": [
        "## Secuencial"
      ],
      "metadata": {
        "id": "N9zoc-nzn0S-"
      }
    },
    {
      "cell_type": "markdown",
      "source": [
        "De la misma manera en que es útil establecer una línea base de sentido común antes de intentar enfoques de aprendizaje automático, es útil probar modelos de aprendizaje automático simples y económicos (como redes pequeñas densamente conectadas) antes de adentrarse en modelos complicados y computacionalmente costosos como las redes neuronales recurrentes (RNNs). Esta es la mejor manera de asegurarse de que cualquier complejidad adicional que se añada al problema sea legítima y aporte beneficios reales.\n",
        "\n",
        "El siguiente listado muestra un modelo completamente conectado que comienza por aplanar los datos y luego los pasa por dos capas densas. Observa la ausencia de una función de activación en la última capa densa, lo cual es típico para un problema de regresión. Utilizamos el error cuadrático medio (MSE) como función de pérdida en lugar del error absoluto medio (MAE) porque, a diferencia del MAE, el MSE es suave alrededor de cero, lo cual es una propiedad útil para el descenso de gradientes. Monitorearemos el MAE agregándolo como una métrica en la compilación del modelo"
      ],
      "metadata": {
        "id": "K70MV5Aotdgb"
      }
    },
    {
      "cell_type": "code",
      "source": [
        "raw_data.shape"
      ],
      "metadata": {
        "colab": {
          "base_uri": "https://localhost:8080/"
        },
        "id": "CS4WmkbguPT3",
        "outputId": "91239f16-ee39-47f6-ebf0-35d82711ec60"
      },
      "execution_count": 22,
      "outputs": [
        {
          "output_type": "execute_result",
          "data": {
            "text/plain": [
              "(420451, 14)"
            ]
          },
          "metadata": {},
          "execution_count": 22
        }
      ]
    },
    {
      "cell_type": "code",
      "source": [
        "raw_data.shape[-1]"
      ],
      "metadata": {
        "colab": {
          "base_uri": "https://localhost:8080/"
        },
        "id": "RlfzGjApuSMF",
        "outputId": "d5064ace-7d33-479c-98b1-18f43d133eb1"
      },
      "execution_count": 23,
      "outputs": [
        {
          "output_type": "execute_result",
          "data": {
            "text/plain": [
              "14"
            ]
          },
          "metadata": {},
          "execution_count": 23
        }
      ]
    },
    {
      "cell_type": "code",
      "source": [
        "from tensorflow import keras\n",
        "from tensorflow.keras import layers\n",
        "\n",
        "inputs = keras.Input(shape=(sequence_length, raw_data.shape[-1]))\n",
        "x = layers.Flatten()(inputs)\n",
        "x = layers.Dense(16, activation=\"relu\")(x)\n",
        "outputs = layers.Dense(1)(x)\n",
        "model1 = keras.Model(inputs, outputs)\n",
        "model1.compile(optimizer=\"rmsprop\", loss=\"mse\", metrics=[\"mae\"])\n",
        "\n",
        "history1 = model1.fit(train_dataset,epochs=10, validation_data=val_dataset)\n"
      ],
      "metadata": {
        "colab": {
          "base_uri": "https://localhost:8080/"
        },
        "id": "PksxZ3vPt7h2",
        "outputId": "eab72e77-b7f2-4405-b4f3-c5c6e9f8f981"
      },
      "execution_count": 40,
      "outputs": [
        {
          "output_type": "stream",
          "name": "stdout",
          "text": [
            "Epoch 1/10\n",
            "819/819 [==============================] - 49s 59ms/step - loss: 12.3193 - mae: 2.7109 - val_loss: 10.3200 - val_mae: 2.5389\n",
            "Epoch 2/10\n",
            "819/819 [==============================] - 42s 51ms/step - loss: 8.8630 - mae: 2.3433 - val_loss: 10.2211 - val_mae: 2.5119\n",
            "Epoch 3/10\n",
            "819/819 [==============================] - 39s 47ms/step - loss: 8.2001 - mae: 2.2545 - val_loss: 10.5121 - val_mae: 2.5555\n",
            "Epoch 4/10\n",
            "819/819 [==============================] - 38s 47ms/step - loss: 7.7953 - mae: 2.1986 - val_loss: 10.1494 - val_mae: 2.5061\n",
            "Epoch 5/10\n",
            "819/819 [==============================] - 39s 47ms/step - loss: 7.5075 - mae: 2.1604 - val_loss: 10.9683 - val_mae: 2.6082\n",
            "Epoch 6/10\n",
            "819/819 [==============================] - 39s 47ms/step - loss: 7.2580 - mae: 2.1258 - val_loss: 10.7994 - val_mae: 2.5904\n",
            "Epoch 7/10\n",
            "819/819 [==============================] - 48s 58ms/step - loss: 7.0492 - mae: 2.0941 - val_loss: 10.6493 - val_mae: 2.5776\n",
            "Epoch 8/10\n",
            "819/819 [==============================] - 47s 58ms/step - loss: 6.9069 - mae: 2.0734 - val_loss: 10.5460 - val_mae: 2.5676\n",
            "Epoch 9/10\n",
            "819/819 [==============================] - 48s 58ms/step - loss: 6.7882 - mae: 2.0545 - val_loss: 10.9997 - val_mae: 2.6335\n",
            "Epoch 10/10\n",
            "819/819 [==============================] - 38s 46ms/step - loss: 6.6740 - mae: 2.0365 - val_loss: 10.7203 - val_mae: 2.5861\n"
          ]
        }
      ]
    },
    {
      "cell_type": "code",
      "source": [
        "import matplotlib.pyplot as plt\n",
        "loss = history1.history[\"mae\"]\n",
        "val_loss = history1.history[\"val_mae\"]\n",
        "epochs = range(1, len(loss) + 1)\n",
        "plt.figure()\n",
        "plt.plot(epochs, loss, \"bo\", label=\"Training MAE\")\n",
        "plt.plot(epochs, val_loss, \"b\", label=\"Validation MAE\")\n",
        "plt.title(\"Training and validation MAE\")\n",
        "plt.legend()\n",
        "plt.show()"
      ],
      "metadata": {
        "colab": {
          "base_uri": "https://localhost:8080/",
          "height": 452
        },
        "id": "iPFB3sOc_isp",
        "outputId": "932ce7a4-e106-4fde-b449-7c45126e029a"
      },
      "execution_count": 43,
      "outputs": [
        {
          "output_type": "display_data",
          "data": {
            "text/plain": [
              "<Figure size 640x480 with 1 Axes>"
            ],
            "image/png": "[encoded data removed]"
          },
          "metadata": {}
        }
      ]
    },
    {
      "cell_type": "code",
      "source": [
        "print(f\"Test MAE: {model1.evaluate(test_dataset)[1]:.2f}\")"
      ],
      "metadata": {
        "colab": {
          "base_uri": "https://localhost:8080/"
        },
        "id": "Xt5ey-2NGyRD",
        "outputId": "0bc0bcd0-4c18-43c0-92ad-b43431709f9c"
      },
      "execution_count": 44,
      "outputs": [
        {
          "output_type": "stream",
          "name": "stdout",
          "text": [
            "405/405 [==============================] - 13s 32ms/step - loss: 11.6304 - mae: 2.6950\n",
            "Test MAE: 2.70\n"
          ]
        }
      ]
    },
    {
      "cell_type": "markdown",
      "source": [
        "Algunas de las pérdidas de validación se acercan a la línea de base de no aprendizaje, pero no de manera confiable. Esto demuestra el mérito de tener esta línea de base en primer lugar: resulta que no es fácil superarla. Tu sentido común contiene mucha información valiosa a la cual un modelo de aprendizaje automático no tiene acceso.\n",
        "\n",
        "Puede que te preguntes, si existe un modelo simple y eficaz para pasar de los datos a los objetivos (la línea de base de sentido común), ¿por qué el modelo que estás entrenando no lo encuentra y mejora? Bueno, el espacio de modelos en el cual estás buscando una solución, es decir, tu espacio de hipótesis, es el espacio de todas las posibles redes de dos capas con la configuración que has definido. La heurística de sentido común es solo un modelo entre millones que pueden representarse en este espacio. Es como buscar una aguja en un pajar. El simple hecho de que una buena solución exista técnicamente en tu espacio de hipótesis no garantiza que podrás encontrarla mediante el descenso de gradientes.\n",
        "\n",
        "Esta es una limitación significativa del aprendizaje automático en general: a menos que el algoritmo de aprendizaje esté programado para buscar un tipo específico de modelo simple, a veces puede fallar en encontrar una solución sencilla a un problema simple. Es por eso que es esencial aprovechar una buena ingeniería de características y prioridades de arquitectura relevantes: necesitas decirle precisamente a tu modelo qué debe buscar."
      ],
      "metadata": {
        "id": "yldYqWiWxm9D"
      }
    },
    {
      "cell_type": "markdown",
      "source": [
        "## Conv 1D"
      ],
      "metadata": {
        "id": "fQ9DK0n0jV0o"
      }
    },
    {
      "cell_type": "markdown",
      "source": [
        "Hablando de aprovechar las prioridades arquitectónicas correctas, dado que nuestras secuencias de entrada presentan ciclos diarios, tal vez un modelo de convolución podría funcionar. Un convolucional temporal podría reutilizar las mismas representaciones en diferentes días, de manera similar a cómo un convolucional espacial puede reutilizar las mismas representaciones en diferentes ubicaciones en una imagen.\n",
        "\n",
        "Ya conoces las capas Conv2D y SeparableConv2D, que ven sus entradas a través de pequeñas ventanas que se desplazan por cuadrículas 2D. También existen capas 1D e incluso Versiones en 3D de estas capas: Conv1D, SeparableConv1D y Conv3D. La capa Conv1D utiliza ventanas en 1D que se deslizan por secuencias de entrada, y la capa Conv3D utiliza ventanas cúbicas que se deslizan por volúmenes de entrada.\n",
        "\n",
        "Por lo tanto, puedes construir convnets en 1D, que son estrictamente análogas a las convnets en 2D. Son ideales para cualquier dato de secuencia que siga la suposición de invariancia a la translación (lo que significa que si deslizas una ventana sobre la secuencia, el contenido de la ventana debe seguir las mismas propiedades de manera independiente de la ubicación de la ventana).\n",
        "\n",
        "Intentemos utilizar una en nuestro problema de pronóstico de temperatura. Elegiremos una longitud inicial de ventana de 24, de modo que examinemos 24 horas de datos a la vez (un ciclo). A medida que reducimos el muestreo de las secuencias (a través de capas MaxPooling1D), reduciremos el tamaño de la ventana en consecuencia:"
      ],
      "metadata": {
        "id": "2pDqf43KCGK6"
      }
    },
    {
      "cell_type": "code",
      "source": [
        "inputs=keras.Input(shape=(sequence_length,raw_data.shape[-1]))\n",
        "x=layers.Conv1D(8,24,activation='relu')(inputs)\n",
        "x=layers.MaxPooling1D(2)(x)\n",
        "x=layers.Conv1D(8,12,activation='relu')(x)\n",
        "x=layers.MaxPooling1D(2)(x)\n",
        "x=layers.Conv1D(8,6,activation='relu')(x)\n",
        "x=layers.GlobalAveragePooling1D()(x)\n",
        "outputs= layers.Dense(1)(x)\n",
        "model2=keras.Model(inputs,outputs)\n",
        "\n",
        "model2.compile(optimizer='rmsprop',loss='mse',metrics=['mae'])\n",
        "history2=model2.fit(train_dataset,epochs=10,validation_data=val_dataset)"
      ],
      "metadata": {
        "colab": {
          "base_uri": "https://localhost:8080/"
        },
        "id": "gJOhclfRCaNk",
        "outputId": "637b0894-c81b-4814-9b1d-b8b1fb505688"
      },
      "execution_count": 45,
      "outputs": [
        {
          "output_type": "stream",
          "name": "stdout",
          "text": [
            "Epoch 1/10\n",
            "819/819 [==============================] - 50s 59ms/step - loss: 22.2193 - mae: 3.7141 - val_loss: 17.6852 - val_mae: 3.3039\n",
            "Epoch 2/10\n",
            "819/819 [==============================] - 48s 59ms/step - loss: 15.6587 - mae: 3.1377 - val_loss: 15.2198 - val_mae: 3.0862\n",
            "Epoch 3/10\n",
            "819/819 [==============================] - 40s 49ms/step - loss: 13.5014 - mae: 2.9023 - val_loss: 15.9152 - val_mae: 3.1443\n",
            "Epoch 4/10\n",
            "819/819 [==============================] - 49s 60ms/step - loss: 12.5190 - mae: 2.7916 - val_loss: 14.8529 - val_mae: 3.0520\n",
            "Epoch 5/10\n",
            "819/819 [==============================] - 39s 48ms/step - loss: 11.7852 - mae: 2.7072 - val_loss: 15.8900 - val_mae: 3.1604\n",
            "Epoch 6/10\n",
            "819/819 [==============================] - 50s 61ms/step - loss: 11.2444 - mae: 2.6455 - val_loss: 16.2769 - val_mae: 3.2095\n",
            "Epoch 7/10\n",
            "819/819 [==============================] - 49s 60ms/step - loss: 10.8211 - mae: 2.5965 - val_loss: 17.7363 - val_mae: 3.3386\n",
            "Epoch 8/10\n",
            "819/819 [==============================] - 40s 49ms/step - loss: 10.4791 - mae: 2.5541 - val_loss: 16.2688 - val_mae: 3.2082\n",
            "Epoch 9/10\n",
            "819/819 [==============================] - 41s 50ms/step - loss: 10.2102 - mae: 2.5219 - val_loss: 15.6612 - val_mae: 3.1384\n",
            "Epoch 10/10\n",
            "819/819 [==============================] - 39s 48ms/step - loss: 9.9590 - mae: 2.4892 - val_loss: 14.9988 - val_mae: 3.0699\n"
          ]
        }
      ]
    },
    {
      "cell_type": "code",
      "source": [
        "import matplotlib.pyplot as plt\n",
        "loss = history2.history[\"mae\"]\n",
        "val_loss = history2.history[\"val_mae\"]\n",
        "epochs = range(1, len(loss) + 1)\n",
        "plt.figure()\n",
        "plt.plot(epochs, loss, \"bo\", label=\"Training MAE\")\n",
        "plt.plot(epochs, val_loss, \"b\", label=\"Validation MAE\")\n",
        "plt.title(\"Training and validation MAE\")\n",
        "plt.legend()\n",
        "plt.show()"
      ],
      "metadata": {
        "colab": {
          "base_uri": "https://localhost:8080/",
          "height": 452
        },
        "id": "ZuxWolzYF1Il",
        "outputId": "70aef2d2-c9ae-47a2-bb49-f9c2a2cf067f"
      },
      "execution_count": 46,
      "outputs": [
        {
          "output_type": "display_data",
          "data": {
            "text/plain": [
              "<Figure size 640x480 with 1 Axes>"
            ],
            "image/png": "[encoded data removed]"
          },
          "metadata": {}
        }
      ]
    },
    {
      "cell_type": "code",
      "source": [
        "print(f\"Test MAE: {model2.evaluate(test_dataset)[1]:.2f}\")"
      ],
      "metadata": {
        "colab": {
          "base_uri": "https://localhost:8080/"
        },
        "id": "IHGYaZqgGm4i",
        "outputId": "21418c61-52a6-45d9-aaee-209f94f911e3"
      },
      "execution_count": 34,
      "outputs": [
        {
          "output_type": "stream",
          "name": "stdout",
          "text": [
            "405/405 [==============================] - 13s 33ms/step - loss: 15.2122 - mae: 3.1098\n",
            "Test MAE: 3.11\n"
          ]
        }
      ]
    },
    {
      "cell_type": "markdown",
      "source": [
        "Resulta que este modelo funciona aún peor que el modelo densamente conectado, logrando solo un MAE de validación de aproximadamente 2.9 grados, lejos del valor de referencia del sentido común. ¿Qué salió mal aquí? Dos cosas:\n",
        "\n",
        "En primer lugar, los datos meteorológicos no respetan completamente la suposición de invariancia a la translación. Si bien los datos muestran ciclos diarios, los datos de la mañana tienen propiedades diferentes a los de la tarde o de la mitad de la noche. Los datos meteorológicos solo son invariantes a la translación en una escala de tiempo muy específica.\n",
        "\n",
        "En segundo lugar, el orden de nuestros datos importa, y mucho. El pasado reciente es mucho más informativo para predecir la temperatura del día siguiente que los datos de hace cinco días. Un convnet en 1D no puede aprovechar este hecho. En particular, nuestras capas de max pooling y global average pooling están destruyendo en gran medida la información de orden."
      ],
      "metadata": {
        "id": "aD9_5m4BF1U7"
      }
    },
    {
      "cell_type": "markdown",
      "source": [
        "## Redes Recurrentes"
      ],
      "metadata": {
        "id": "inHnZV5IHGVA"
      }
    },
    {
      "cell_type": "markdown",
      "source": [
        "Ni el enfoque completamente conectado ni el enfoque convolucional funcionaron bien, pero eso no significa que el aprendizaje automático no sea aplicable a este problema. El enfoque densamente conectado primero aplanó la serie temporal, lo que eliminó la noción de tiempo de los datos de entrada. El enfoque convolucional trató cada segmento de los datos de la misma manera, incluso aplicando el agrupamiento, lo que destruyó la información de orden. En su lugar, veamos los datos tal como son: una secuencia en la que la causalidad y el orden importan.\n",
        "\n",
        "Existe una familia de arquitecturas de redes neuronales diseñadas específicamente para este caso de uso: las redes neuronales recurrentes. Entre ellas, la capa Long Short Term Memory (LSTM) ha sido muy popular durante mucho tiempo. Veremos en un momento cómo funcionan estos modelos, pero empecemos probando la capa LSTM.\n"
      ],
      "metadata": {
        "id": "jXLk5Xf1Ha-I"
      }
    },
    {
      "cell_type": "code",
      "source": [
        "inputs=keras.Input(shape=(sequence_length,raw_data.shape[-1]))\n",
        "x=layers.LSTM(16)(inputs)\n",
        "outputs=layers.Dense(1)(x)\n",
        "model3=keras.Model(inputs,outputs)\n",
        "model3.compile(optimizer='rmsprop',loss='mse',metrics=['mae'])\n",
        "history3=model3.fit(train_dataset,epochs=10,validation_data=val_dataset)\n"
      ],
      "metadata": {
        "colab": {
          "base_uri": "https://localhost:8080/"
        },
        "id": "kohgbHK1HJfh",
        "outputId": "f032e443-5e47-4a13-85af-8b0493812c1b"
      },
      "execution_count": 47,
      "outputs": [
        {
          "output_type": "stream",
          "name": "stdout",
          "text": [
            "Epoch 1/10\n",
            "819/819 [==============================] - 54s 63ms/step - loss: 42.7164 - mae: 4.7620 - val_loss: 12.8119 - val_mae: 2.7187\n",
            "Epoch 2/10\n",
            "819/819 [==============================] - 43s 52ms/step - loss: 11.2451 - mae: 2.6026 - val_loss: 9.8384 - val_mae: 2.4420\n",
            "Epoch 3/10\n",
            "819/819 [==============================] - 41s 50ms/step - loss: 9.9309 - mae: 2.4530 - val_loss: 9.6097 - val_mae: 2.4099\n",
            "Epoch 4/10\n",
            "819/819 [==============================] - 51s 62ms/step - loss: 9.3735 - mae: 2.3884 - val_loss: 9.7725 - val_mae: 2.4181\n",
            "Epoch 5/10\n",
            "819/819 [==============================] - 43s 52ms/step - loss: 8.8744 - mae: 2.3243 - val_loss: 9.6501 - val_mae: 2.4037\n",
            "Epoch 6/10\n",
            "819/819 [==============================] - 50s 61ms/step - loss: 8.4969 - mae: 2.2731 - val_loss: 10.0198 - val_mae: 2.4488\n",
            "Epoch 7/10\n",
            "819/819 [==============================] - 42s 51ms/step - loss: 8.2727 - mae: 2.2401 - val_loss: 10.1502 - val_mae: 2.4712\n",
            "Epoch 8/10\n",
            "819/819 [==============================] - 43s 53ms/step - loss: 8.0227 - mae: 2.2059 - val_loss: 9.7694 - val_mae: 2.4368\n",
            "Epoch 9/10\n",
            "819/819 [==============================] - 42s 51ms/step - loss: 7.8791 - mae: 2.1848 - val_loss: 10.1321 - val_mae: 2.4745\n",
            "Epoch 10/10\n",
            "819/819 [==============================] - 41s 50ms/step - loss: 7.7711 - mae: 2.1700 - val_loss: 9.9207 - val_mae: 2.4577\n",
            "405/405 [==============================] - 13s 32ms/step - loss: 10.8106 - mae: 2.5884\n",
            "Test MAE: 2.59\n"
          ]
        }
      ]
    },
    {
      "cell_type": "code",
      "source": [
        "import matplotlib.pyplot as plt\n",
        "loss = history3.history[\"mae\"]\n",
        "val_loss = history3.history[\"val_mae\"]\n",
        "epochs = range(1, len(loss) + 1)\n",
        "plt.figure()\n",
        "plt.plot(epochs, loss, \"bo\", label=\"Training MAE\")\n",
        "plt.plot(epochs, val_loss, \"b\", label=\"Validation MAE\")\n",
        "plt.title(\"Training and validation MAE\")\n",
        "plt.legend()\n",
        "plt.show()"
      ],
      "metadata": {
        "colab": {
          "base_uri": "https://localhost:8080/",
          "height": 452
        },
        "id": "ui6gNjbwK2r3",
        "outputId": "0b25d2ea-5874-4334-a97c-4b5ac4dd7993"
      },
      "execution_count": 48,
      "outputs": [
        {
          "output_type": "display_data",
          "data": {
            "text/plain": [
              "<Figure size 640x480 with 1 Axes>"
            ],
            "image/png": "[encoded data removed]"
          },
          "metadata": {}
        }
      ]
    },
    {
      "cell_type": "code",
      "source": [
        "print(f'Test MAE: {model3.evaluate(test_dataset)[1]:.2f}')"
      ],
      "metadata": {
        "colab": {
          "base_uri": "https://localhost:8080/"
        },
        "id": "uHO0RzZVSHHy",
        "outputId": "d9b4253a-818a-402a-e111-ab5f22628953"
      },
      "execution_count": 49,
      "outputs": [
        {
          "output_type": "stream",
          "name": "stdout",
          "text": [
            "405/405 [==============================] - 14s 33ms/step - loss: 10.8106 - mae: 2.5884\n",
            "Test MAE: 2.59\n"
          ]
        }
      ]
    },
    {
      "cell_type": "markdown",
      "source": [
        "¡Mucho mejor! Logramos un MAE de validación tan bajo como 2.36 grados y un MAE de prueba de 2.55 grados. El modelo basado en LSTM finalmente puede superar el valor de referencia del sentido común (aunque solo un poco, por ahora), lo que demuestra el valor del aprendizaje automático en esta tarea.\n"
      ],
      "metadata": {
        "id": "keQz9k2xK27o"
      }
    }
  ]
}