{
  "nbformat": 4,
  "nbformat_minor": 0,
  "metadata": {
    "colab": {
      "provenance": [],
      "include_colab_link": true
    },
    "kernelspec": {
      "name": "python3",
      "display_name": "Python 3"
    },
    "language_info": {
      "name": "python"
    }
  },
  "cells": [
    {
      "cell_type": "markdown",
      "metadata": {
        "id": "view-in-github",
        "colab_type": "text"
      },
      "source": [
        "<a href=\"https://colab.research.google.com/github/HilbertN/Redes_Neuronales/blob/main/RN20_Pron%C3%B3sticoTempTarea.ipynb\" target=\"_parent\"><img src=\"https://colab.research.google.com/assets/colab-badge.svg\" alt=\"Open In Colab\"/></a>"
      ]
    },
    {
      "cell_type": "code",
      "source": [
        "from tensorflow import keras\n",
        "import numpy as np"
      ],
      "metadata": {
        "id": "Fc7U0jD71kRI"
      },
      "execution_count": 1,
      "outputs": []
    },
    {
      "cell_type": "markdown",
      "source": [
        "Obtenemos los datos y descomprimimos"
      ],
      "metadata": {
        "id": "YXkv7DAEQD32"
      }
    },
    {
      "cell_type": "code",
      "execution_count": 2,
      "metadata": {
        "id": "n1jX2GInMnYu",
        "colab": {
          "base_uri": "https://localhost:8080/"
        },
        "outputId": "a984be4a-e00d-4798-dcce-7a9396dcf602"
      },
      "outputs": [
        {
          "output_type": "stream",
          "name": "stdout",
          "text": [
            "--2023-11-02 23:42:26--  https://s3.amazonaws.com/keras-datasets/jena_climate_2009_2016.csv.zip\n",
            "Resolving s3.amazonaws.com (s3.amazonaws.com)... 52.216.138.213, 54.231.230.96, 52.217.90.22, ...\n",
            "Connecting to s3.amazonaws.com (s3.amazonaws.com)|52.216.138.213|:443... connected.\n",
            "HTTP request sent, awaiting response... 200 OK\n",
            "Length: 13565642 (13M) [application/zip]\n",
            "Saving to: ‘jena_climate_2009_2016.csv.zip’\n",
            "\n",
            "jena_climate_2009_2 100%[===================>]  12.94M  56.6MB/s    in 0.2s    \n",
            "\n",
            "2023-11-02 23:42:27 (56.6 MB/s) - ‘jena_climate_2009_2016.csv.zip’ saved [13565642/13565642]\n",
            "\n",
            "Archive:  jena_climate_2009_2016.csv.zip\n",
            "  inflating: jena_climate_2009_2016.csv  \n",
            "  inflating: __MACOSX/._jena_climate_2009_2016.csv  \n"
          ]
        }
      ],
      "source": [
        "!wget https://s3.amazonaws.com/keras-datasets/jena_climate_2009_2016.csv.zip\n",
        "!unzip jena_climate_2009_2016.csv.zip"
      ]
    },
    {
      "cell_type": "markdown",
      "source": [
        "# Preparación de los datos"
      ],
      "metadata": {
        "id": "93LRW8KCjPYX"
      }
    },
    {
      "cell_type": "markdown",
      "source": [
        "Imprimimos los encabezados y separamos los datos del encabezado"
      ],
      "metadata": {
        "id": "e5eQyyGQQTL5"
      }
    },
    {
      "cell_type": "code",
      "source": [
        "import os\n",
        "fname = os.path.join(\"jena_climate_2009_2016.csv\")\n",
        "with open(fname) as f:\n",
        "   data = f.read()\n",
        "\n",
        "lines = data.split(\"\\n\")\n",
        "#Esto es útil para dividir un bloque de texto en líneas individuales,\n",
        "# lo que es comúnmente necesario cuando se trabaja con datos de texto, como un archivo CSV o un archivo de registro.\n",
        "header = lines[0].split(\",\")\n",
        "lines = lines[1:]\n",
        "print(header)\n",
        "print(len(lines))"
      ],
      "metadata": {
        "colab": {
          "base_uri": "https://localhost:8080/"
        },
        "id": "wJ0pkp-fNA3w",
        "outputId": "626942b8-800b-4ae2-f60d-52428edf4c28"
      },
      "execution_count": 3,
      "outputs": [
        {
          "output_type": "stream",
          "name": "stdout",
          "text": [
            "['\"Date Time\"', '\"p (mbar)\"', '\"T (degC)\"', '\"Tpot (K)\"', '\"Tdew (degC)\"', '\"rh (%)\"', '\"VPmax (mbar)\"', '\"VPact (mbar)\"', '\"VPdef (mbar)\"', '\"sh (g/kg)\"', '\"H2OC (mmol/mol)\"', '\"rho (g/m**3)\"', '\"wv (m/s)\"', '\"max. wv (m/s)\"', '\"wd (deg)\"']\n",
            "420451\n"
          ]
        }
      ]
    },
    {
      "cell_type": "markdown",
      "source": [
        "Separamos datos de temperatura y los demás"
      ],
      "metadata": {
        "id": "LwbGn_f0Rp__"
      }
    },
    {
      "cell_type": "code",
      "source": [
        "import numpy as np\n",
        "temperature = np.zeros((len(lines),))\n",
        "raw_data = np.zeros((len(lines), len(header) - 1))\n",
        "for i, line in enumerate(lines):\n",
        "  values = [float(x) for x in line.split(\",\")[1:]]\n",
        "  temperature[i] = values[1]\n",
        "  raw_data[i, :] = values[:]"
      ],
      "metadata": {
        "id": "MEBbR0qzNnpq"
      },
      "execution_count": 4,
      "outputs": []
    },
    {
      "cell_type": "code",
      "source": [
        "raw_data[0,:]"
      ],
      "metadata": {
        "colab": {
          "base_uri": "https://localhost:8080/"
        },
        "id": "rQMXf_4ka1bR",
        "outputId": "cf087faa-3f07-4146-9219-2d323833b40e"
      },
      "execution_count": 8,
      "outputs": [
        {
          "output_type": "execute_result",
          "data": {
            "text/plain": [
              "array([ 9.96520e+02, -8.02000e+00,  2.65400e+02, -8.90000e+00,\n",
              "        9.33000e+01,  3.33000e+00,  3.11000e+00,  2.20000e-01,\n",
              "        1.94000e+00,  3.12000e+00,  1.30775e+03,  1.03000e+00,\n",
              "        1.75000e+00,  1.52300e+02])"
            ]
          },
          "metadata": {},
          "execution_count": 8
        }
      ]
    },
    {
      "cell_type": "markdown",
      "source": [
        "Graficamos la serie de tiempo de temperaturas"
      ],
      "metadata": {
        "id": "4jbF-3YoRybL"
      }
    },
    {
      "cell_type": "code",
      "source": [
        "from matplotlib import pyplot as plt\n",
        "plt.plot(range(len(temperature)), temperature)"
      ],
      "metadata": {
        "colab": {
          "base_uri": "https://localhost:8080/",
          "height": 453
        },
        "id": "EaP2UcI5P8fD",
        "outputId": "fe054536-9cf4-40b2-993a-5b30439190d0"
      },
      "execution_count": 5,
      "outputs": [
        {
          "output_type": "execute_result",
          "data": {
            "text/plain": [
              "[<matplotlib.lines.Line2D at 0x7d77981720e0>]"
            ]
          },
          "metadata": {},
          "execution_count": 5
        },
        {
          "output_type": "display_data",
          "data": {
            "text/plain": [
              "<Figure size 640x480 with 1 Axes>"
            ],
            "image/png": "[encoded data removed]"
          },
          "metadata": {}
        }
      ]
    },
    {
      "cell_type": "markdown",
      "source": [
        "Los datos son tomados cada 10 minutos. Tienen mucha resolución!!. Por ejemplo, podemos graficar los primeros diez días. 24x6=144 <- Es el número de datos correspondiente a un día."
      ],
      "metadata": {
        "id": "X-Hx-8s-R-oB"
      }
    },
    {
      "cell_type": "code",
      "source": [
        "plt.plot(range(144), temperature[:144])"
      ],
      "metadata": {
        "colab": {
          "base_uri": "https://localhost:8080/",
          "height": 449
        },
        "id": "7jPtR3WASVBv",
        "outputId": "e2631495-c57a-424d-d2e0-2d189d5065fc"
      },
      "execution_count": 6,
      "outputs": [
        {
          "output_type": "execute_result",
          "data": {
            "text/plain": [
              "[<matplotlib.lines.Line2D at 0x7d7797152680>]"
            ]
          },
          "metadata": {},
          "execution_count": 6
        },
        {
          "output_type": "display_data",
          "data": {
            "text/plain": [
              "<Figure size 640x480 with 1 Axes>"
            ],
            "image/png": "[encoded data removed]"
          },
          "metadata": {}
        }
      ]
    },
    {
      "cell_type": "markdown",
      "source": [
        "\n",
        "\n",
        "1.   Genera secuencias x para entrenamiento (50%), validación (25%) y prueba (25%) de 120 elementos de longitud a partir de los datos de temperatura.\n",
        "Aquí hay un ejemplo de una forma de lograrlo para generar un conjunto de secuencias:\n",
        "\n"
      ],
      "metadata": {
        "id": "FiuI7o_ySyCZ"
      }
    },
    {
      "cell_type": "markdown",
      "source": [
        "Calculamos los tamaños de muestra para datos de entrenamiento, validación y prueba."
      ],
      "metadata": {
        "id": "VFNkFuKjxbxI"
      }
    },
    {
      "cell_type": "code",
      "source": [
        "num_train_samples = int(0.5 * len(raw_data))\n",
        "num_val_samples = int(0.25 * len(raw_data))\n",
        "num_test_samples = len(raw_data) - num_train_samples - num_val_samples\n",
        "print(\"num_train_samples:\", num_train_samples)\n",
        "print(\"num_val_samples:\", num_val_samples)\n",
        "print(\"num_test_samples:\", num_test_samples)"
      ],
      "metadata": {
        "colab": {
          "base_uri": "https://localhost:8080/"
        },
        "id": "O7oWFcVfv36h",
        "outputId": "08b48459-d221-4ec8-9f74-d0553217ef8e"
      },
      "execution_count": 7,
      "outputs": [
        {
          "output_type": "stream",
          "name": "stdout",
          "text": [
            "num_train_samples: 210225\n",
            "num_val_samples: 105112\n",
            "num_test_samples: 105114\n"
          ]
        }
      ]
    },
    {
      "cell_type": "markdown",
      "source": [
        "La formulación exacta del problema será la siguiente: dada una serie de datos que cubre los últimos cinco días y se muestrea una vez por hora, ¿podemos predecir la temperatura en 24 horas?\n",
        "\n",
        "Primero, vamos a preprocesar los datos a un formato que una red neuronal pueda procesar. Esto es fácil: los datos ya son numéricos, por lo que no necesitas hacer ninguna vectorización. Sin embargo, cada serie temporal en los datos está en una escala diferente (por ejemplo, la presión atmosférica, medida en mbar, está alrededor de 1,000, mientras que H2OC, medida en milimoles por mol, está alrededor de 3). Normalizaremos cada serie temporal de manera independiente para que todas tengan valores pequeños en una escala similar. Utilizaremos los primeros 210,225 pasos de tiempo como datos de entrenamiento, por lo que calcularemos la media y la desviación estándar solo en esta fracción de los datos."
      ],
      "metadata": {
        "id": "TFUtObZyyLY1"
      }
    },
    {
      "cell_type": "code",
      "source": [
        "mean = raw_data[:num_train_samples].mean(axis=0)\n",
        "raw_data -= mean\n",
        "std = raw_data[:num_train_samples].std(axis=0)\n",
        "raw_data /= std"
      ],
      "metadata": {
        "id": "2en-ASH_ynVw"
      },
      "execution_count": 9,
      "outputs": []
    },
    {
      "cell_type": "code",
      "source": [
        "n=np.array([[1,2,3],[3,4,8],[2,6,7]])\n",
        "n"
      ],
      "metadata": {
        "colab": {
          "base_uri": "https://localhost:8080/"
        },
        "id": "y9qzAmXbyt3_",
        "outputId": "7ca30385-f2a4-48c8-9359-bf1b52d54b7b"
      },
      "execution_count": 10,
      "outputs": [
        {
          "output_type": "execute_result",
          "data": {
            "text/plain": [
              "array([[1, 2, 3],\n",
              "       [3, 4, 8],\n",
              "       [2, 6, 7]])"
            ]
          },
          "metadata": {},
          "execution_count": 10
        }
      ]
    },
    {
      "cell_type": "code",
      "source": [
        "n[:2]"
      ],
      "metadata": {
        "colab": {
          "base_uri": "https://localhost:8080/"
        },
        "id": "kAD-VcKCy_Et",
        "outputId": "4aae4914-a11f-46cd-9adb-56da8ebe9191"
      },
      "execution_count": 11,
      "outputs": [
        {
          "output_type": "execute_result",
          "data": {
            "text/plain": [
              "array([[1, 2, 3],\n",
              "       [3, 4, 8]])"
            ]
          },
          "metadata": {},
          "execution_count": 11
        }
      ]
    },
    {
      "cell_type": "code",
      "source": [
        "n[:2].mean(axis=0)"
      ],
      "metadata": {
        "colab": {
          "base_uri": "https://localhost:8080/"
        },
        "id": "zrULmmWCy2ft",
        "outputId": "c8627ed4-1298-48fb-db1e-5f1b599996e2"
      },
      "execution_count": 12,
      "outputs": [
        {
          "output_type": "execute_result",
          "data": {
            "text/plain": [
              "array([2. , 3. , 5.5])"
            ]
          },
          "metadata": {},
          "execution_count": 12
        }
      ]
    },
    {
      "cell_type": "markdown",
      "source": [
        "A continuación, creemos un objeto de conjunto de datos (Dataset) que genere lotes de datos de los últimos cinco días junto con la temperatura objetivo 24 horas en el futuro. Dado que las muestras en el conjunto de datos son altamente redundantes (la muestra N y la muestra N + 1 tendrán la mayoría de sus pasos de tiempo en común), sería un desperdicio de memoria asignar explícitamente memoria para cada muestra. En su lugar, generaremos las muestras sobre la marcha mientras mantenemos en memoria solo los arreglos originales de raw_data y temperatura, y nada más.\n",
        "\n",
        "Podríamos escribir fácilmente un generador en Python para hacer esto, pero Keras tiene una utilidad de conjunto de datos incorporada que hace justamente eso (timeseries_dataset_from_array()), por lo que podemos ahorrarnos algo de trabajo utilizando esta función. Por lo general, puedes usarla para cualquier tipo de tarea de pronóstico de series temporales."
      ],
      "metadata": {
        "id": "eacPDz0h0nTa"
      }
    },
    {
      "cell_type": "code",
      "source": [
        "\n",
        "int_sequence = np.arange(10) #Generamos un array de enteros del 0 al 9\n",
        "dataset = keras.utils.timeseries_dataset_from_array(\n",
        "    data=int_sequence[:-3],    #secuencia para valores de x\n",
        "    targets = int_sequence[3:], #secuencia para extraer los valores y\n",
        "    sequence_length=3, #tamano de las secuencias x\n",
        "    batch_size=2,  #cada vez que se llame \"dataset\" nos regresara un batch de 2 secuencias\n",
        ")\n",
        "\n",
        "\n",
        "for inputs, targets in dataset:\n",
        "  print(\"series x\")\n",
        "  print(inputs)\n",
        "  print(\"y\")\n",
        "  print(targets)"
      ],
      "metadata": {
        "colab": {
          "base_uri": "https://localhost:8080/"
        },
        "id": "e2tmYBNx1Nyc",
        "outputId": "7bf9aacf-9247-478d-af4c-af0880da7794"
      },
      "execution_count": 24,
      "outputs": [
        {
          "output_type": "stream",
          "name": "stdout",
          "text": [
            "series x\n",
            "tf.Tensor(\n",
            "[[0 1 2]\n",
            " [1 2 3]], shape=(2, 3), dtype=int64)\n",
            "y\n",
            "tf.Tensor([3 4], shape=(2,), dtype=int64)\n",
            "series x\n",
            "tf.Tensor(\n",
            "[[2 3 4]\n",
            " [3 4 5]], shape=(2, 3), dtype=int64)\n",
            "y\n",
            "tf.Tensor([5 6], shape=(2,), dtype=int64)\n",
            "series x\n",
            "tf.Tensor([[4 5 6]], shape=(1, 3), dtype=int64)\n",
            "y\n",
            "tf.Tensor([7], shape=(1,), dtype=int64)\n"
          ]
        }
      ]
    },
    {
      "cell_type": "code",
      "source": [
        "inputs.shape"
      ],
      "metadata": {
        "colab": {
          "base_uri": "https://localhost:8080/"
        },
        "id": "UTj-GyDrc-yZ",
        "outputId": "da53bf89-d08c-4bca-bab9-76be517293b2"
      },
      "execution_count": 17,
      "outputs": [
        {
          "output_type": "execute_result",
          "data": {
            "text/plain": [
              "TensorShape([1, 3])"
            ]
          },
          "metadata": {},
          "execution_count": 17
        }
      ]
    },
    {
      "cell_type": "markdown",
      "source": [
        "O bien, si queremos visualizar de forma mas ordenada"
      ],
      "metadata": {
        "id": "nhgensAO1UoQ"
      }
    },
    {
      "cell_type": "code",
      "source": [
        "for inputs, targets in dataset:\n",
        "   for i in range(inputs.shape[0]):\n",
        "     print([int(x) for x in inputs[i]], int(targets[i]))"
      ],
      "metadata": {
        "colab": {
          "base_uri": "https://localhost:8080/"
        },
        "id": "SPL5DrLf1Tym",
        "outputId": "c6523ca0-c3b9-45ca-9fc8-0ee0dee52405"
      },
      "execution_count": 14,
      "outputs": [
        {
          "output_type": "stream",
          "name": "stdout",
          "text": [
            "[0, 1, 2] 3\n",
            "[1, 2, 3] 4\n",
            "[2, 3, 4] 5\n",
            "[3, 4, 5] 6\n",
            "[4, 5, 6] 7\n"
          ]
        }
      ]
    },
    {
      "cell_type": "markdown",
      "source": [
        "Utilizaremos timeseries_dataset_from_array() para crear tres conjuntos de datos: uno para entrenamiento, otro para validación y uno más para pruebas.\n",
        "\n",
        "Utilizaremos los siguientes valores de parámetros:\n",
        "\n",
        "    sampling_rate = 6: Las observaciones se muestrearán a una tasa de un punto de datos por hora, es decir, conservaremos un punto de datos de cada 6.\n",
        "\n",
        "    sequence_length = 120: Las observaciones abarcarán un período de 5 días (120 horas). Cada secuencia contendrá 120 puntos de datos.\n",
        "\n",
        "    delay = sampling_rate * (sequence_length + 24 - 1): Esto se utiliza para determinar el objetivo de cada secuencia. El objetivo será la temperatura 24 horas después del final de la secuencia. El valor de delay se calcula en función de la tasa de muestreo y la longitud de la secuencia.\n",
        "\n",
        "Al crear el conjunto de datos de entrenamiento, pasaremos start_index = 0 y end_index = num_train_samples para utilizar solo el primer 50% de los datos. Para el conjunto de validación, pasaremos start_index = num_train_samples y end_index = num_train_samples + num_val_samples para utilizar el siguiente 25% de los datos. Finalmente, para el conjunto de pruebas, pasaremos start_index = num_train_samples + num_val_samples para utilizar las muestras restantes."
      ],
      "metadata": {
        "id": "0LI_Mac4eLBV"
      }
    },
    {
      "cell_type": "code",
      "source": [
        "sampling_rate = 6\n",
        "sequence_length = 120\n",
        "delay = sampling_rate * (sequence_length + 24 - 1)\n",
        "batch_size = 256\n",
        "\n",
        "train_dataset = keras.utils.timeseries_dataset_from_array(\n",
        "     raw_data[:-delay],\n",
        "     targets=temperature[delay:],\n",
        "     sampling_rate=sampling_rate,\n",
        "     sequence_length=sequence_length,\n",
        "     shuffle=True,\n",
        "     batch_size=batch_size,\n",
        "     start_index=0,\n",
        "     end_index=num_train_samples)\n",
        "\n",
        "val_dataset = keras.utils.timeseries_dataset_from_array(\n",
        "    raw_data[:-delay],\n",
        "    targets=temperature[delay:],\n",
        "    sampling_rate=sampling_rate,\n",
        "    sequence_length=sequence_length,\n",
        "    shuffle=True,\n",
        "    batch_size=batch_size,\n",
        "    start_index=num_train_samples,\n",
        "    end_index=num_train_samples + num_val_samples)\n",
        "\n",
        "test_dataset = keras.utils.timeseries_dataset_from_array(\n",
        "    raw_data[:-delay], targets=temperature[delay:],\n",
        "    sampling_rate=sampling_rate,\n",
        "    sequence_length=sequence_length,\n",
        "    shuffle=True, batch_size=batch_size,\n",
        "    start_index=num_train_samples + num_val_samples)"
      ],
      "metadata": {
        "id": "vqkHvRk02mdk"
      },
      "execution_count": 18,
      "outputs": []
    },
    {
      "cell_type": "code",
      "source": [
        "n[1:]"
      ],
      "metadata": {
        "colab": {
          "base_uri": "https://localhost:8080/"
        },
        "id": "LxS3WumKhlDB",
        "outputId": "3494e363-9b08-4c27-d66b-9f8118546ac2"
      },
      "execution_count": 22,
      "outputs": [
        {
          "output_type": "execute_result",
          "data": {
            "text/plain": [
              "array([[3, 4, 8],\n",
              "       [2, 6, 7]])"
            ]
          },
          "metadata": {},
          "execution_count": 22
        }
      ]
    },
    {
      "cell_type": "code",
      "source": [
        "n[:-1]"
      ],
      "metadata": {
        "colab": {
          "base_uri": "https://localhost:8080/"
        },
        "id": "v-tDdGn0hbLd",
        "outputId": "c67d4843-2922-4206-aa17-19bbd55efbae"
      },
      "execution_count": 21,
      "outputs": [
        {
          "output_type": "execute_result",
          "data": {
            "text/plain": [
              "array([[1, 2, 3],\n",
              "       [3, 4, 8]])"
            ]
          },
          "metadata": {},
          "execution_count": 21
        }
      ]
    },
    {
      "cell_type": "markdown",
      "source": [
        "El reto en el código de arriba es simplemente calcular los valores de start_index y end_idex para obtener el número de secuencias x desadas."
      ],
      "metadata": {
        "id": "1EGljcmv27jb"
      }
    },
    {
      "cell_type": "markdown",
      "source": [
        "# Probando modelos"
      ],
      "metadata": {
        "id": "VCrO8ETNjTKf"
      }
    },
    {
      "cell_type": "markdown",
      "source": [
        "# Conv 1D"
      ],
      "metadata": {
        "id": "fQ9DK0n0jV0o"
      }
    }
  ]
}